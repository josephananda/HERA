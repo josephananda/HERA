{
  "nbformat": 4,
  "nbformat_minor": 0,
  "metadata": {
    "colab": {
      "provenance": [],
      "collapsed_sections": [
        "1VHZoIx3GZb_",
        "-3SvsNz3DiIo",
        "Y_u8oSdzEerd",
        "iVGI2XzKFiOz"
      ]
    },
    "kernelspec": {
      "name": "python3",
      "display_name": "Python 3"
    },
    "language_info": {
      "name": "python"
    }
  },
  "cells": [
    {
      "cell_type": "markdown",
      "metadata": {
        "id": "1VHZoIx3GZb_"
      },
      "source": [
        "#Imports"
      ]
    },
    {
      "cell_type": "code",
      "metadata": {
        "id": "f8-jxn_0GYro"
      },
      "source": [
        "#Imports\n",
        "import pandas as pd\n",
        "import numpy as np\n",
        "import re"
      ],
      "execution_count": null,
      "outputs": []
    },
    {
      "cell_type": "markdown",
      "metadata": {
        "id": "-3SvsNz3DiIo"
      },
      "source": [
        "#Raw Data Cleaning (6 Datasets)"
      ]
    },
    {
      "cell_type": "code",
      "metadata": {
        "id": "NmF9jQCl8dJr",
        "colab": {
          "base_uri": "https://localhost:8080/",
          "height": 35
        },
        "outputId": "9faa6f1e-2be3-4e8a-e3aa-594a631638c7"
      },
      "source": [
        "'''\n",
        "Project: Bangkit Capstone Project\n",
        "Group: B21-CAP0194\n",
        "Part: Data Cleaning\n",
        "'''"
      ],
      "execution_count": null,
      "outputs": [
        {
          "output_type": "execute_result",
          "data": {
            "application/vnd.google.colaboratory.intrinsic+json": {
              "type": "string"
            },
            "text/plain": [
              "'\\nProject: Bangkit Capstone Project\\nGroup: B21-CAP0194\\nPart: Data Cleaning\\n'"
            ]
          },
          "metadata": {
            "tags": []
          },
          "execution_count": 2
        }
      ]
    },
    {
      "cell_type": "code",
      "metadata": {
        "colab": {
          "base_uri": "https://localhost:8080/",
          "height": 195
        },
        "id": "cLE7cyGmBJSb",
        "outputId": "1bf738a1-09d5-4589-9a2e-aa53f9cd21b8"
      },
      "source": [
        "#Import First Dataset\n",
        "url_one = 'https://drive.google.com/file/d/1lTvQke_pO35JgAj1Bzj5ULsA_gno94DQ/view?usp=sharing'\n",
        "file_id_one = url_one.split('/')[-2]\n",
        "csv_url_one = 'https://drive.google.com/uc?id=' + file_id_one\n",
        "df_one = pd.read_csv(csv_url_one)\n",
        "df_one.head()"
      ],
      "execution_count": null,
      "outputs": [
        {
          "output_type": "execute_result",
          "data": {
            "text/html": [
              "<div>\n",
              "<style scoped>\n",
              "    .dataframe tbody tr th:only-of-type {\n",
              "        vertical-align: middle;\n",
              "    }\n",
              "\n",
              "    .dataframe tbody tr th {\n",
              "        vertical-align: top;\n",
              "    }\n",
              "\n",
              "    .dataframe thead th {\n",
              "        text-align: right;\n",
              "    }\n",
              "</style>\n",
              "<table border=\"1\" class=\"dataframe\">\n",
              "  <thead>\n",
              "    <tr style=\"text-align: right;\">\n",
              "      <th></th>\n",
              "      <th>index</th>\n",
              "      <th>user_id</th>\n",
              "      <th>timestamp</th>\n",
              "      <th>text</th>\n",
              "    </tr>\n",
              "  </thead>\n",
              "  <tbody>\n",
              "    <tr>\n",
              "      <th>0</th>\n",
              "      <td>1</td>\n",
              "      <td>420319697</td>\n",
              "      <td>2021-04-23 23:20:32</td>\n",
              "      <td>b\\'\"The ironies of the #MeToo movement are too...</td>\n",
              "    </tr>\n",
              "    <tr>\n",
              "      <th>1</th>\n",
              "      <td>2</td>\n",
              "      <td>b\"33979748</td>\n",
              "      <td>2021-04-23 23:20:23</td>\n",
              "      <td>RT @WomenReadWomen: Women in Kuwait have launc...</td>\n",
              "    </tr>\n",
              "    <tr>\n",
              "      <th>2</th>\n",
              "      <td>3</td>\n",
              "      <td>b\"2891085942</td>\n",
              "      <td>2021-04-23 23:20:19</td>\n",
              "      <td>RT @j_andreamolina: \\\\xe2\\\\x9a\\\\xa0\\\\xef\\\\xb8\\...</td>\n",
              "    </tr>\n",
              "    <tr>\n",
              "      <th>3</th>\n",
              "      <td>4</td>\n",
              "      <td>b\"2383033227</td>\n",
              "      <td>2021-04-23 23:19:13</td>\n",
              "      <td>RT @SammiStitches: Charges brought against the...</td>\n",
              "    </tr>\n",
              "    <tr>\n",
              "      <th>4</th>\n",
              "      <td>5</td>\n",
              "      <td>1060143967872917504</td>\n",
              "      <td>2021-04-23 23:18:41</td>\n",
              "      <td>b\"And the fourth presenter on 26th May is Hann...</td>\n",
              "    </tr>\n",
              "  </tbody>\n",
              "</table>\n",
              "</div>"
            ],
            "text/plain": [
              "   index  ...                                               text\n",
              "0      1  ...  b\\'\"The ironies of the #MeToo movement are too...\n",
              "1      2  ...  RT @WomenReadWomen: Women in Kuwait have launc...\n",
              "2      3  ...  RT @j_andreamolina: \\\\xe2\\\\x9a\\\\xa0\\\\xef\\\\xb8\\...\n",
              "3      4  ...  RT @SammiStitches: Charges brought against the...\n",
              "4      5  ...  b\"And the fourth presenter on 26th May is Hann...\n",
              "\n",
              "[5 rows x 4 columns]"
            ]
          },
          "metadata": {
            "tags": []
          },
          "execution_count": 3
        }
      ]
    },
    {
      "cell_type": "code",
      "metadata": {
        "colab": {
          "base_uri": "https://localhost:8080/",
          "height": 195
        },
        "id": "cnv3vKGHCIcu",
        "outputId": "84962a2d-e94f-4c5e-e4b2-343c7a67653e"
      },
      "source": [
        "#Import Second Dataset\n",
        "url_two = 'https://drive.google.com/file/d/1xMEtidbapgBLs82ijoJvk0FsoPlL76yG/view?usp=sharing'\n",
        "file_id_two = url_two.split('/')[-2]\n",
        "csv_url_two = 'https://drive.google.com/uc?id=' + file_id_two\n",
        "df_two = pd.read_csv(csv_url_two)\n",
        "df_two.head()"
      ],
      "execution_count": null,
      "outputs": [
        {
          "output_type": "execute_result",
          "data": {
            "text/html": [
              "<div>\n",
              "<style scoped>\n",
              "    .dataframe tbody tr th:only-of-type {\n",
              "        vertical-align: middle;\n",
              "    }\n",
              "\n",
              "    .dataframe tbody tr th {\n",
              "        vertical-align: top;\n",
              "    }\n",
              "\n",
              "    .dataframe thead th {\n",
              "        text-align: right;\n",
              "    }\n",
              "</style>\n",
              "<table border=\"1\" class=\"dataframe\">\n",
              "  <thead>\n",
              "    <tr style=\"text-align: right;\">\n",
              "      <th></th>\n",
              "      <th>index</th>\n",
              "      <th>user_id</th>\n",
              "      <th>timestamp</th>\n",
              "      <th>text</th>\n",
              "    </tr>\n",
              "  </thead>\n",
              "  <tbody>\n",
              "    <tr>\n",
              "      <th>0</th>\n",
              "      <td>1</td>\n",
              "      <td>406651200</td>\n",
              "      <td>2021-04-30 00:52:22</td>\n",
              "      <td>b\\'RT @ThatUmbrella: Advocates of #metoo shoul...</td>\n",
              "    </tr>\n",
              "    <tr>\n",
              "      <th>1</th>\n",
              "      <td>2</td>\n",
              "      <td>b\"1062082121353830402</td>\n",
              "      <td>2021-04-30 00:52:06</td>\n",
              "      <td>Boo another report while casualties pile up! Y...</td>\n",
              "    </tr>\n",
              "    <tr>\n",
              "      <th>2</th>\n",
              "      <td>3</td>\n",
              "      <td>957024565150011393</td>\n",
              "      <td>2021-04-30 00:51:51</td>\n",
              "      <td>b\"RT @MsAmyMacPherson: 1/9 There\\'s a SUPER HU...</td>\n",
              "    </tr>\n",
              "    <tr>\n",
              "      <th>3</th>\n",
              "      <td>4</td>\n",
              "      <td>1164570123111292928</td>\n",
              "      <td>2021-04-30 00:51:37</td>\n",
              "      <td>b\"RT @RaquelDancho: Important to note: if the ...</td>\n",
              "    </tr>\n",
              "    <tr>\n",
              "      <th>4</th>\n",
              "      <td>5</td>\n",
              "      <td>b\"1928003306</td>\n",
              "      <td>2021-04-30 00:50:49</td>\n",
              "      <td>RT @Aspasia_1: Basically .@MetOpera could have...</td>\n",
              "    </tr>\n",
              "  </tbody>\n",
              "</table>\n",
              "</div>"
            ],
            "text/plain": [
              "   index  ...                                               text\n",
              "0      1  ...  b\\'RT @ThatUmbrella: Advocates of #metoo shoul...\n",
              "1      2  ...  Boo another report while casualties pile up! Y...\n",
              "2      3  ...  b\"RT @MsAmyMacPherson: 1/9 There\\'s a SUPER HU...\n",
              "3      4  ...  b\"RT @RaquelDancho: Important to note: if the ...\n",
              "4      5  ...  RT @Aspasia_1: Basically .@MetOpera could have...\n",
              "\n",
              "[5 rows x 4 columns]"
            ]
          },
          "metadata": {
            "tags": []
          },
          "execution_count": 4
        }
      ]
    },
    {
      "cell_type": "code",
      "metadata": {
        "colab": {
          "base_uri": "https://localhost:8080/",
          "height": 195
        },
        "id": "EqF1nfy1Dlka",
        "outputId": "f8d2b85b-2504-40b2-acb6-c6374df76504"
      },
      "source": [
        "#Import Third Dataset\n",
        "url_three = 'https://drive.google.com/file/d/1vNVBMchza3792vB16pGQwzHf65eJYlOB/view?usp=sharing'\n",
        "file_id_three = url_three.split('/')[-2]\n",
        "csv_url_three = 'https://drive.google.com/uc?id=' + file_id_three\n",
        "df_three = pd.read_csv(csv_url_three)\n",
        "df_three.head()"
      ],
      "execution_count": null,
      "outputs": [
        {
          "output_type": "execute_result",
          "data": {
            "text/html": [
              "<div>\n",
              "<style scoped>\n",
              "    .dataframe tbody tr th:only-of-type {\n",
              "        vertical-align: middle;\n",
              "    }\n",
              "\n",
              "    .dataframe tbody tr th {\n",
              "        vertical-align: top;\n",
              "    }\n",
              "\n",
              "    .dataframe thead th {\n",
              "        text-align: right;\n",
              "    }\n",
              "</style>\n",
              "<table border=\"1\" class=\"dataframe\">\n",
              "  <thead>\n",
              "    <tr style=\"text-align: right;\">\n",
              "      <th></th>\n",
              "      <th>index</th>\n",
              "      <th>user_id</th>\n",
              "      <th>timestamp</th>\n",
              "      <th>text</th>\n",
              "    </tr>\n",
              "  </thead>\n",
              "  <tbody>\n",
              "    <tr>\n",
              "      <th>0</th>\n",
              "      <td>1</td>\n",
              "      <td>b\"1256542308591378433</td>\n",
              "      <td>2021-05-05 23:34:50</td>\n",
              "      <td>RT @BombshellDAILY: REPUBLICAN BRUTALLY RAPES ...</td>\n",
              "    </tr>\n",
              "    <tr>\n",
              "      <th>1</th>\n",
              "      <td>2</td>\n",
              "      <td>14982231</td>\n",
              "      <td>2021-05-05 23:33:34</td>\n",
              "      <td>b\"Anthony Kiedis mocked those fighting Bin Lad...</td>\n",
              "    </tr>\n",
              "    <tr>\n",
              "      <th>2</th>\n",
              "      <td>3</td>\n",
              "      <td>b\"711294667</td>\n",
              "      <td>2021-05-05 23:32:57</td>\n",
              "      <td>RT @edrormba: Palestinian-American brings #MeT...</td>\n",
              "    </tr>\n",
              "    <tr>\n",
              "      <th>3</th>\n",
              "      <td>4</td>\n",
              "      <td>b\"925362823114485765</td>\n",
              "      <td>2021-05-05 23:32:57</td>\n",
              "      <td>RT @bette_oh: And, just like that, the #MeToo ...</td>\n",
              "    </tr>\n",
              "    <tr>\n",
              "      <th>4</th>\n",
              "      <td>5</td>\n",
              "      <td>b\"2323751900</td>\n",
              "      <td>2021-05-05 23:31:54</td>\n",
              "      <td>This guy was in #MeToo right?? https://t.co/zZ...</td>\n",
              "    </tr>\n",
              "  </tbody>\n",
              "</table>\n",
              "</div>"
            ],
            "text/plain": [
              "   index  ...                                               text\n",
              "0      1  ...  RT @BombshellDAILY: REPUBLICAN BRUTALLY RAPES ...\n",
              "1      2  ...  b\"Anthony Kiedis mocked those fighting Bin Lad...\n",
              "2      3  ...  RT @edrormba: Palestinian-American brings #MeT...\n",
              "3      4  ...  RT @bette_oh: And, just like that, the #MeToo ...\n",
              "4      5  ...  This guy was in #MeToo right?? https://t.co/zZ...\n",
              "\n",
              "[5 rows x 4 columns]"
            ]
          },
          "metadata": {
            "tags": []
          },
          "execution_count": 5
        }
      ]
    },
    {
      "cell_type": "code",
      "metadata": {
        "colab": {
          "base_uri": "https://localhost:8080/",
          "height": 195
        },
        "id": "0vZ8treWHdUi",
        "outputId": "55eaa205-8703-4461-821e-9fe7541841cb"
      },
      "source": [
        "#Import Fourth Dataset\n",
        "url_four = 'https://drive.google.com/file/d/1vb98LLK4QPEzb5_jB0q19O1xU6WF3vgh/view?usp=sharing'\n",
        "file_id_four = url_four.split('/')[-2]\n",
        "csv_url_four = 'https://drive.google.com/uc?id=' + file_id_four\n",
        "df_four = pd.read_csv(csv_url_four)\n",
        "df_four.head()"
      ],
      "execution_count": null,
      "outputs": [
        {
          "output_type": "execute_result",
          "data": {
            "text/html": [
              "<div>\n",
              "<style scoped>\n",
              "    .dataframe tbody tr th:only-of-type {\n",
              "        vertical-align: middle;\n",
              "    }\n",
              "\n",
              "    .dataframe tbody tr th {\n",
              "        vertical-align: top;\n",
              "    }\n",
              "\n",
              "    .dataframe thead th {\n",
              "        text-align: right;\n",
              "    }\n",
              "</style>\n",
              "<table border=\"1\" class=\"dataframe\">\n",
              "  <thead>\n",
              "    <tr style=\"text-align: right;\">\n",
              "      <th></th>\n",
              "      <th>index</th>\n",
              "      <th>user_id</th>\n",
              "      <th>timestamp</th>\n",
              "      <th>text</th>\n",
              "    </tr>\n",
              "  </thead>\n",
              "  <tbody>\n",
              "    <tr>\n",
              "      <th>0</th>\n",
              "      <td>1</td>\n",
              "      <td>b\"910867711</td>\n",
              "      <td>2021-05-11 22:35:48</td>\n",
              "      <td>RT @SVPAOfficial: As the movement continues to...</td>\n",
              "    </tr>\n",
              "    <tr>\n",
              "      <th>1</th>\n",
              "      <td>2</td>\n",
              "      <td>b\"109652571</td>\n",
              "      <td>2021-05-11 22:35:47</td>\n",
              "      <td>Sound like #SameGirl cuz #MeToo nigga \\\\xf0\\\\x...</td>\n",
              "    </tr>\n",
              "    <tr>\n",
              "      <th>2</th>\n",
              "      <td>3</td>\n",
              "      <td>b\"984531408</td>\n",
              "      <td>2021-05-11 22:34:43</td>\n",
              "      <td>RT @mommamia1217: B\\\\xf0\\\\x9f\\\\x94\\\\xa5\\\\xf0\\\\...</td>\n",
              "    </tr>\n",
              "    <tr>\n",
              "      <th>3</th>\n",
              "      <td>4</td>\n",
              "      <td>b\"398024643</td>\n",
              "      <td>2021-05-11 22:34:30</td>\n",
              "      <td>RT @mommamia1217: B\\\\xf0\\\\x9f\\\\x94\\\\xa5\\\\xf0\\\\...</td>\n",
              "    </tr>\n",
              "    <tr>\n",
              "      <th>4</th>\n",
              "      <td>5</td>\n",
              "      <td>b\"1056106760795127808</td>\n",
              "      <td>2021-05-11 22:33:52</td>\n",
              "      <td>RT @mommamia1217: B\\\\xf0\\\\x9f\\\\x94\\\\xa5\\\\xf0\\\\...</td>\n",
              "    </tr>\n",
              "  </tbody>\n",
              "</table>\n",
              "</div>"
            ],
            "text/plain": [
              "   index  ...                                               text\n",
              "0      1  ...  RT @SVPAOfficial: As the movement continues to...\n",
              "1      2  ...  Sound like #SameGirl cuz #MeToo nigga \\\\xf0\\\\x...\n",
              "2      3  ...  RT @mommamia1217: B\\\\xf0\\\\x9f\\\\x94\\\\xa5\\\\xf0\\\\...\n",
              "3      4  ...  RT @mommamia1217: B\\\\xf0\\\\x9f\\\\x94\\\\xa5\\\\xf0\\\\...\n",
              "4      5  ...  RT @mommamia1217: B\\\\xf0\\\\x9f\\\\x94\\\\xa5\\\\xf0\\\\...\n",
              "\n",
              "[5 rows x 4 columns]"
            ]
          },
          "metadata": {
            "tags": []
          },
          "execution_count": 6
        }
      ]
    },
    {
      "cell_type": "code",
      "metadata": {
        "colab": {
          "base_uri": "https://localhost:8080/",
          "height": 195
        },
        "id": "IaFwXXFzPr1E",
        "outputId": "e53646cd-8b32-4be5-9307-df5d68d6fb23"
      },
      "source": [
        "#Import Fifth Dataset\n",
        "url_five = 'https://drive.google.com/file/d/1HpNQ-YktcMS1lckdHJKyAGIoChWjaxhX/view?usp=sharing'\n",
        "file_id_five = url_five.split('/')[-2]\n",
        "csv_url_five = 'https://drive.google.com/uc?id=' + file_id_five\n",
        "df_five = pd.read_csv(csv_url_five)\n",
        "df_five.head()"
      ],
      "execution_count": null,
      "outputs": [
        {
          "output_type": "execute_result",
          "data": {
            "text/html": [
              "<div>\n",
              "<style scoped>\n",
              "    .dataframe tbody tr th:only-of-type {\n",
              "        vertical-align: middle;\n",
              "    }\n",
              "\n",
              "    .dataframe tbody tr th {\n",
              "        vertical-align: top;\n",
              "    }\n",
              "\n",
              "    .dataframe thead th {\n",
              "        text-align: right;\n",
              "    }\n",
              "</style>\n",
              "<table border=\"1\" class=\"dataframe\">\n",
              "  <thead>\n",
              "    <tr style=\"text-align: right;\">\n",
              "      <th></th>\n",
              "      <th>index</th>\n",
              "      <th>user_id</th>\n",
              "      <th>timestamp</th>\n",
              "      <th>text</th>\n",
              "    </tr>\n",
              "  </thead>\n",
              "  <tbody>\n",
              "    <tr>\n",
              "      <th>0</th>\n",
              "      <td>1</td>\n",
              "      <td>b\"242997845</td>\n",
              "      <td>2021-05-17 23:51:31</td>\n",
              "      <td>RT @gbrockell: I first contacted Barbara in De...</td>\n",
              "    </tr>\n",
              "    <tr>\n",
              "      <th>1</th>\n",
              "      <td>2</td>\n",
              "      <td>b\"2417926471</td>\n",
              "      <td>2021-05-17 23:50:54</td>\n",
              "      <td>RT @ShefVaidya: This is Vinod Dua for you, the...</td>\n",
              "    </tr>\n",
              "    <tr>\n",
              "      <th>2</th>\n",
              "      <td>3</td>\n",
              "      <td>b\"1318072071860019201</td>\n",
              "      <td>2021-05-17 23:50:10</td>\n",
              "      <td>RT @ShefVaidya: This is Vinod Dua for you, the...</td>\n",
              "    </tr>\n",
              "    <tr>\n",
              "      <th>3</th>\n",
              "      <td>4</td>\n",
              "      <td>b\"25769038</td>\n",
              "      <td>2021-05-17 23:50:08</td>\n",
              "      <td>5.2 million Americans are living with #PTSD. \\...</td>\n",
              "    </tr>\n",
              "    <tr>\n",
              "      <th>4</th>\n",
              "      <td>5</td>\n",
              "      <td>232012364</td>\n",
              "      <td>2021-05-17 23:50:03</td>\n",
              "      <td>b\"RT @ghazalimohammad: First MLA Pargat Singh ...</td>\n",
              "    </tr>\n",
              "  </tbody>\n",
              "</table>\n",
              "</div>"
            ],
            "text/plain": [
              "   index  ...                                               text\n",
              "0      1  ...  RT @gbrockell: I first contacted Barbara in De...\n",
              "1      2  ...  RT @ShefVaidya: This is Vinod Dua for you, the...\n",
              "2      3  ...  RT @ShefVaidya: This is Vinod Dua for you, the...\n",
              "3      4  ...  5.2 million Americans are living with #PTSD. \\...\n",
              "4      5  ...  b\"RT @ghazalimohammad: First MLA Pargat Singh ...\n",
              "\n",
              "[5 rows x 4 columns]"
            ]
          },
          "metadata": {
            "tags": []
          },
          "execution_count": 7
        }
      ]
    },
    {
      "cell_type": "code",
      "metadata": {
        "colab": {
          "base_uri": "https://localhost:8080/",
          "height": 195
        },
        "id": "yeLAKsPmUkdQ",
        "outputId": "815e6ad7-e848-4960-d48f-5d86d094d1f2"
      },
      "source": [
        "#Import Sixth Dataset\n",
        "url_six = 'https://drive.google.com/file/d/16zIaxx9ua0hThr23x4N_cNhUymgsPBqC/view?usp=sharing'\n",
        "file_id_six = url_six.split('/')[-2]\n",
        "csv_url_six = 'https://drive.google.com/uc?id=' + file_id_six\n",
        "df_six = pd.read_csv(csv_url_six)\n",
        "df_six.head()"
      ],
      "execution_count": null,
      "outputs": [
        {
          "output_type": "execute_result",
          "data": {
            "text/html": [
              "<div>\n",
              "<style scoped>\n",
              "    .dataframe tbody tr th:only-of-type {\n",
              "        vertical-align: middle;\n",
              "    }\n",
              "\n",
              "    .dataframe tbody tr th {\n",
              "        vertical-align: top;\n",
              "    }\n",
              "\n",
              "    .dataframe thead th {\n",
              "        text-align: right;\n",
              "    }\n",
              "</style>\n",
              "<table border=\"1\" class=\"dataframe\">\n",
              "  <thead>\n",
              "    <tr style=\"text-align: right;\">\n",
              "      <th></th>\n",
              "      <th>index</th>\n",
              "      <th>user_id</th>\n",
              "      <th>timestamp</th>\n",
              "      <th>text</th>\n",
              "    </tr>\n",
              "  </thead>\n",
              "  <tbody>\n",
              "    <tr>\n",
              "      <th>0</th>\n",
              "      <td>1</td>\n",
              "      <td>1162412003576598528</td>\n",
              "      <td>2021-05-23 19:22:52</td>\n",
              "      <td>b\"8:43 PM a while ago  I went to this store ne...</td>\n",
              "    </tr>\n",
              "    <tr>\n",
              "      <th>1</th>\n",
              "      <td>2</td>\n",
              "      <td>b\"1252585504974962689</td>\n",
              "      <td>2021-05-23 19:22:23</td>\n",
              "      <td>@theserfstv Ross bought $DOGE early and thinks...</td>\n",
              "    </tr>\n",
              "    <tr>\n",
              "      <th>2</th>\n",
              "      <td>3</td>\n",
              "      <td>b\"373826992</td>\n",
              "      <td>2021-05-23 19:22:12</td>\n",
              "      <td>John 1 Reading of Final Verses + Emergency Pra...</td>\n",
              "    </tr>\n",
              "    <tr>\n",
              "      <th>3</th>\n",
              "      <td>4</td>\n",
              "      <td>1293471556736364546</td>\n",
              "      <td>2021-05-23 19:20:25</td>\n",
              "      <td>b\"RT @Terrn1981: @jackappleby @Girlguiding Opp...</td>\n",
              "    </tr>\n",
              "    <tr>\n",
              "      <th>4</th>\n",
              "      <td>5</td>\n",
              "      <td>b\"373826992</td>\n",
              "      <td>2021-05-23 19:16:33</td>\n",
              "      <td>John 1 Reading of Final Verses + Emergency Pra...</td>\n",
              "    </tr>\n",
              "  </tbody>\n",
              "</table>\n",
              "</div>"
            ],
            "text/plain": [
              "   index  ...                                               text\n",
              "0      1  ...  b\"8:43 PM a while ago  I went to this store ne...\n",
              "1      2  ...  @theserfstv Ross bought $DOGE early and thinks...\n",
              "2      3  ...  John 1 Reading of Final Verses + Emergency Pra...\n",
              "3      4  ...  b\"RT @Terrn1981: @jackappleby @Girlguiding Opp...\n",
              "4      5  ...  John 1 Reading of Final Verses + Emergency Pra...\n",
              "\n",
              "[5 rows x 4 columns]"
            ]
          },
          "metadata": {
            "tags": []
          },
          "execution_count": 8
        }
      ]
    },
    {
      "cell_type": "code",
      "metadata": {
        "id": "AJLugW6zdLSK"
      },
      "source": [
        "#Combine All Dataset\n",
        "df = pd.concat([df_one, df_two, df_three, df_four, df_five, df_six])"
      ],
      "execution_count": null,
      "outputs": []
    },
    {
      "cell_type": "code",
      "metadata": {
        "colab": {
          "base_uri": "https://localhost:8080/",
          "height": 195
        },
        "id": "DsedwIHqddig",
        "outputId": "dae18d42-180e-4611-c169-aa39e1be2241"
      },
      "source": [
        "df.head()"
      ],
      "execution_count": null,
      "outputs": [
        {
          "output_type": "execute_result",
          "data": {
            "text/html": [
              "<div>\n",
              "<style scoped>\n",
              "    .dataframe tbody tr th:only-of-type {\n",
              "        vertical-align: middle;\n",
              "    }\n",
              "\n",
              "    .dataframe tbody tr th {\n",
              "        vertical-align: top;\n",
              "    }\n",
              "\n",
              "    .dataframe thead th {\n",
              "        text-align: right;\n",
              "    }\n",
              "</style>\n",
              "<table border=\"1\" class=\"dataframe\">\n",
              "  <thead>\n",
              "    <tr style=\"text-align: right;\">\n",
              "      <th></th>\n",
              "      <th>index</th>\n",
              "      <th>user_id</th>\n",
              "      <th>timestamp</th>\n",
              "      <th>text</th>\n",
              "    </tr>\n",
              "  </thead>\n",
              "  <tbody>\n",
              "    <tr>\n",
              "      <th>0</th>\n",
              "      <td>1</td>\n",
              "      <td>420319697</td>\n",
              "      <td>2021-04-23 23:20:32</td>\n",
              "      <td>b\\'\"The ironies of the #MeToo movement are too...</td>\n",
              "    </tr>\n",
              "    <tr>\n",
              "      <th>1</th>\n",
              "      <td>2</td>\n",
              "      <td>b\"33979748</td>\n",
              "      <td>2021-04-23 23:20:23</td>\n",
              "      <td>RT @WomenReadWomen: Women in Kuwait have launc...</td>\n",
              "    </tr>\n",
              "    <tr>\n",
              "      <th>2</th>\n",
              "      <td>3</td>\n",
              "      <td>b\"2891085942</td>\n",
              "      <td>2021-04-23 23:20:19</td>\n",
              "      <td>RT @j_andreamolina: \\\\xe2\\\\x9a\\\\xa0\\\\xef\\\\xb8\\...</td>\n",
              "    </tr>\n",
              "    <tr>\n",
              "      <th>3</th>\n",
              "      <td>4</td>\n",
              "      <td>b\"2383033227</td>\n",
              "      <td>2021-04-23 23:19:13</td>\n",
              "      <td>RT @SammiStitches: Charges brought against the...</td>\n",
              "    </tr>\n",
              "    <tr>\n",
              "      <th>4</th>\n",
              "      <td>5</td>\n",
              "      <td>1060143967872917504</td>\n",
              "      <td>2021-04-23 23:18:41</td>\n",
              "      <td>b\"And the fourth presenter on 26th May is Hann...</td>\n",
              "    </tr>\n",
              "  </tbody>\n",
              "</table>\n",
              "</div>"
            ],
            "text/plain": [
              "   index  ...                                               text\n",
              "0      1  ...  b\\'\"The ironies of the #MeToo movement are too...\n",
              "1      2  ...  RT @WomenReadWomen: Women in Kuwait have launc...\n",
              "2      3  ...  RT @j_andreamolina: \\\\xe2\\\\x9a\\\\xa0\\\\xef\\\\xb8\\...\n",
              "3      4  ...  RT @SammiStitches: Charges brought against the...\n",
              "4      5  ...  b\"And the fourth presenter on 26th May is Hann...\n",
              "\n",
              "[5 rows x 4 columns]"
            ]
          },
          "metadata": {
            "tags": []
          },
          "execution_count": 10
        }
      ]
    },
    {
      "cell_type": "code",
      "metadata": {
        "colab": {
          "base_uri": "https://localhost:8080/"
        },
        "id": "-QT_s28rdgPQ",
        "outputId": "7c78366e-650c-4f99-fc24-b308845f6a59"
      },
      "source": [
        "df.shape"
      ],
      "execution_count": null,
      "outputs": [
        {
          "output_type": "execute_result",
          "data": {
            "text/plain": [
              "(46550, 4)"
            ]
          },
          "metadata": {
            "tags": []
          },
          "execution_count": 11
        }
      ]
    },
    {
      "cell_type": "code",
      "metadata": {
        "colab": {
          "base_uri": "https://localhost:8080/",
          "height": 402
        },
        "id": "6ewg6c2BgWl1",
        "outputId": "bb463e3b-987d-43e4-bbdc-3c3c0b43348c"
      },
      "source": [
        "#Drop Columns\n",
        "df.drop(columns=['index', 'user_id', 'timestamp'], inplace=True)\n",
        "df"
      ],
      "execution_count": null,
      "outputs": [
        {
          "output_type": "execute_result",
          "data": {
            "text/html": [
              "<div>\n",
              "<style scoped>\n",
              "    .dataframe tbody tr th:only-of-type {\n",
              "        vertical-align: middle;\n",
              "    }\n",
              "\n",
              "    .dataframe tbody tr th {\n",
              "        vertical-align: top;\n",
              "    }\n",
              "\n",
              "    .dataframe thead th {\n",
              "        text-align: right;\n",
              "    }\n",
              "</style>\n",
              "<table border=\"1\" class=\"dataframe\">\n",
              "  <thead>\n",
              "    <tr style=\"text-align: right;\">\n",
              "      <th></th>\n",
              "      <th>text</th>\n",
              "    </tr>\n",
              "  </thead>\n",
              "  <tbody>\n",
              "    <tr>\n",
              "      <th>0</th>\n",
              "      <td>b\\'\"The ironies of the #MeToo movement are too...</td>\n",
              "    </tr>\n",
              "    <tr>\n",
              "      <th>1</th>\n",
              "      <td>RT @WomenReadWomen: Women in Kuwait have launc...</td>\n",
              "    </tr>\n",
              "    <tr>\n",
              "      <th>2</th>\n",
              "      <td>RT @j_andreamolina: \\\\xe2\\\\x9a\\\\xa0\\\\xef\\\\xb8\\...</td>\n",
              "    </tr>\n",
              "    <tr>\n",
              "      <th>3</th>\n",
              "      <td>RT @SammiStitches: Charges brought against the...</td>\n",
              "    </tr>\n",
              "    <tr>\n",
              "      <th>4</th>\n",
              "      <td>b\"And the fourth presenter on 26th May is Hann...</td>\n",
              "    </tr>\n",
              "    <tr>\n",
              "      <th>...</th>\n",
              "      <td>...</td>\n",
              "    </tr>\n",
              "    <tr>\n",
              "      <th>8595</th>\n",
              "      <td>b\"Author releases debut novel inspired by Wore...</td>\n",
              "    </tr>\n",
              "    <tr>\n",
              "      <th>8596</th>\n",
              "      <td>b\"Pop world braces for a wave of #MeToo cases ...</td>\n",
              "    </tr>\n",
              "    <tr>\n",
              "      <th>8597</th>\n",
              "      <td>RT @Khushi4justice: Who paid Rajeev Masand  to...</td>\n",
              "    </tr>\n",
              "    <tr>\n",
              "      <th>8598</th>\n",
              "      <td>RT @AliaGvR: 15. So when you think of Arab/Afr...</td>\n",
              "    </tr>\n",
              "    <tr>\n",
              "      <th>8599</th>\n",
              "      <td>RT @mauracunningham: At the @NewYorker, Han Zh...</td>\n",
              "    </tr>\n",
              "  </tbody>\n",
              "</table>\n",
              "<p>46550 rows × 1 columns</p>\n",
              "</div>"
            ],
            "text/plain": [
              "                                                   text\n",
              "0     b\\'\"The ironies of the #MeToo movement are too...\n",
              "1     RT @WomenReadWomen: Women in Kuwait have launc...\n",
              "2     RT @j_andreamolina: \\\\xe2\\\\x9a\\\\xa0\\\\xef\\\\xb8\\...\n",
              "3     RT @SammiStitches: Charges brought against the...\n",
              "4     b\"And the fourth presenter on 26th May is Hann...\n",
              "...                                                 ...\n",
              "8595  b\"Author releases debut novel inspired by Wore...\n",
              "8596  b\"Pop world braces for a wave of #MeToo cases ...\n",
              "8597  RT @Khushi4justice: Who paid Rajeev Masand  to...\n",
              "8598  RT @AliaGvR: 15. So when you think of Arab/Afr...\n",
              "8599  RT @mauracunningham: At the @NewYorker, Han Zh...\n",
              "\n",
              "[46550 rows x 1 columns]"
            ]
          },
          "metadata": {
            "tags": []
          },
          "execution_count": 12
        }
      ]
    },
    {
      "cell_type": "code",
      "metadata": {
        "colab": {
          "base_uri": "https://localhost:8080/",
          "height": 195
        },
        "id": "ZWAkkMjbgjA0",
        "outputId": "29f07045-a1d1-4b65-d530-a4a9c69dcd7d"
      },
      "source": [
        "#Safe Clean (Cleaning the new line command before it get removed by the next regex)\n",
        "df['text'] =  [re.sub(r\"\\\\n\", \" \", str(j)) for j in df['text']]\n",
        "\n",
        "#Cleaning the 'b', Retweet, Unicode (\\\\x08\\,\\\\xef\\,etc), Mentions, Hashtags, Links, and '&amp'.\n",
        "df['text'] =  [re.sub(r\"^b|RT|\\\\\\\\x[\\w][\\w]|\\@[\\w\\_]*|\\#[\\w]*|http\\S+|\\&amp\", \" \", str(j)) for j in df['text']]\n",
        "\n",
        "#Clean other non-alphabetic character\n",
        "df['text'] =  [re.sub(r\"[^a-zA-Z ]+\", \" \", str(j)) for j in df['text']]\n",
        "\n",
        "#Clean extra space in the beginning, middle, and last of the sentence\n",
        "df['text'] = df['text'].apply(lambda x: x.strip()).apply(lambda x: \" \".join(x.split()))\n",
        "\n",
        "#Adding space after slash\n",
        "df['text'] =  [re.sub(r\"\\/\", \" \", str(j)) for j in df['text']]\n",
        "df.head()"
      ],
      "execution_count": null,
      "outputs": [
        {
          "output_type": "execute_result",
          "data": {
            "text/html": [
              "<div>\n",
              "<style scoped>\n",
              "    .dataframe tbody tr th:only-of-type {\n",
              "        vertical-align: middle;\n",
              "    }\n",
              "\n",
              "    .dataframe tbody tr th {\n",
              "        vertical-align: top;\n",
              "    }\n",
              "\n",
              "    .dataframe thead th {\n",
              "        text-align: right;\n",
              "    }\n",
              "</style>\n",
              "<table border=\"1\" class=\"dataframe\">\n",
              "  <thead>\n",
              "    <tr style=\"text-align: right;\">\n",
              "      <th></th>\n",
              "      <th>text</th>\n",
              "    </tr>\n",
              "  </thead>\n",
              "  <tbody>\n",
              "    <tr>\n",
              "      <th>0</th>\n",
              "      <td>The ironies of the movement are too painfully ...</td>\n",
              "    </tr>\n",
              "    <tr>\n",
              "      <th>1</th>\n",
              "      <td>Women in Kuwait have launched a social media c...</td>\n",
              "    </tr>\n",
              "    <tr>\n",
              "      <th>2</th>\n",
              "      <td>Triger Warning Raising Awareness of Sexual Ass...</td>\n",
              "    </tr>\n",
              "    <tr>\n",
              "      <th>3</th>\n",
              "      <td>Charges brought against the guy that smacked m...</td>\n",
              "    </tr>\n",
              "    <tr>\n",
              "      <th>4</th>\n",
              "      <td>And the fourth presenter on th May is Hannah B...</td>\n",
              "    </tr>\n",
              "  </tbody>\n",
              "</table>\n",
              "</div>"
            ],
            "text/plain": [
              "                                                text\n",
              "0  The ironies of the movement are too painfully ...\n",
              "1  Women in Kuwait have launched a social media c...\n",
              "2  Triger Warning Raising Awareness of Sexual Ass...\n",
              "3  Charges brought against the guy that smacked m...\n",
              "4  And the fourth presenter on th May is Hannah B..."
            ]
          },
          "metadata": {
            "tags": []
          },
          "execution_count": 13
        }
      ]
    },
    {
      "cell_type": "code",
      "metadata": {
        "id": "nYWzZKd1QbP7"
      },
      "source": [
        "#Transform the text into lowercase\n",
        "df['text'] = df['text'].str.lower()"
      ],
      "execution_count": null,
      "outputs": []
    },
    {
      "cell_type": "code",
      "metadata": {
        "id": "mB6zx5B_tPtu"
      },
      "source": [
        "#Drop any duplicate row\n",
        "df.drop_duplicates(inplace=True)"
      ],
      "execution_count": null,
      "outputs": []
    },
    {
      "cell_type": "code",
      "metadata": {
        "id": "uFsFUKKPyXZ7"
      },
      "source": [
        "#Fill up the empty cells\n",
        "df['text'].replace('', np.nan, inplace=True)"
      ],
      "execution_count": null,
      "outputs": []
    },
    {
      "cell_type": "code",
      "metadata": {
        "id": "R3VH9MqfurhU"
      },
      "source": [
        "#Drop empty cells\n",
        "df.dropna(subset=['text'], inplace=True)"
      ],
      "execution_count": null,
      "outputs": []
    },
    {
      "cell_type": "code",
      "metadata": {
        "id": "bhwEBKGtwHVC"
      },
      "source": [
        "#Create Index\n",
        "df['index'] = range(0, len(df.index), 1)"
      ],
      "execution_count": null,
      "outputs": []
    },
    {
      "cell_type": "code",
      "metadata": {
        "id": "KbjTX_CLgtCP"
      },
      "source": [
        "#Save DataFrame to CSV\n",
        "df.to_csv(\"capstonetweetcleaned.csv\", index=False)"
      ],
      "execution_count": null,
      "outputs": []
    },
    {
      "cell_type": "markdown",
      "metadata": {
        "id": "Y_u8oSdzEerd"
      },
      "source": [
        "#Additional Data Cleaning (Post Data)"
      ]
    },
    {
      "cell_type": "code",
      "metadata": {
        "colab": {
          "base_uri": "https://localhost:8080/",
          "height": 35
        },
        "id": "h-KmOg5XEmkK",
        "outputId": "ce298628-67c3-447e-d030-eda2580b52b5"
      },
      "source": [
        "'''\n",
        "Project: Bangkit Capstone Project\n",
        "Group: B21-CAP0194\n",
        "Part: Additional Post Data - Data Cleaning\n",
        "'''"
      ],
      "execution_count": null,
      "outputs": [
        {
          "output_type": "execute_result",
          "data": {
            "application/vnd.google.colaboratory.intrinsic+json": {
              "type": "string"
            },
            "text/plain": [
              "'\\nProject: Bangkit Capstone Project\\nGroup: B21-CAP0194\\nPart: Additional Post Data - Data Cleaning\\n'"
            ]
          },
          "metadata": {
            "tags": []
          },
          "execution_count": 20
        }
      ]
    },
    {
      "cell_type": "code",
      "metadata": {
        "colab": {
          "base_uri": "https://localhost:8080/",
          "height": 195
        },
        "id": "xl6z3FdPEsI5",
        "outputId": "e4ccdf0a-758d-4e25-abd0-da52f85b5124"
      },
      "source": [
        "#Import Additional Post Dataset\n",
        "url_one = 'https://drive.google.com/file/d/19TrifGssrQn9AtTbW-AtBOMJgN65nCll/view?usp=sharing'\n",
        "file_id_one = url_one.split('/')[-2]\n",
        "csv_url_one = 'https://drive.google.com/uc?id=' + file_id_one\n",
        "df = pd.read_csv(csv_url_one, encoding = \"ISO-8859-1\")\n",
        "df.head()"
      ],
      "execution_count": null,
      "outputs": [
        {
          "output_type": "execute_result",
          "data": {
            "text/html": [
              "<div>\n",
              "<style scoped>\n",
              "    .dataframe tbody tr th:only-of-type {\n",
              "        vertical-align: middle;\n",
              "    }\n",
              "\n",
              "    .dataframe tbody tr th {\n",
              "        vertical-align: top;\n",
              "    }\n",
              "\n",
              "    .dataframe thead th {\n",
              "        text-align: right;\n",
              "    }\n",
              "</style>\n",
              "<table border=\"1\" class=\"dataframe\">\n",
              "  <thead>\n",
              "    <tr style=\"text-align: right;\">\n",
              "      <th></th>\n",
              "      <th>text</th>\n",
              "      <th>label</th>\n",
              "    </tr>\n",
              "  </thead>\n",
              "  <tbody>\n",
              "    <tr>\n",
              "      <th>0</th>\n",
              "      <td>Schwartz and Southern also constructed four se...</td>\n",
              "      <td>Siber</td>\n",
              "    </tr>\n",
              "    <tr>\n",
              "      <th>1</th>\n",
              "      <td>If you think Internet flirting andÿcybersexÿar...</td>\n",
              "      <td>Siber</td>\n",
              "    </tr>\n",
              "    <tr>\n",
              "      <th>2</th>\n",
              "      <td>If a relationship were strong in the first pla...</td>\n",
              "      <td>Siber</td>\n",
              "    </tr>\n",
              "    <tr>\n",
              "      <th>3</th>\n",
              "      <td>Then, of course, there'sÿcybersex, which mostl...</td>\n",
              "      <td>Siber</td>\n",
              "    </tr>\n",
              "    <tr>\n",
              "      <th>4</th>\n",
              "      <td>She says that it is a daily occurrence to be i...</td>\n",
              "      <td>Siber</td>\n",
              "    </tr>\n",
              "  </tbody>\n",
              "</table>\n",
              "</div>"
            ],
            "text/plain": [
              "                                                text  label\n",
              "0  Schwartz and Southern also constructed four se...  Siber\n",
              "1  If you think Internet flirting andÿcybersexÿar...  Siber\n",
              "2  If a relationship were strong in the first pla...  Siber\n",
              "3  Then, of course, there'sÿcybersex, which mostl...  Siber\n",
              "4  She says that it is a daily occurrence to be i...  Siber"
            ]
          },
          "metadata": {
            "tags": []
          },
          "execution_count": 21
        }
      ]
    },
    {
      "cell_type": "code",
      "metadata": {
        "colab": {
          "base_uri": "https://localhost:8080/"
        },
        "id": "sycaoHsmEwcr",
        "outputId": "c576191f-e23a-43ad-df31-5618b2d03a97"
      },
      "source": [
        "df.shape"
      ],
      "execution_count": null,
      "outputs": [
        {
          "output_type": "execute_result",
          "data": {
            "text/plain": [
              "(1347, 2)"
            ]
          },
          "metadata": {
            "tags": []
          },
          "execution_count": 23
        }
      ]
    },
    {
      "cell_type": "code",
      "metadata": {
        "colab": {
          "base_uri": "https://localhost:8080/",
          "height": 195
        },
        "id": "nf4JMi37Ey5l",
        "outputId": "d0c5bacf-4c76-4c21-a5eb-e57ff06b2465"
      },
      "source": [
        "#Safe Clean (Cleaning the new line command before it get removed by the next regex)\n",
        "df['text'] =  [re.sub(r\"\\\\n\", \" \", str(j)) for j in df['text']]\n",
        "\n",
        "#Cleaning the 'b', Retweet, Unicode (\\\\x08\\,\\\\xef\\,etc), Mentions, Hashtags, Links, and '&amp'.\n",
        "df['text'] =  [re.sub(r\"^b|RT|\\\\\\\\x[\\w][\\w]|\\@[\\w\\_]*|\\#[\\w]*|http\\S+|\\&amp\", \" \", str(j)) for j in df['text']]\n",
        "\n",
        "#Clean other non-alphabetic character\n",
        "df['text'] =  [re.sub(r\"[^a-zA-Z ]+\", \" \", str(j)) for j in df['text']]\n",
        "\n",
        "#Clean extra space in the beginning, middle, and last of the sentence\n",
        "df['text'] = df['text'].apply(lambda x: x.strip()).apply(lambda x: \" \".join(x.split()))\n",
        "\n",
        "#Adding space after slash\n",
        "df['text'] =  [re.sub(r\"\\/\", \" \", str(j)) for j in df['text']]\n",
        "df.head()"
      ],
      "execution_count": null,
      "outputs": [
        {
          "output_type": "execute_result",
          "data": {
            "text/html": [
              "<div>\n",
              "<style scoped>\n",
              "    .dataframe tbody tr th:only-of-type {\n",
              "        vertical-align: middle;\n",
              "    }\n",
              "\n",
              "    .dataframe tbody tr th {\n",
              "        vertical-align: top;\n",
              "    }\n",
              "\n",
              "    .dataframe thead th {\n",
              "        text-align: right;\n",
              "    }\n",
              "</style>\n",
              "<table border=\"1\" class=\"dataframe\">\n",
              "  <thead>\n",
              "    <tr style=\"text-align: right;\">\n",
              "      <th></th>\n",
              "      <th>text</th>\n",
              "      <th>label</th>\n",
              "    </tr>\n",
              "  </thead>\n",
              "  <tbody>\n",
              "    <tr>\n",
              "      <th>0</th>\n",
              "      <td>Schwartz and Southern also constructed four se...</td>\n",
              "      <td>Siber</td>\n",
              "    </tr>\n",
              "    <tr>\n",
              "      <th>1</th>\n",
              "      <td>If you think Internet flirting and cybersex ar...</td>\n",
              "      <td>Siber</td>\n",
              "    </tr>\n",
              "    <tr>\n",
              "      <th>2</th>\n",
              "      <td>If a relationship were strong in the first pla...</td>\n",
              "      <td>Siber</td>\n",
              "    </tr>\n",
              "    <tr>\n",
              "      <th>3</th>\n",
              "      <td>Then of course there s cybersex which mostly c...</td>\n",
              "      <td>Siber</td>\n",
              "    </tr>\n",
              "    <tr>\n",
              "      <th>4</th>\n",
              "      <td>She says that it is a daily occurrence to be i...</td>\n",
              "      <td>Siber</td>\n",
              "    </tr>\n",
              "  </tbody>\n",
              "</table>\n",
              "</div>"
            ],
            "text/plain": [
              "                                                text  label\n",
              "0  Schwartz and Southern also constructed four se...  Siber\n",
              "1  If you think Internet flirting and cybersex ar...  Siber\n",
              "2  If a relationship were strong in the first pla...  Siber\n",
              "3  Then of course there s cybersex which mostly c...  Siber\n",
              "4  She says that it is a daily occurrence to be i...  Siber"
            ]
          },
          "metadata": {
            "tags": []
          },
          "execution_count": 24
        }
      ]
    },
    {
      "cell_type": "code",
      "metadata": {
        "id": "6-FSitO5E1Kl"
      },
      "source": [
        "#Transform the text into lowercase\n",
        "df['text'] = df['text'].str.lower()"
      ],
      "execution_count": null,
      "outputs": []
    },
    {
      "cell_type": "code",
      "metadata": {
        "id": "K555sNoJE_3p"
      },
      "source": [
        "#Drop any duplicate row\n",
        "df.drop_duplicates(inplace=True)"
      ],
      "execution_count": null,
      "outputs": []
    },
    {
      "cell_type": "code",
      "metadata": {
        "id": "-JCOF5JxFAn5"
      },
      "source": [
        "#Fill up the empty cells\n",
        "df['text'].replace('', np.nan, inplace=True)"
      ],
      "execution_count": null,
      "outputs": []
    },
    {
      "cell_type": "code",
      "metadata": {
        "id": "aVzJb7F5FDCM"
      },
      "source": [
        "#Drop empty cells\n",
        "df.dropna(subset=['text'], inplace=True)"
      ],
      "execution_count": null,
      "outputs": []
    },
    {
      "cell_type": "code",
      "metadata": {
        "id": "B-QzXIMRFE8N"
      },
      "source": [
        "#Create Index\n",
        "df['index'] = range(0, len(df.index), 1)"
      ],
      "execution_count": null,
      "outputs": []
    },
    {
      "cell_type": "code",
      "metadata": {
        "id": "LuNnsIP-FHDX"
      },
      "source": [
        "#Save DataFrame to CSV\n",
        "df.to_csv(\"capstoneaddposttweetcleaned.csv\", index=False, encoding='utf-8')"
      ],
      "execution_count": null,
      "outputs": []
    },
    {
      "cell_type": "markdown",
      "metadata": {
        "id": "iVGI2XzKFiOz"
      },
      "source": [
        "#Additional Data Cleaning (Laporan Data)"
      ]
    },
    {
      "cell_type": "code",
      "metadata": {
        "id": "wbaRKcvkFmyP",
        "colab": {
          "base_uri": "https://localhost:8080/",
          "height": 35
        },
        "outputId": "e85dfc42-e218-4b28-b13f-80cf878a73a9"
      },
      "source": [
        "'''\n",
        "Project: Bangkit Capstone Project\n",
        "Group: B21-CAP0194\n",
        "Part: Additional Laporan Data - Data Cleaning\n",
        "'''"
      ],
      "execution_count": null,
      "outputs": [
        {
          "output_type": "execute_result",
          "data": {
            "application/vnd.google.colaboratory.intrinsic+json": {
              "type": "string"
            },
            "text/plain": [
              "'\\nProject: Bangkit Capstone Project\\nGroup: B21-CAP0194\\nPart: Additional Laporan Data - Data Cleaning\\n'"
            ]
          },
          "metadata": {
            "tags": []
          },
          "execution_count": 31
        }
      ]
    },
    {
      "cell_type": "code",
      "metadata": {
        "id": "VUvytDaUFw6c",
        "colab": {
          "base_uri": "https://localhost:8080/",
          "height": 195
        },
        "outputId": "467ade21-0472-4fa3-cd0e-247437cf7aa9"
      },
      "source": [
        "#Import Additional Laporan Dataset\n",
        "url_one = 'https://drive.google.com/file/d/1NUCUCuKaL0CYq2gdNueUq2BrN4cU7NeJ/view?usp=sharing'\n",
        "file_id_one = url_one.split('/')[-2]\n",
        "csv_url_one = 'https://drive.google.com/uc?id=' + file_id_one\n",
        "df = pd.read_csv(csv_url_one, encoding = \"ISO-8859-1\")\n",
        "df.head()"
      ],
      "execution_count": null,
      "outputs": [
        {
          "output_type": "execute_result",
          "data": {
            "text/html": [
              "<div>\n",
              "<style scoped>\n",
              "    .dataframe tbody tr th:only-of-type {\n",
              "        vertical-align: middle;\n",
              "    }\n",
              "\n",
              "    .dataframe tbody tr th {\n",
              "        vertical-align: top;\n",
              "    }\n",
              "\n",
              "    .dataframe thead th {\n",
              "        text-align: right;\n",
              "    }\n",
              "</style>\n",
              "<table border=\"1\" class=\"dataframe\">\n",
              "  <thead>\n",
              "    <tr style=\"text-align: right;\">\n",
              "      <th></th>\n",
              "      <th>text</th>\n",
              "      <th>label</th>\n",
              "    </tr>\n",
              "  </thead>\n",
              "  <tbody>\n",
              "    <tr>\n",
              "      <th>0</th>\n",
              "      <td>Some people have become so dependent onÿpsychi...</td>\n",
              "      <td>Kekerasan Psikis</td>\n",
              "    </tr>\n",
              "    <tr>\n",
              "      <th>1</th>\n",
              "      <td>Franzen has always been fond of putting his ch...</td>\n",
              "      <td>Kekerasan Psikis</td>\n",
              "    </tr>\n",
              "    <tr>\n",
              "      <th>2</th>\n",
              "      <td>guilt and shame add to theirÿpsychicÿstate;</td>\n",
              "      <td>Kekerasan Psikis</td>\n",
              "    </tr>\n",
              "    <tr>\n",
              "      <th>3</th>\n",
              "      <td>It?s aÿpsychicÿspace in which you feel at once...</td>\n",
              "      <td>Kekerasan Psikis</td>\n",
              "    </tr>\n",
              "    <tr>\n",
              "      <th>4</th>\n",
              "      <td>Some were trampled in the rush and others surv...</td>\n",
              "      <td>Kekerasan Psikis</td>\n",
              "    </tr>\n",
              "  </tbody>\n",
              "</table>\n",
              "</div>"
            ],
            "text/plain": [
              "                                                text             label\n",
              "0  Some people have become so dependent onÿpsychi...  Kekerasan Psikis\n",
              "1  Franzen has always been fond of putting his ch...  Kekerasan Psikis\n",
              "2        guilt and shame add to theirÿpsychicÿstate;  Kekerasan Psikis\n",
              "3  It?s aÿpsychicÿspace in which you feel at once...  Kekerasan Psikis\n",
              "4  Some were trampled in the rush and others surv...  Kekerasan Psikis"
            ]
          },
          "metadata": {
            "tags": []
          },
          "execution_count": 32
        }
      ]
    },
    {
      "cell_type": "code",
      "metadata": {
        "id": "To4WcqX1F10u",
        "colab": {
          "base_uri": "https://localhost:8080/"
        },
        "outputId": "e87ae788-9184-4e1c-8920-c6f8d47adea5"
      },
      "source": [
        "df.shape"
      ],
      "execution_count": null,
      "outputs": [
        {
          "output_type": "execute_result",
          "data": {
            "text/plain": [
              "(970, 2)"
            ]
          },
          "metadata": {
            "tags": []
          },
          "execution_count": 33
        }
      ]
    },
    {
      "cell_type": "code",
      "metadata": {
        "id": "r2FY5fmqF3EE",
        "colab": {
          "base_uri": "https://localhost:8080/",
          "height": 195
        },
        "outputId": "b170088e-8a10-4dbb-e3c7-fa329e052443"
      },
      "source": [
        "#Safe Clean (Cleaning the new line command before it get removed by the next regex)\n",
        "df['text'] =  [re.sub(r\"\\\\n\", \" \", str(j)) for j in df['text']]\n",
        "\n",
        "#Cleaning the 'b', Retweet, Unicode (\\\\x08\\,\\\\xef\\,etc), Mentions, Hashtags, Links, and '&amp'.\n",
        "df['text'] =  [re.sub(r\"^b|RT|\\\\\\\\x[\\w][\\w]|\\@[\\w\\_]*|\\#[\\w]*|http\\S+|\\&amp\", \" \", str(j)) for j in df['text']]\n",
        "\n",
        "#Clean other non-alphabetic character\n",
        "df['text'] =  [re.sub(r\"[^a-zA-Z ]+\", \" \", str(j)) for j in df['text']]\n",
        "\n",
        "#Clean extra space in the beginning, middle, and last of the sentence\n",
        "df['text'] = df['text'].apply(lambda x: x.strip()).apply(lambda x: \" \".join(x.split()))\n",
        "\n",
        "#Adding space after slash\n",
        "df['text'] =  [re.sub(r\"\\/\", \" \", str(j)) for j in df['text']]\n",
        "df.head()"
      ],
      "execution_count": null,
      "outputs": [
        {
          "output_type": "execute_result",
          "data": {
            "text/html": [
              "<div>\n",
              "<style scoped>\n",
              "    .dataframe tbody tr th:only-of-type {\n",
              "        vertical-align: middle;\n",
              "    }\n",
              "\n",
              "    .dataframe tbody tr th {\n",
              "        vertical-align: top;\n",
              "    }\n",
              "\n",
              "    .dataframe thead th {\n",
              "        text-align: right;\n",
              "    }\n",
              "</style>\n",
              "<table border=\"1\" class=\"dataframe\">\n",
              "  <thead>\n",
              "    <tr style=\"text-align: right;\">\n",
              "      <th></th>\n",
              "      <th>text</th>\n",
              "      <th>label</th>\n",
              "    </tr>\n",
              "  </thead>\n",
              "  <tbody>\n",
              "    <tr>\n",
              "      <th>0</th>\n",
              "      <td>Some people have become so dependent on psychi...</td>\n",
              "      <td>Kekerasan Psikis</td>\n",
              "    </tr>\n",
              "    <tr>\n",
              "      <th>1</th>\n",
              "      <td>Franzen has always been fond of putting his ch...</td>\n",
              "      <td>Kekerasan Psikis</td>\n",
              "    </tr>\n",
              "    <tr>\n",
              "      <th>2</th>\n",
              "      <td>guilt and shame add to their psychic state</td>\n",
              "      <td>Kekerasan Psikis</td>\n",
              "    </tr>\n",
              "    <tr>\n",
              "      <th>3</th>\n",
              "      <td>It s a psychic space in which you feel at once...</td>\n",
              "      <td>Kekerasan Psikis</td>\n",
              "    </tr>\n",
              "    <tr>\n",
              "      <th>4</th>\n",
              "      <td>Some were trampled in the rush and others surv...</td>\n",
              "      <td>Kekerasan Psikis</td>\n",
              "    </tr>\n",
              "  </tbody>\n",
              "</table>\n",
              "</div>"
            ],
            "text/plain": [
              "                                                text             label\n",
              "0  Some people have become so dependent on psychi...  Kekerasan Psikis\n",
              "1  Franzen has always been fond of putting his ch...  Kekerasan Psikis\n",
              "2         guilt and shame add to their psychic state  Kekerasan Psikis\n",
              "3  It s a psychic space in which you feel at once...  Kekerasan Psikis\n",
              "4  Some were trampled in the rush and others surv...  Kekerasan Psikis"
            ]
          },
          "metadata": {
            "tags": []
          },
          "execution_count": 34
        }
      ]
    },
    {
      "cell_type": "code",
      "metadata": {
        "id": "_0tHcyhXF4s4"
      },
      "source": [
        "#Transform the text into lowercase\n",
        "df['text'] = df['text'].str.lower()"
      ],
      "execution_count": null,
      "outputs": []
    },
    {
      "cell_type": "code",
      "metadata": {
        "id": "GrJ66F4HF5zt"
      },
      "source": [
        "#Drop any duplicate row\n",
        "df.drop_duplicates(inplace=True)"
      ],
      "execution_count": null,
      "outputs": []
    },
    {
      "cell_type": "code",
      "metadata": {
        "id": "Q1-pPd6ZF7DG"
      },
      "source": [
        "#Fill up the empty cells\n",
        "df['text'].replace('', np.nan, inplace=True)"
      ],
      "execution_count": null,
      "outputs": []
    },
    {
      "cell_type": "code",
      "metadata": {
        "id": "hijPkUaOF8Kx"
      },
      "source": [
        "#Drop empty cells\n",
        "df.dropna(subset=['text'], inplace=True)"
      ],
      "execution_count": null,
      "outputs": []
    },
    {
      "cell_type": "code",
      "metadata": {
        "id": "EVWApZ6TF9Wi"
      },
      "source": [
        "#Create Index\n",
        "df['index'] = range(0, len(df.index), 1)"
      ],
      "execution_count": null,
      "outputs": []
    },
    {
      "cell_type": "code",
      "metadata": {
        "id": "VHxacMcBF-sF"
      },
      "source": [
        "#Save DataFrame to CSV\n",
        "df.to_csv(\"capstoneaddlaporantweetcleaned.csv\", index=False, encoding='utf-8')"
      ],
      "execution_count": null,
      "outputs": []
    }
  ]
}