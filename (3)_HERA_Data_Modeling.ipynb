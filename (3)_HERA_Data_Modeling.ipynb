{
  "nbformat": 4,
  "nbformat_minor": 0,
  "metadata": {
    "colab": {
      "provenance": [],
      "collapsed_sections": [
        "583SEu0jPBB8",
        "WInWuPPaPb1V",
        "WxrIq8R9VTPn",
        "8bFn2RKfuSzS",
        "lU6KdkzF6Idy"
      ],
      "toc_visible": true,
      "include_colab_link": true
    },
    "kernelspec": {
      "name": "python3",
      "display_name": "Python 3"
    },
    "language_info": {
      "name": "python"
    },
    "accelerator": "GPU"
  },
  "cells": [
    {
      "cell_type": "markdown",
      "metadata": {
        "id": "view-in-github",
        "colab_type": "text"
      },
      "source": [
        "<a href=\"https://colab.research.google.com/github/josephananda/HERA/blob/main/(3)_HERA_Data_Modeling.ipynb\" target=\"_parent\"><img src=\"https://colab.research.google.com/assets/colab-badge.svg\" alt=\"Open In Colab\"/></a>"
      ]
    },
    {
      "cell_type": "markdown",
      "metadata": {
        "id": "583SEu0jPBB8"
      },
      "source": [
        "#Imports and Variables Value Initializer"
      ]
    },
    {
      "cell_type": "code",
      "metadata": {
        "colab": {
          "base_uri": "https://localhost:8080/"
        },
        "id": "0eh96NRHGlWh",
        "outputId": "a4a3b5fc-c4a0-4a27-fd1c-2cbf2b86dec6"
      },
      "source": [
        "!pip install Sastrawi"
      ],
      "execution_count": null,
      "outputs": [
        {
          "output_type": "stream",
          "text": [
            "Collecting Sastrawi\n",
            "\u001b[?25l  Downloading https://files.pythonhosted.org/packages/6f/4b/bab676953da3103003730b8fcdfadbdd20f333d4add10af949dd5c51e6ed/Sastrawi-1.0.1-py2.py3-none-any.whl (209kB)\n",
            "\r\u001b[K     |█▋                              | 10kB 23.3MB/s eta 0:00:01\r\u001b[K     |███▏                            | 20kB 15.8MB/s eta 0:00:01\r\u001b[K     |████▊                           | 30kB 13.5MB/s eta 0:00:01\r\u001b[K     |██████▎                         | 40kB 12.7MB/s eta 0:00:01\r\u001b[K     |███████▉                        | 51kB 6.9MB/s eta 0:00:01\r\u001b[K     |█████████▍                      | 61kB 6.7MB/s eta 0:00:01\r\u001b[K     |███████████                     | 71kB 7.6MB/s eta 0:00:01\r\u001b[K     |████████████▌                   | 81kB 8.5MB/s eta 0:00:01\r\u001b[K     |██████████████                  | 92kB 8.1MB/s eta 0:00:01\r\u001b[K     |███████████████▋                | 102kB 6.7MB/s eta 0:00:01\r\u001b[K     |█████████████████▏              | 112kB 6.7MB/s eta 0:00:01\r\u001b[K     |██████████████████▊             | 122kB 6.7MB/s eta 0:00:01\r\u001b[K     |████████████████████▎           | 133kB 6.7MB/s eta 0:00:01\r\u001b[K     |█████████████████████▉          | 143kB 6.7MB/s eta 0:00:01\r\u001b[K     |███████████████████████▍        | 153kB 6.7MB/s eta 0:00:01\r\u001b[K     |█████████████████████████       | 163kB 6.7MB/s eta 0:00:01\r\u001b[K     |██████████████████████████▋     | 174kB 6.7MB/s eta 0:00:01\r\u001b[K     |████████████████████████████▏   | 184kB 6.7MB/s eta 0:00:01\r\u001b[K     |█████████████████████████████▊  | 194kB 6.7MB/s eta 0:00:01\r\u001b[K     |███████████████████████████████▎| 204kB 6.7MB/s eta 0:00:01\r\u001b[K     |████████████████████████████████| 215kB 6.7MB/s \n",
            "\u001b[?25hInstalling collected packages: Sastrawi\n",
            "Successfully installed Sastrawi-1.0.1\n"
          ],
          "name": "stdout"
        }
      ]
    },
    {
      "cell_type": "code",
      "metadata": {
        "id": "RWj-L9ssHHAf"
      },
      "source": [
        "import pandas as pd\n",
        "import numpy as np\n",
        "import matplotlib.pyplot as plt\n",
        "from Sastrawi.StopWordRemover.StopWordRemoverFactory import StopWordRemoverFactory\n",
        "from Sastrawi.Stemmer.StemmerFactory import StemmerFactory\n",
        "import tensorflow as tf\n",
        "from tensorflow.keras.preprocessing.text import Tokenizer\n",
        "from tensorflow.keras.preprocessing.sequence import pad_sequences"
      ],
      "execution_count": null,
      "outputs": []
    },
    {
      "cell_type": "code",
      "metadata": {
        "id": "zuA8-KnMFDo9"
      },
      "source": [
        "vocab_size = 20000\n",
        "embedding_dim = 100\n",
        "max_length = 50\n",
        "trunc_type = 'post'\n",
        "oov_tok = \"<OOV>\""
      ],
      "execution_count": null,
      "outputs": []
    },
    {
      "cell_type": "code",
      "metadata": {
        "id": "DHHp6JqwUt0M",
        "colab": {
          "base_uri": "https://localhost:8080/"
        },
        "outputId": "9e1b0f85-e5b8-4a16-94bf-3fa3caed530a"
      },
      "source": [
        "'''\n",
        "Project: Bangkit Capstone Project\n",
        "Group: B21-CAP0194\n",
        "Part: Modelling\n",
        "'''"
      ],
      "execution_count": null,
      "outputs": [
        {
          "output_type": "execute_result",
          "data": {
            "application/vnd.google.colaboratory.intrinsic+json": {
              "type": "string"
            },
            "text/plain": [
              "'\\nProject: Bangkit Capstone Project\\nGroup: B21-CAP0194\\nPart: Modelling\\n'"
            ]
          },
          "metadata": {
            "tags": []
          },
          "execution_count": 4
        }
      ]
    },
    {
      "cell_type": "markdown",
      "metadata": {
        "id": "WInWuPPaPb1V"
      },
      "source": [
        "#Translate the Dataset (Post)"
      ]
    },
    {
      "cell_type": "code",
      "metadata": {
        "id": "kJlMiUMYi47A",
        "colab": {
          "base_uri": "https://localhost:8080/",
          "height": 195
        },
        "outputId": "2b9659c1-433e-40b4-f800-09b15d3d7237"
      },
      "source": [
        "#Import Labelled Post Dataset\n",
        "url_post = 'https://drive.google.com/file/d/1kGe-QMQbmSL5WJEErmDi49TB-yNkn37u/view?usp=sharing'\n",
        "file_id_post = url_post.split('/')[-2]\n",
        "csv_url_post = 'https://drive.google.com/uc?id=' + file_id_post\n",
        "df_post = pd.read_csv(csv_url_post)\n",
        "df_post.head()"
      ],
      "execution_count": null,
      "outputs": [
        {
          "output_type": "execute_result",
          "data": {
            "text/html": [
              "<div>\n",
              "<style scoped>\n",
              "    .dataframe tbody tr th:only-of-type {\n",
              "        vertical-align: middle;\n",
              "    }\n",
              "\n",
              "    .dataframe tbody tr th {\n",
              "        vertical-align: top;\n",
              "    }\n",
              "\n",
              "    .dataframe thead th {\n",
              "        text-align: right;\n",
              "    }\n",
              "</style>\n",
              "<table border=\"1\" class=\"dataframe\">\n",
              "  <thead>\n",
              "    <tr style=\"text-align: right;\">\n",
              "      <th></th>\n",
              "      <th>index</th>\n",
              "      <th>text</th>\n",
              "      <th>label_laporan</th>\n",
              "      <th>label_post</th>\n",
              "    </tr>\n",
              "  </thead>\n",
              "  <tbody>\n",
              "    <tr>\n",
              "      <th>0</th>\n",
              "      <td>0</td>\n",
              "      <td>x</td>\n",
              "      <td>Kekerasan Lainnya</td>\n",
              "      <td>Netral</td>\n",
              "    </tr>\n",
              "    <tr>\n",
              "      <th>1</th>\n",
              "      <td>1</td>\n",
              "      <td>on how the other accused were doing after that...</td>\n",
              "      <td>Kekerasan Lainnya</td>\n",
              "      <td>Lokasi Publik</td>\n",
              "    </tr>\n",
              "    <tr>\n",
              "      <th>2</th>\n",
              "      <td>2</td>\n",
              "      <td>in the five years since black women have emerg...</td>\n",
              "      <td>Eksploitasi</td>\n",
              "      <td>Lokasi Publik</td>\n",
              "    </tr>\n",
              "    <tr>\n",
              "      <th>3</th>\n",
              "      <td>3</td>\n",
              "      <td>discussed the movement and how to deal with tr...</td>\n",
              "      <td>Kekerasan Lainnya</td>\n",
              "      <td>Lokasi Publik</td>\n",
              "    </tr>\n",
              "    <tr>\n",
              "      <th>4</th>\n",
              "      <td>4</td>\n",
              "      <td>charlie hanson publicly supported and spoke ou...</td>\n",
              "      <td>Kekerasan Lainnya</td>\n",
              "      <td>Lokasi Kerja</td>\n",
              "    </tr>\n",
              "  </tbody>\n",
              "</table>\n",
              "</div>"
            ],
            "text/plain": [
              "   index  ...     label_post\n",
              "0      0  ...         Netral\n",
              "1      1  ...  Lokasi Publik\n",
              "2      2  ...  Lokasi Publik\n",
              "3      3  ...  Lokasi Publik\n",
              "4      4  ...   Lokasi Kerja\n",
              "\n",
              "[5 rows x 4 columns]"
            ]
          },
          "metadata": {
            "tags": []
          },
          "execution_count": 6
        }
      ]
    },
    {
      "cell_type": "code",
      "metadata": {
        "id": "tZVt0PJwicED",
        "colab": {
          "base_uri": "https://localhost:8080/"
        },
        "outputId": "f7f44ed8-9a80-43b6-89d9-96ce3c7acb02"
      },
      "source": [
        "#Warning! It's not free, please think several times before running this cell below\n",
        "#Enter the API Key\n",
        "import getpass\n",
        "\n",
        "APIKEY = getpass.getpass()"
      ],
      "execution_count": null,
      "outputs": [
        {
          "output_type": "stream",
          "text": [
            "··········\n"
          ],
          "name": "stdout"
        }
      ]
    },
    {
      "cell_type": "code",
      "metadata": {
        "id": "GeM4W3MPwB9A"
      },
      "source": [
        "#Warning! It's also not free, please think several times before running this cell below\n",
        "#Running Translate API\n",
        "from googleapiclient.discovery import build\n",
        "service = build('translate', 'v2', developerKey=APIKEY)\n",
        "\n",
        "df_post['indo_text'] = df_post['text'].apply(lambda x: (service.translations().list(source='en', target='id', q=x).execute())).apply(lambda x: x['translations']).apply(lambda x: x[0]).apply(lambda x: x['translatedText'])"
      ],
      "execution_count": null,
      "outputs": []
    },
    {
      "cell_type": "code",
      "metadata": {
        "id": "uChzsiCQuUfd",
        "colab": {
          "base_uri": "https://localhost:8080/"
        },
        "outputId": "072e7173-a214-4337-9f50-d535cc5d30d4"
      },
      "source": [
        "#Show the first 50 data in the dataset\n",
        "df_post['indo_text'].head(50)"
      ],
      "execution_count": null,
      "outputs": [
        {
          "output_type": "execute_result",
          "data": {
            "text/plain": [
              "0                                                     x\n",
              "1     tentang apa yang dilakukan terdakwa lainnya se...\n",
              "2     dalam lima tahun sejak perempuan kulit hitam m...\n",
              "3     membahas pergerakan dan cara mengatasi trauma ...\n",
              "4     charlie hanson secara terbuka mendukung dan be...\n",
              "5     saya senang bahwa vairamuthu dimintai pertangg...\n",
              "6     pengabaian adalah emosi yang paling menonjol d...\n",
              "7     saya terlambat dua tahun tetapi saya mulai men...\n",
              "8     vairamuthu untuk mengembalikan hadiah sastra k...\n",
              "9     terjadi bertahun-tahun b menginginkan keadilan...\n",
              "10    india hilang ketika terpidana pelaku mulai mem...\n",
              "11    gerakan itu keluar karena gerakan ini sangat m...\n",
              "12    saya menyarankan Anda untuk mengumpulkan cukup...\n",
              "13    mengapa komite penghargaan tidak pergi ke depa...\n",
              "14    yang membayar rajeev masand untuk menulis tira...\n",
              "15    inilah yang harus dikatakan ketika mengatakan ...\n",
              "16    telah menjadi minggu yang sulit dengan insiden...\n",
              "17    may with tps on psychoanalysis peter dale scot...\n",
              "18    kasus geoff marcy adalah tonggak sejarah untuk...\n",
              "19    mengecam juri penghargaan sastra onv karena me...\n",
              "20    bill cosby menolak program pelanggar seks jadi...\n",
              "21    beberapa orang yang sangat bodoh berpendapat b...\n",
              "22    yuk kentut tua harus mengundurkan diri benar-b...\n",
              "23    dipatenkan sebagai cermin memperlihatkan tempa...\n",
              "24              posting foto dan video seks dari id ini\n",
              "25                          selalu menangis mahar palsu\n",
              "26    tagar kewirausahaan belgia teratas saat ini di...\n",
              "27    pelapor yang mendorong atlet gerakan olahraga ...\n",
              "28    ini mengingatkan saya ketika staf kampanye sha...\n",
              "29    tidak ada yang saya maksud tidak ada yang memu...\n",
              "30    chinmayi bukan hanya satu yang dilecehkan oleh...\n",
              "31    chinmayi bukan satu-satunya yang dilecehkan ol...\n",
              "32                                        kakak tentang\n",
              "33                            katakan dengan saya orang\n",
              "34    jika Anda ingin membagikan cerita Anda, ikuti ...\n",
              "35    fiji adalah nomor di dunia untuk googling porn...\n",
              "36    lebih keras lebih keras jika ini memicu Anda, ...\n",
              "37    pria-pria yang secara berantai melecehkan wani...\n",
              "38    kita laki-laki harus mempermudah perempuan yan...\n",
              "39    utas dua lagi guru chennai yang dipesan oleh p...\n",
              "40    saya setuju dengan membayar untuk jurnalisme t...\n",
              "41    kepada semua orang yang mencoba mendukung arib...\n",
              "42    tidak ada kerusakan yang dia lakukan berulang ...\n",
              "43          tidak berarti tidak ada vairamuthu chinmayi\n",
              "44                     sollunga sollunga utasnya hilang\n",
              "45    bertanya-tanya di mana semua kerumunan biden h...\n",
              "46    asosiasi tambram n narayanan mandalin rajesh o...\n",
              "47                   artikel berwawasan oleh rekan saya\n",
              "48    vairamuthu mengembalikan penghargaan onv setel...\n",
              "49    hal paling mengejutkan yang saya pelajari dari...\n",
              "Name: indo_text, dtype: object"
            ]
          },
          "metadata": {
            "tags": []
          },
          "execution_count": 11
        }
      ]
    },
    {
      "cell_type": "code",
      "metadata": {
        "id": "damQUqDWe8Be"
      },
      "source": [
        "#Convert the text into lowercase\n",
        "df_post['indo_text'] = df_post['indo_text'].str.lower()"
      ],
      "execution_count": null,
      "outputs": []
    },
    {
      "cell_type": "code",
      "metadata": {
        "id": "cI2HovVcvh2j"
      },
      "source": [
        "#Save DataFrame to CSV\n",
        "df_post.to_csv(\"capstoneaddtweettranslated.csv\", index=False)"
      ],
      "execution_count": null,
      "outputs": []
    },
    {
      "cell_type": "markdown",
      "metadata": {
        "id": "WxrIq8R9VTPn"
      },
      "source": [
        "#Applying Stopwords and Stemmer (Post)"
      ]
    },
    {
      "cell_type": "code",
      "metadata": {
        "colab": {
          "base_uri": "https://localhost:8080/",
          "height": 195
        },
        "id": "LDBJl0DwWnOw",
        "outputId": "fa06b7fe-0104-407d-aa4c-56d1046d82f8"
      },
      "source": [
        "#Import Translated Post Dataset\n",
        "url_post = 'https://drive.google.com/file/d/1dWQB76NUK2DsPSYvxPD2KJQ12bKM7hmA/view?usp=sharing'\n",
        "file_id_post = url_post.split('/')[-2]\n",
        "csv_url_post = 'https://drive.google.com/uc?id=' + file_id_post\n",
        "df_post = pd.read_csv(csv_url_post)\n",
        "df_post.head()"
      ],
      "execution_count": null,
      "outputs": [
        {
          "output_type": "execute_result",
          "data": {
            "text/html": [
              "<div>\n",
              "<style scoped>\n",
              "    .dataframe tbody tr th:only-of-type {\n",
              "        vertical-align: middle;\n",
              "    }\n",
              "\n",
              "    .dataframe tbody tr th {\n",
              "        vertical-align: top;\n",
              "    }\n",
              "\n",
              "    .dataframe thead th {\n",
              "        text-align: right;\n",
              "    }\n",
              "</style>\n",
              "<table border=\"1\" class=\"dataframe\">\n",
              "  <thead>\n",
              "    <tr style=\"text-align: right;\">\n",
              "      <th></th>\n",
              "      <th>text</th>\n",
              "      <th>label</th>\n",
              "      <th>index</th>\n",
              "      <th>indo_text</th>\n",
              "    </tr>\n",
              "  </thead>\n",
              "  <tbody>\n",
              "    <tr>\n",
              "      <th>0</th>\n",
              "      <td>the ironies of the movement are too painfully ...</td>\n",
              "      <td>Lokasi Kerja</td>\n",
              "      <td>0</td>\n",
              "      <td>ironi gerakan ini terlalu menyakitkan jelas di...</td>\n",
              "    </tr>\n",
              "    <tr>\n",
              "      <th>1</th>\n",
              "      <td>women in kuwait have launched a social media c...</td>\n",
              "      <td>Siber</td>\n",
              "      <td>1</td>\n",
              "      <td>wanita di kuwait telah meluncurkan kampanye me...</td>\n",
              "    </tr>\n",
              "    <tr>\n",
              "      <th>2</th>\n",
              "      <td>triger warning raising awareness of sexual ass...</td>\n",
              "      <td>Lokasi Privat</td>\n",
              "      <td>2</td>\n",
              "      <td>peringatan triger meningkatkan kesadaran akan ...</td>\n",
              "    </tr>\n",
              "    <tr>\n",
              "      <th>3</th>\n",
              "      <td>charges brought against the guy that smacked m...</td>\n",
              "      <td>Lokasi Privat</td>\n",
              "      <td>3</td>\n",
              "      <td>dakwaan yang diajukan terhadap pria yang memuk...</td>\n",
              "    </tr>\n",
              "    <tr>\n",
              "      <th>4</th>\n",
              "      <td>and the fourth presenter on th may is hannah b...</td>\n",
              "      <td>Lokasi Pendidikan</td>\n",
              "      <td>4</td>\n",
              "      <td>dan presenter keempat pada bulan mei adalah ma...</td>\n",
              "    </tr>\n",
              "  </tbody>\n",
              "</table>\n",
              "</div>"
            ],
            "text/plain": [
              "                                                text  ...                                          indo_text\n",
              "0  the ironies of the movement are too painfully ...  ...  ironi gerakan ini terlalu menyakitkan jelas di...\n",
              "1  women in kuwait have launched a social media c...  ...  wanita di kuwait telah meluncurkan kampanye me...\n",
              "2  triger warning raising awareness of sexual ass...  ...  peringatan triger meningkatkan kesadaran akan ...\n",
              "3  charges brought against the guy that smacked m...  ...  dakwaan yang diajukan terhadap pria yang memuk...\n",
              "4  and the fourth presenter on th may is hannah b...  ...  dan presenter keempat pada bulan mei adalah ma...\n",
              "\n",
              "[5 rows x 4 columns]"
            ]
          },
          "metadata": {
            "tags": []
          },
          "execution_count": 40
        }
      ]
    },
    {
      "cell_type": "code",
      "metadata": {
        "colab": {
          "base_uri": "https://localhost:8080/",
          "height": 195
        },
        "id": "-XfZG-LeRU4Z",
        "outputId": "03866bc3-536e-48b5-e829-cd48e14595db"
      },
      "source": [
        "#Import Translated Additional Dataset\n",
        "url_add = 'https://drive.google.com/file/d/1Sb1t9O3Y09SuAz4buHLlf4qa9HrOimJi/view?usp=sharing'\n",
        "file_id_add = url_add.split('/')[-2]\n",
        "csv_url_add = 'https://drive.google.com/uc?id=' + file_id_add\n",
        "df_add = pd.read_csv(csv_url_add)\n",
        "df_add.drop(columns=['label_laporan'], inplace=True)\n",
        "df_add.rename(columns={'label_post': 'label'}, inplace = True)\n",
        "df_add.head()"
      ],
      "execution_count": null,
      "outputs": [
        {
          "output_type": "execute_result",
          "data": {
            "text/html": [
              "<div>\n",
              "<style scoped>\n",
              "    .dataframe tbody tr th:only-of-type {\n",
              "        vertical-align: middle;\n",
              "    }\n",
              "\n",
              "    .dataframe tbody tr th {\n",
              "        vertical-align: top;\n",
              "    }\n",
              "\n",
              "    .dataframe thead th {\n",
              "        text-align: right;\n",
              "    }\n",
              "</style>\n",
              "<table border=\"1\" class=\"dataframe\">\n",
              "  <thead>\n",
              "    <tr style=\"text-align: right;\">\n",
              "      <th></th>\n",
              "      <th>index</th>\n",
              "      <th>text</th>\n",
              "      <th>label</th>\n",
              "      <th>indo_text</th>\n",
              "    </tr>\n",
              "  </thead>\n",
              "  <tbody>\n",
              "    <tr>\n",
              "      <th>0</th>\n",
              "      <td>0</td>\n",
              "      <td>x</td>\n",
              "      <td>Netral</td>\n",
              "      <td>x</td>\n",
              "    </tr>\n",
              "    <tr>\n",
              "      <th>1</th>\n",
              "      <td>1</td>\n",
              "      <td>on how the other accused were doing after that...</td>\n",
              "      <td>Lokasi Publik</td>\n",
              "      <td>tentang apa yang dilakukan terdakwa lainnya se...</td>\n",
              "    </tr>\n",
              "    <tr>\n",
              "      <th>2</th>\n",
              "      <td>2</td>\n",
              "      <td>in the five years since black women have emerg...</td>\n",
              "      <td>Lokasi Publik</td>\n",
              "      <td>dalam lima tahun sejak perempuan kulit hitam m...</td>\n",
              "    </tr>\n",
              "    <tr>\n",
              "      <th>3</th>\n",
              "      <td>3</td>\n",
              "      <td>discussed the movement and how to deal with tr...</td>\n",
              "      <td>Lokasi Publik</td>\n",
              "      <td>membahas pergerakan dan cara mengatasi trauma ...</td>\n",
              "    </tr>\n",
              "    <tr>\n",
              "      <th>4</th>\n",
              "      <td>4</td>\n",
              "      <td>charlie hanson publicly supported and spoke ou...</td>\n",
              "      <td>Lokasi Kerja</td>\n",
              "      <td>charlie hanson secara terbuka mendukung dan be...</td>\n",
              "    </tr>\n",
              "  </tbody>\n",
              "</table>\n",
              "</div>"
            ],
            "text/plain": [
              "   index  ...                                          indo_text\n",
              "0      0  ...                                                  x\n",
              "1      1  ...  tentang apa yang dilakukan terdakwa lainnya se...\n",
              "2      2  ...  dalam lima tahun sejak perempuan kulit hitam m...\n",
              "3      3  ...  membahas pergerakan dan cara mengatasi trauma ...\n",
              "4      4  ...  charlie hanson secara terbuka mendukung dan be...\n",
              "\n",
              "[5 rows x 4 columns]"
            ]
          },
          "metadata": {
            "tags": []
          },
          "execution_count": 41
        }
      ]
    },
    {
      "cell_type": "code",
      "metadata": {
        "id": "O9Ztofp-TLik"
      },
      "source": [
        "#Combine 2 datasets\n",
        "df_post = pd.concat([df_post, df_add])"
      ],
      "execution_count": null,
      "outputs": []
    },
    {
      "cell_type": "code",
      "metadata": {
        "id": "QtlINLgOTdGa"
      },
      "source": [
        "#Drop duplicates row\n",
        "df_post.drop_duplicates(subset=['text'], inplace=True)"
      ],
      "execution_count": null,
      "outputs": []
    },
    {
      "cell_type": "code",
      "metadata": {
        "id": "R99z4t-eYAqG"
      },
      "source": [
        "df_post['text'] = df_post['indo_text']\n",
        "df_post = df_post.drop(['indo_text'], axis=1)"
      ],
      "execution_count": null,
      "outputs": []
    },
    {
      "cell_type": "code",
      "metadata": {
        "colab": {
          "base_uri": "https://localhost:8080/"
        },
        "id": "Lr3oiA5DECBK",
        "outputId": "0819dcf8-2d11-4aa1-f9e9-3f2c3ecdbd33"
      },
      "source": [
        "df_post['text']"
      ],
      "execution_count": null,
      "outputs": [
        {
          "output_type": "execute_result",
          "data": {
            "text/plain": [
              "0       ironi gerakan ini terlalu menyakitkan jelas di...\n",
              "1       wanita di kuwait telah meluncurkan kampanye me...\n",
              "2       peringatan triger meningkatkan kesadaran akan ...\n",
              "3       dakwaan yang diajukan terhadap pria yang memuk...\n",
              "4       dan presenter keempat pada bulan mei adalah ma...\n",
              "                              ...                        \n",
              "3961                                     khusus kasus dan\n",
              "3963    wanita yang menyusun surat perlindungan saya m...\n",
              "3964    daftar di bookmad yang disorot untuk keinginan...\n",
              "3965    mereka mencoba melakukan pr untuknya pada kita...\n",
              "3966    saya terkadang bertanya-tanya apakah saya tahu...\n",
              "Name: text, Length: 20662, dtype: object"
            ]
          },
          "metadata": {
            "tags": []
          },
          "execution_count": 53
        }
      ]
    },
    {
      "cell_type": "code",
      "metadata": {
        "id": "8AJsCpWgVNmE",
        "outputId": "3701aa2b-9346-49d9-a41d-7f924333c2cc",
        "colab": {
          "base_uri": "https://localhost:8080/"
        }
      },
      "source": [
        "df_post['label'].value_counts()"
      ],
      "execution_count": null,
      "outputs": [
        {
          "output_type": "execute_result",
          "data": {
            "text/plain": [
              "Netral               5490\n",
              "Lokasi Publik        4416\n",
              "Lokasi Privat        3635\n",
              "Siber                2788\n",
              "Lokasi Kerja         2224\n",
              "Lokasi Pendidikan    2109\n",
              "Name: label, dtype: int64"
            ]
          },
          "metadata": {
            "tags": []
          },
          "execution_count": 54
        }
      ]
    },
    {
      "cell_type": "code",
      "metadata": {
        "id": "EMz_iC0WDBDx"
      },
      "source": [
        "#Remove Stopwords from Texts\n",
        "stopwordFactory = StopWordRemoverFactory()\n",
        "stopword = stopwordFactory.create_stop_word_remover()\n",
        "\n",
        "df_post['text'] = df_post['text'].apply(lambda x: stopword.remove(x))"
      ],
      "execution_count": null,
      "outputs": []
    },
    {
      "cell_type": "code",
      "metadata": {
        "colab": {
          "base_uri": "https://localhost:8080/"
        },
        "id": "KIob0zlpDv8R",
        "outputId": "7407d316-dc91-4556-c562-168cf0583f18"
      },
      "source": [
        "df_post['text']"
      ],
      "execution_count": null,
      "outputs": [
        {
          "output_type": "execute_result",
          "data": {
            "text/plain": [
              "0        ironi gerakan terlalu menyakitkan jelas dipelo...\n",
              "1        wanita kuwait meluncurkan kampanye media sosia...\n",
              "2        peringatan triger meningkatkan kesadaran pelec...\n",
              "3        dakwaan diajukan pria memukul serangan seksual...\n",
              "4        presenter keempat bulan mei mahasiswa phd hann...\n",
              "                               ...                        \n",
              "17498    adalah pasar dosen muda mungkin hargai sini se...\n",
              "17499    dosen redpath menginap hotel anak muda menghab...\n",
              "17500    dosen membahas berbagai topik mendelisme hingg...\n",
              "17501    menggantikan pemikiran sangat berguna para opt...\n",
              "17502    vizard, seorang konsultan independen melatih d...\n",
              "Name: text, Length: 17503, dtype: object"
            ]
          },
          "metadata": {
            "tags": []
          },
          "execution_count": 18
        }
      ]
    },
    {
      "cell_type": "code",
      "metadata": {
        "id": "ljAuTaF6Ea1N"
      },
      "source": [
        "#Stem the Texts (Removing Prefix and Suffix)\n",
        "stemmerFactory = StemmerFactory()\n",
        "stemmer = stemmerFactory.create_stemmer()\n",
        "\n",
        "df_post['text'] = df_post['text'].apply(lambda x: stemmer.stem(x))"
      ],
      "execution_count": null,
      "outputs": []
    },
    {
      "cell_type": "code",
      "metadata": {
        "colab": {
          "base_uri": "https://localhost:8080/"
        },
        "id": "AvLawm23GsuA",
        "outputId": "5fdcb75c-6106-40a2-9bb6-337ec3ad6221"
      },
      "source": [
        "df_post['text']"
      ],
      "execution_count": null,
      "outputs": [
        {
          "output_type": "execute_result",
          "data": {
            "text/plain": [
              "0        ironi gera terlalu sakit jelas lopor aktris ho...\n",
              "1        wanita kuwait luncur kampanye media sosial man...\n",
              "2        ingat triger tingkat sadar leceh seksual keras...\n",
              "3        dakwa aju pria pukul serang seksual persetan b...\n",
              "4        presenter empat bulan mei mahasiswa phd hannah...\n",
              "                               ...                        \n",
              "17498    adalah pasar dosen muda mungkin harga sini sem...\n",
              "17499    dosen redpath inap hotel anak muda habis hari ...\n",
              "17500    dosen bahas bagai topik mendelisme hingga meso...\n",
              "17501           ganti pikir sangat guna para optimis dosen\n",
              "17502    vizard orang konsultan independen latih dosen ...\n",
              "Name: text, Length: 17503, dtype: object"
            ]
          },
          "metadata": {
            "tags": []
          },
          "execution_count": 20
        }
      ]
    },
    {
      "cell_type": "code",
      "metadata": {
        "id": "suYQuXUANHPE"
      },
      "source": [
        "#Save DataFrame to CSV\n",
        "df_post.to_csv(\"capstonetweetpoststemmed.csv\", index=False)"
      ],
      "execution_count": null,
      "outputs": []
    },
    {
      "cell_type": "markdown",
      "metadata": {
        "id": "GuKYl5UJWLOh"
      },
      "source": [
        "#Modelling (Post)"
      ]
    },
    {
      "cell_type": "code",
      "metadata": {
        "colab": {
          "base_uri": "https://localhost:8080/",
          "height": 197
        },
        "id": "c2WW3eiDOBhG",
        "outputId": "af538e20-e6a6-4752-e130-7fd612f46a79"
      },
      "source": [
        "#Import Stemmed Dataset\n",
        "url_post = 'https://drive.google.com/file/d/1M-JOISRaxP0aPgJo_EdjPKBdHLCaSlCb/view?usp=sharing'\n",
        "file_id_post = url_post.split('/')[-2]\n",
        "csv_url_post = 'https://drive.google.com/uc?id=' + file_id_post\n",
        "df_post = pd.read_csv(csv_url_post)\n",
        "df_post.head()"
      ],
      "execution_count": null,
      "outputs": [
        {
          "output_type": "execute_result",
          "data": {
            "text/html": [
              "<div>\n",
              "<style scoped>\n",
              "    .dataframe tbody tr th:only-of-type {\n",
              "        vertical-align: middle;\n",
              "    }\n",
              "\n",
              "    .dataframe tbody tr th {\n",
              "        vertical-align: top;\n",
              "    }\n",
              "\n",
              "    .dataframe thead th {\n",
              "        text-align: right;\n",
              "    }\n",
              "</style>\n",
              "<table border=\"1\" class=\"dataframe\">\n",
              "  <thead>\n",
              "    <tr style=\"text-align: right;\">\n",
              "      <th></th>\n",
              "      <th>text</th>\n",
              "      <th>label</th>\n",
              "      <th>index</th>\n",
              "    </tr>\n",
              "  </thead>\n",
              "  <tbody>\n",
              "    <tr>\n",
              "      <th>0</th>\n",
              "      <td>ironi gera terlalu sakit jelas lopor aktris ho...</td>\n",
              "      <td>Lokasi Kerja</td>\n",
              "      <td>0</td>\n",
              "    </tr>\n",
              "    <tr>\n",
              "      <th>1</th>\n",
              "      <td>wanita kuwait luncur kampanye media sosial man...</td>\n",
              "      <td>Siber</td>\n",
              "      <td>1</td>\n",
              "    </tr>\n",
              "    <tr>\n",
              "      <th>2</th>\n",
              "      <td>ingat triger tingkat sadar leceh seksual keras...</td>\n",
              "      <td>Lokasi Privat</td>\n",
              "      <td>2</td>\n",
              "    </tr>\n",
              "    <tr>\n",
              "      <th>3</th>\n",
              "      <td>dakwa aju pria pukul serang seksual persetan b...</td>\n",
              "      <td>Lokasi Privat</td>\n",
              "      <td>3</td>\n",
              "    </tr>\n",
              "    <tr>\n",
              "      <th>4</th>\n",
              "      <td>presenter empat bulan mei mahasiswa phd hannah...</td>\n",
              "      <td>Lokasi Pendidikan</td>\n",
              "      <td>4</td>\n",
              "    </tr>\n",
              "  </tbody>\n",
              "</table>\n",
              "</div>"
            ],
            "text/plain": [
              "                                                text              label  index\n",
              "0  ironi gera terlalu sakit jelas lopor aktris ho...       Lokasi Kerja      0\n",
              "1  wanita kuwait luncur kampanye media sosial man...              Siber      1\n",
              "2  ingat triger tingkat sadar leceh seksual keras...      Lokasi Privat      2\n",
              "3  dakwa aju pria pukul serang seksual persetan b...      Lokasi Privat      3\n",
              "4  presenter empat bulan mei mahasiswa phd hannah...  Lokasi Pendidikan      4"
            ]
          },
          "metadata": {
            "tags": []
          },
          "execution_count": 23
        }
      ]
    },
    {
      "cell_type": "code",
      "metadata": {
        "colab": {
          "base_uri": "https://localhost:8080/"
        },
        "id": "P4Gclqa5ONVH",
        "outputId": "3ced6564-2be0-4215-92ca-3e7c32acfaf2"
      },
      "source": [
        "df_post['text']"
      ],
      "execution_count": null,
      "outputs": [
        {
          "output_type": "execute_result",
          "data": {
            "text/plain": [
              "0        ironi gera terlalu sakit jelas lopor aktris ho...\n",
              "1        wanita kuwait luncur kampanye media sosial man...\n",
              "2        ingat triger tingkat sadar leceh seksual keras...\n",
              "3        dakwa aju pria pukul serang seksual persetan b...\n",
              "4        presenter empat bulan mei mahasiswa phd hannah...\n",
              "                               ...                        \n",
              "17498    adalah pasar dosen muda mungkin harga sini sem...\n",
              "17499    dosen redpath inap hotel anak muda habis hari ...\n",
              "17500    dosen bahas bagai topik mendelisme hingga meso...\n",
              "17501           ganti pikir sangat guna para optimis dosen\n",
              "17502    vizard orang konsultan independen latih dosen ...\n",
              "Name: text, Length: 17503, dtype: object"
            ]
          },
          "metadata": {
            "tags": []
          },
          "execution_count": 24
        }
      ]
    },
    {
      "cell_type": "code",
      "metadata": {
        "id": "ulvgf7_IxOz9",
        "colab": {
          "base_uri": "https://localhost:8080/"
        },
        "outputId": "1014758b-abf8-4096-b01e-1c6a1a8f1f58"
      },
      "source": [
        "df_post['label'].value_counts()"
      ],
      "execution_count": null,
      "outputs": [
        {
          "output_type": "execute_result",
          "data": {
            "text/plain": [
              "Netral               4617\n",
              "Lokasi Publik        3679\n",
              "Lokasi Privat        3109\n",
              "Siber                2313\n",
              "Lokasi Kerja         1894\n",
              "Lokasi Pendidikan    1891\n",
              "Name: label, dtype: int64"
            ]
          },
          "metadata": {
            "tags": []
          },
          "execution_count": 25
        }
      ]
    },
    {
      "cell_type": "code",
      "metadata": {
        "id": "_zugJcnpsr4p"
      },
      "source": [
        "labels = pd.get_dummies(df_post.label)"
      ],
      "execution_count": null,
      "outputs": []
    },
    {
      "cell_type": "code",
      "metadata": {
        "id": "sMP4dEqss7hA"
      },
      "source": [
        "df_new_post = pd.concat([df_post, labels], axis=1)"
      ],
      "execution_count": null,
      "outputs": []
    },
    {
      "cell_type": "code",
      "metadata": {
        "colab": {
          "base_uri": "https://localhost:8080/",
          "height": 197
        },
        "id": "m2rcT0nDl7PP",
        "outputId": "4b37244b-54ff-48ac-9c67-2614ed3edad7"
      },
      "source": [
        "df_new_post.head()"
      ],
      "execution_count": null,
      "outputs": [
        {
          "output_type": "execute_result",
          "data": {
            "text/html": [
              "<div>\n",
              "<style scoped>\n",
              "    .dataframe tbody tr th:only-of-type {\n",
              "        vertical-align: middle;\n",
              "    }\n",
              "\n",
              "    .dataframe tbody tr th {\n",
              "        vertical-align: top;\n",
              "    }\n",
              "\n",
              "    .dataframe thead th {\n",
              "        text-align: right;\n",
              "    }\n",
              "</style>\n",
              "<table border=\"1\" class=\"dataframe\">\n",
              "  <thead>\n",
              "    <tr style=\"text-align: right;\">\n",
              "      <th></th>\n",
              "      <th>text</th>\n",
              "      <th>label</th>\n",
              "      <th>index</th>\n",
              "      <th>Lokasi Kerja</th>\n",
              "      <th>Lokasi Pendidikan</th>\n",
              "      <th>Lokasi Privat</th>\n",
              "      <th>Lokasi Publik</th>\n",
              "      <th>Netral</th>\n",
              "      <th>Siber</th>\n",
              "    </tr>\n",
              "  </thead>\n",
              "  <tbody>\n",
              "    <tr>\n",
              "      <th>0</th>\n",
              "      <td>ironi gera terlalu sakit jelas lopor aktris ho...</td>\n",
              "      <td>Lokasi Kerja</td>\n",
              "      <td>0</td>\n",
              "      <td>1</td>\n",
              "      <td>0</td>\n",
              "      <td>0</td>\n",
              "      <td>0</td>\n",
              "      <td>0</td>\n",
              "      <td>0</td>\n",
              "    </tr>\n",
              "    <tr>\n",
              "      <th>1</th>\n",
              "      <td>wanita kuwait luncur kampanye media sosial man...</td>\n",
              "      <td>Siber</td>\n",
              "      <td>1</td>\n",
              "      <td>0</td>\n",
              "      <td>0</td>\n",
              "      <td>0</td>\n",
              "      <td>0</td>\n",
              "      <td>0</td>\n",
              "      <td>1</td>\n",
              "    </tr>\n",
              "    <tr>\n",
              "      <th>2</th>\n",
              "      <td>ingat triger tingkat sadar leceh seksual keras...</td>\n",
              "      <td>Lokasi Privat</td>\n",
              "      <td>2</td>\n",
              "      <td>0</td>\n",
              "      <td>0</td>\n",
              "      <td>1</td>\n",
              "      <td>0</td>\n",
              "      <td>0</td>\n",
              "      <td>0</td>\n",
              "    </tr>\n",
              "    <tr>\n",
              "      <th>3</th>\n",
              "      <td>dakwa aju pria pukul serang seksual persetan b...</td>\n",
              "      <td>Lokasi Privat</td>\n",
              "      <td>3</td>\n",
              "      <td>0</td>\n",
              "      <td>0</td>\n",
              "      <td>1</td>\n",
              "      <td>0</td>\n",
              "      <td>0</td>\n",
              "      <td>0</td>\n",
              "    </tr>\n",
              "    <tr>\n",
              "      <th>4</th>\n",
              "      <td>presenter empat bulan mei mahasiswa phd hannah...</td>\n",
              "      <td>Lokasi Pendidikan</td>\n",
              "      <td>4</td>\n",
              "      <td>0</td>\n",
              "      <td>1</td>\n",
              "      <td>0</td>\n",
              "      <td>0</td>\n",
              "      <td>0</td>\n",
              "      <td>0</td>\n",
              "    </tr>\n",
              "  </tbody>\n",
              "</table>\n",
              "</div>"
            ],
            "text/plain": [
              "                                                text  ... Siber\n",
              "0  ironi gera terlalu sakit jelas lopor aktris ho...  ...     0\n",
              "1  wanita kuwait luncur kampanye media sosial man...  ...     1\n",
              "2  ingat triger tingkat sadar leceh seksual keras...  ...     0\n",
              "3  dakwa aju pria pukul serang seksual persetan b...  ...     0\n",
              "4  presenter empat bulan mei mahasiswa phd hannah...  ...     0\n",
              "\n",
              "[5 rows x 9 columns]"
            ]
          },
          "metadata": {
            "tags": []
          },
          "execution_count": 28
        }
      ]
    },
    {
      "cell_type": "code",
      "metadata": {
        "id": "K_YhqeK_soIr"
      },
      "source": [
        "tweet_post = df_new_post['text'].astype(str).values\n",
        "label_post = df_new_post[[\"Lokasi Kerja\", \"Lokasi Pendidikan\", \"Lokasi Privat\", \"Lokasi Publik\", \"Netral\", \"Siber\"]].values"
      ],
      "execution_count": null,
      "outputs": []
    },
    {
      "cell_type": "code",
      "metadata": {
        "id": "Fhtsnub1wT99",
        "colab": {
          "base_uri": "https://localhost:8080/"
        },
        "outputId": "bc12dfeb-1115-4099-90f1-05b3057e1eaa"
      },
      "source": [
        "label_post"
      ],
      "execution_count": null,
      "outputs": [
        {
          "output_type": "execute_result",
          "data": {
            "text/plain": [
              "array([[1, 0, 0, 0, 0, 0],\n",
              "       [0, 0, 0, 0, 0, 1],\n",
              "       [0, 0, 1, 0, 0, 0],\n",
              "       ...,\n",
              "       [0, 1, 0, 0, 0, 0],\n",
              "       [0, 1, 0, 0, 0, 0],\n",
              "       [0, 1, 0, 0, 0, 0]], dtype=uint8)"
            ]
          },
          "metadata": {
            "tags": []
          },
          "execution_count": 30
        }
      ]
    },
    {
      "cell_type": "code",
      "metadata": {
        "id": "Lu2JQOMsjByI"
      },
      "source": [
        "from sklearn.model_selection import train_test_split\n",
        "#Train Text, Test Text, Train Label, Test Label\n",
        "X_train, X_test, y_train, y_test = train_test_split(tweet_post, label_post, test_size=0.2, shuffle=True)"
      ],
      "execution_count": null,
      "outputs": []
    },
    {
      "cell_type": "code",
      "metadata": {
        "id": "sBtqd28eGu4Y"
      },
      "source": [
        "tokenizer = Tokenizer(num_words = vocab_size, oov_token = oov_tok)\n",
        "tokenizer.fit_on_texts(X_train)\n",
        "word_index = tokenizer.word_index\n",
        "sequences = tokenizer.texts_to_sequences(X_train)\n",
        "padded = pad_sequences(sequences, maxlen=max_length, truncating=trunc_type)\n",
        "\n",
        "testing_sequences = tokenizer.texts_to_sequences(X_test)\n",
        "testing_padded = pad_sequences(testing_sequences, maxlen = max_length)"
      ],
      "execution_count": null,
      "outputs": []
    },
    {
      "cell_type": "code",
      "metadata": {
        "id": "jvl9nAPioO_C"
      },
      "source": [
        "class myCallback(tf.keras.callbacks.Callback):\n",
        "\tdef on_epoch_end(self, epoch, logs={}):\n",
        "\t\tif(logs.get('val_accuracy')>0.80):\n",
        "\t\t\tprint(\"Desired accuracy reached!\")\n",
        "\t\t\tself.model.stop_training=True"
      ],
      "execution_count": null,
      "outputs": []
    },
    {
      "cell_type": "code",
      "metadata": {
        "id": "RjZ8vIaNHUe1"
      },
      "source": [
        "import tensorflow as tf\n",
        "'''\n",
        "For improvement, we optimized this parameters:\n",
        "1. embedding_dim = 50, 100\n",
        "2. max_length = 50, 100\n",
        "3. Bidirectional layer = 16, 32, 64, 128\n",
        "4. Dropout value = 0.1, 0.2, 0.3, 0.5, 0.6\n",
        "5. recurrent_dropout value = 0.2 & 0.3\n",
        "6. Convolutional layer = 32, 64, 128\n",
        "7. Convolutional kernel = 1, 2, 3, 4, 5\n",
        "8. Pooling layer = MaxPooling1D & GlobalMaxPooling1D\n",
        "9. batch_size = 32, 64, 100\n",
        "\n",
        "Selected improvement parameters:\n",
        "1. Embedding_dim = 100\n",
        "2. Max_length = 50\n",
        "3. Dropout value = 0.6\n",
        "4. Convolutional layer = 128\n",
        "5. Convolutional kernel = 2\n",
        "6. Pooling layer = GlobalMaxPooling1D\n",
        "7. batch_size = 64\n",
        "'''\n",
        "\n",
        "'''\n",
        "# Initial Model : Bi-LSTM with Dropout\n",
        "model = tf.keras.Sequential([\n",
        "  tf.keras.layers.Embedding(vocab_size, embedding_dim, input_length=max_length),\n",
        "  tf.keras.layers.Bidirectional(tf.keras.layers.LSTM(128, return_sequences=True)),\n",
        "  tf.keras.layers.Bidirectional(tf.keras.layers.LSTM(64, return_sequences=True)),\n",
        "  tf.keras.layers.Bidirectional(tf.keras.layers.LSTM(32, return_sequences=True)),\n",
        "  tf.keras.layers.Bidirectional(tf.keras.layers.LSTM(16)),\n",
        "  tf.keras.layers.Dropout(0.1),\n",
        "  tf.keras.layers.Dense(32, activation='relu'),\n",
        "  tf.keras.layers.Dense(6, activation='softmax')\n",
        "])\n",
        "'''\n",
        "\n",
        "'''\n",
        "# Improvement : Bi-LSTM with GRU\n",
        "model = tf.keras.Sequential([\n",
        "  tf.keras.layers.Embedding(vocab_size, embedding_dim, input_length=max_length),\n",
        "  tf.keras.layers.Bidirectional(tf.keras.layers.GRU(128, recurrent_dropout=0.2, return_sequences=True)),\n",
        "  tf.keras.layers.Bidirectional(tf.keras.layers.LSTM(64)),\n",
        "  tf.keras.layers.Dense(128, activation='relu'),\n",
        "  tf.keras.layers.Dropout(0.5),\n",
        "  tf.keras.layers.Dense(6, activation='softmax')\n",
        "])\n",
        "'''\n",
        "\n",
        "#Last Improvement : CNN with dropout\n",
        "model = tf.keras.Sequential([\n",
        "  tf.keras.layers.Embedding(vocab_size, embedding_dim, input_length=max_length),\n",
        "  tf.keras.layers.Dropout(0.6),\n",
        "  tf.keras.layers.Conv1D(128, 2, activation='relu',padding='same'),\n",
        "  tf.keras.layers.Dropout(0.6),\n",
        "  tf.keras.layers.GlobalMaxPooling1D(),\n",
        "  tf.keras.layers.Flatten(),\n",
        "  tf.keras.layers.Dropout(0.6),\n",
        "  tf.keras.layers.Dense(64, activation='relu'),\n",
        "  tf.keras.layers.Dense(7, activation='softmax')\n",
        "])"
      ],
      "execution_count": null,
      "outputs": []
    },
    {
      "cell_type": "code",
      "metadata": {
        "id": "bVv4IUpQIu1q",
        "colab": {
          "base_uri": "https://localhost:8080/"
        },
        "outputId": "eeb690b2-170f-4ee5-a8c0-65851ccb54e9"
      },
      "source": [
        "model.compile(loss='categorical_crossentropy', optimizer='adam', metrics=['accuracy'])\n",
        "model.summary()"
      ],
      "execution_count": null,
      "outputs": [
        {
          "output_type": "stream",
          "text": [
            "Model: \"sequential_1\"\n",
            "_________________________________________________________________\n",
            "Layer (type)                 Output Shape              Param #   \n",
            "=================================================================\n",
            "embedding_1 (Embedding)      (None, 50, 100)           2000000   \n",
            "_________________________________________________________________\n",
            "dropout_3 (Dropout)          (None, 50, 100)           0         \n",
            "_________________________________________________________________\n",
            "conv1d_1 (Conv1D)            (None, 50, 128)           25728     \n",
            "_________________________________________________________________\n",
            "dropout_4 (Dropout)          (None, 50, 128)           0         \n",
            "_________________________________________________________________\n",
            "global_max_pooling1d_1 (Glob (None, 128)               0         \n",
            "_________________________________________________________________\n",
            "flatten_1 (Flatten)          (None, 128)               0         \n",
            "_________________________________________________________________\n",
            "dropout_5 (Dropout)          (None, 128)               0         \n",
            "_________________________________________________________________\n",
            "dense_2 (Dense)              (None, 64)                8256      \n",
            "_________________________________________________________________\n",
            "dense_3 (Dense)              (None, 6)                 390       \n",
            "=================================================================\n",
            "Total params: 2,034,374\n",
            "Trainable params: 2,034,374\n",
            "Non-trainable params: 0\n",
            "_________________________________________________________________\n"
          ],
          "name": "stdout"
        }
      ]
    },
    {
      "cell_type": "code",
      "metadata": {
        "id": "wurt_WmlJLoV",
        "colab": {
          "base_uri": "https://localhost:8080/"
        },
        "outputId": "c01c958a-6dac-4bfa-90be-daf64110ab10"
      },
      "source": [
        "num_epochs = 10\n",
        "callbacks = myCallback()\n",
        "history = model.fit(padded, y_train, epochs=num_epochs, validation_data=(testing_padded, y_test), callbacks=[callbacks], batch_size=64)"
      ],
      "execution_count": null,
      "outputs": [
        {
          "output_type": "stream",
          "text": [
            "Epoch 1/10\n",
            "219/219 [==============================] - 9s 38ms/step - loss: 1.6701 - accuracy: 0.3214 - val_loss: 1.6221 - val_accuracy: 0.4359\n",
            "Epoch 2/10\n",
            "219/219 [==============================] - 8s 37ms/step - loss: 1.3445 - accuracy: 0.4899 - val_loss: 1.2410 - val_accuracy: 0.6869\n",
            "Epoch 3/10\n",
            "219/219 [==============================] - 8s 37ms/step - loss: 1.0013 - accuracy: 0.6459 - val_loss: 0.9992 - val_accuracy: 0.7609\n",
            "Epoch 4/10\n",
            "219/219 [==============================] - 8s 37ms/step - loss: 0.8316 - accuracy: 0.7203 - val_loss: 0.8866 - val_accuracy: 0.7821\n",
            "Epoch 5/10\n",
            "219/219 [==============================] - 8s 37ms/step - loss: 0.7396 - accuracy: 0.7557 - val_loss: 0.8125 - val_accuracy: 0.7875\n",
            "Epoch 6/10\n",
            "219/219 [==============================] - 8s 37ms/step - loss: 0.6643 - accuracy: 0.7847 - val_loss: 0.7724 - val_accuracy: 0.7929\n",
            "Epoch 7/10\n",
            "219/219 [==============================] - 8s 37ms/step - loss: 0.6210 - accuracy: 0.8007 - val_loss: 0.7476 - val_accuracy: 0.7909\n",
            "Epoch 8/10\n",
            "219/219 [==============================] - 8s 37ms/step - loss: 0.5811 - accuracy: 0.8145 - val_loss: 0.7292 - val_accuracy: 0.7898\n",
            "Epoch 9/10\n",
            "219/219 [==============================] - 8s 37ms/step - loss: 0.5463 - accuracy: 0.8263 - val_loss: 0.7090 - val_accuracy: 0.7838\n",
            "Epoch 10/10\n",
            "219/219 [==============================] - 8s 38ms/step - loss: 0.5249 - accuracy: 0.8306 - val_loss: 0.7032 - val_accuracy: 0.7823\n"
          ],
          "name": "stdout"
        }
      ]
    },
    {
      "cell_type": "code",
      "metadata": {
        "colab": {
          "base_uri": "https://localhost:8080/",
          "height": 1000
        },
        "id": "K3rIp4m4zzxU",
        "outputId": "c6e35297-df85-4a7c-b5d1-27a94db9077a"
      },
      "source": [
        "from keras.utils.vis_utils import plot_model\n",
        "tf.keras.utils.plot_model(model, to_file='model_plot.png', show_shapes=True, show_layer_names=False)"
      ],
      "execution_count": null,
      "outputs": [
        {
          "output_type": "execute_result",
          "data": {
            "image/png": "[encoded data removed]",
            "text/plain": [
              "<IPython.core.display.Image object>"
            ]
          },
          "metadata": {
            "tags": []
          },
          "execution_count": 38
        }
      ]
    },
    {
      "cell_type": "code",
      "metadata": {
        "id": "MX7-ShFPWQZA",
        "colab": {
          "base_uri": "https://localhost:8080/",
          "height": 541
        },
        "outputId": "ac592e58-41e4-4ad9-be9e-57c654e6d0f7"
      },
      "source": [
        "def plot_graphs(history, string):\n",
        "  plt.plot(history.history[string])\n",
        "  plt.plot(history.history['val_'+string])\n",
        "  plt.xlabel(\"Epochs\")\n",
        "  plt.ylabel(string)\n",
        "  plt.legend([string, 'val_'+string])\n",
        "  plt.show()\n",
        "\n",
        "plot_graphs(history, \"accuracy\")\n",
        "plot_graphs(history, \"loss\")"
      ],
      "execution_count": null,
      "outputs": [
        {
          "output_type": "display_data",
          "data": {
            "image/png": "[encoded data removed]",
            "text/plain": [
              "<Figure size 432x288 with 1 Axes>"
            ]
          },
          "metadata": {
            "tags": [],
            "needs_background": "light"
          }
        },
        {
          "output_type": "display_data",
          "data": {
            "image/png": "[encoded data removed]",
            "text/plain": [
              "<Figure size 432x288 with 1 Axes>"
            ]
          },
          "metadata": {
            "tags": [],
            "needs_background": "light"
          }
        }
      ]
    },
    {
      "cell_type": "code",
      "metadata": {
        "id": "8-1MZgy8L3Dy"
      },
      "source": [
        "text = [\"bos di kantor\"]\n",
        "\n",
        "tokenized_text = tokenizer.texts_to_sequences(text)"
      ],
      "execution_count": null,
      "outputs": []
    },
    {
      "cell_type": "code",
      "metadata": {
        "id": "IExCJvq0Jq0t",
        "colab": {
          "base_uri": "https://localhost:8080/"
        },
        "outputId": "b93ad305-0f91-43b5-ed21-5a6f29428b25"
      },
      "source": [
        "prediction = model.predict(tokenized_text)"
      ],
      "execution_count": null,
      "outputs": [
        {
          "output_type": "stream",
          "text": [
            "WARNING:tensorflow:Model was constructed with shape (None, 50) for input KerasTensor(type_spec=TensorSpec(shape=(None, 50), dtype=tf.float32, name='embedding_1_input'), name='embedding_1_input', description=\"created by layer 'embedding_1_input'\"), but it was called on an input with incompatible shape (None, 3).\n"
          ],
          "name": "stdout"
        }
      ]
    },
    {
      "cell_type": "code",
      "metadata": {
        "id": "BvInsh7AF2eU",
        "colab": {
          "base_uri": "https://localhost:8080/"
        },
        "outputId": "2f45dd05-09ff-4a23-96d5-a48096c94ff8"
      },
      "source": [
        "labels = [\"Lokasi Kerja\", \"Lokasi Pendidikan\", \"Lokasi Privat\", \"Lokasi Publik\", \"Netral\", \"Siber\"]\n",
        "predicted = prediction.argmax(axis=1)\n",
        "predict_labels = [labels[predict] for predict in predicted]\n",
        "print(prediction)\n",
        "print(predict_labels)"
      ],
      "execution_count": null,
      "outputs": [
        {
          "output_type": "stream",
          "text": [
            "[[0.7206109  0.09675359 0.02544535 0.08368663 0.06351627 0.00998735]]\n",
            "['Lokasi Kerja']\n"
          ],
          "name": "stdout"
        }
      ]
    },
    {
      "cell_type": "code",
      "metadata": {
        "id": "s0QJEHVuWjrH",
        "colab": {
          "base_uri": "https://localhost:8080/"
        },
        "outputId": "8c2a8c8d-9902-4c9c-9b32-098e5e5b1149"
      },
      "source": [
        "#Exporting the Model (TFLITE)\n",
        "export_dir = 'saved_model_post/1'\n",
        "tf.saved_model.save(model, export_dir)"
      ],
      "execution_count": null,
      "outputs": [
        {
          "output_type": "stream",
          "text": [
            "WARNING:tensorflow:FOR KERAS USERS: The object that you are saving contains one or more Keras models or layers. If you are loading the SavedModel with `tf.keras.models.load_model`, continue reading (otherwise, you may ignore the following instructions). Please change your code to save with `tf.keras.models.save_model` or `model.save`, and confirm that the file \"keras.metadata\" exists in the export directory. In the future, Keras will only load the SavedModels that have this file. In other words, `tf.saved_model.save` will no longer write SavedModels that can be recovered as Keras models (this will apply in TF 2.5).\n",
            "\n",
            "FOR DEVS: If you are overwriting _tracking_metadata in your class, this property has been used to save metadata in the SavedModel. The metadta field will be deprecated soon, so please move the metadata to a different file.\n",
            "INFO:tensorflow:Assets written to: saved_model_post/1/assets\n"
          ],
          "name": "stdout"
        }
      ]
    },
    {
      "cell_type": "code",
      "metadata": {
        "id": "ub-ae_4rV6gF"
      },
      "source": [
        "converter = tf.lite.TFLiteConverter.from_saved_model(export_dir)\n",
        "tflite_model = converter.convert()"
      ],
      "execution_count": null,
      "outputs": []
    },
    {
      "cell_type": "code",
      "metadata": {
        "id": "x8WpRsm6XSrl",
        "colab": {
          "base_uri": "https://localhost:8080/"
        },
        "outputId": "6ccf26b1-bd3e-46bd-c2ff-9bee32cba0bc"
      },
      "source": [
        "import pathlib\n",
        "\n",
        "tflite_model_post_file = pathlib.Path('/content/modelpost.tflite')\n",
        "tflite_model_post_file.write_bytes(tflite_model)"
      ],
      "execution_count": null,
      "outputs": [
        {
          "output_type": "execute_result",
          "data": {
            "text/plain": [
              "8141260"
            ]
          },
          "metadata": {
            "tags": []
          },
          "execution_count": 46
        }
      ]
    },
    {
      "cell_type": "code",
      "metadata": {
        "id": "TKc0F73VXt_M",
        "colab": {
          "base_uri": "https://localhost:8080/",
          "height": 16
        },
        "outputId": "6b59df5e-e332-42b6-e203-937436c0cb69"
      },
      "source": [
        "from google.colab import files\n",
        "files.download(tflite_model_post_file)"
      ],
      "execution_count": null,
      "outputs": [
        {
          "output_type": "display_data",
          "data": {
            "application/javascript": [
              "\n",
              "    async function download(id, filename, size) {\n",
              "      if (!google.colab.kernel.accessAllowed) {\n",
              "        return;\n",
              "      }\n",
              "      const div = document.createElement('div');\n",
              "      const label = document.createElement('label');\n",
              "      label.textContent = `Downloading \"${filename}\": `;\n",
              "      div.appendChild(label);\n",
              "      const progress = document.createElement('progress');\n",
              "      progress.max = size;\n",
              "      div.appendChild(progress);\n",
              "      document.body.appendChild(div);\n",
              "\n",
              "      const buffers = [];\n",
              "      let downloaded = 0;\n",
              "\n",
              "      const channel = await google.colab.kernel.comms.open(id);\n",
              "      // Send a message to notify the kernel that we're ready.\n",
              "      channel.send({})\n",
              "\n",
              "      for await (const message of channel.messages) {\n",
              "        // Send a message to notify the kernel that we're ready.\n",
              "        channel.send({})\n",
              "        if (message.buffers) {\n",
              "          for (const buffer of message.buffers) {\n",
              "            buffers.push(buffer);\n",
              "            downloaded += buffer.byteLength;\n",
              "            progress.value = downloaded;\n",
              "          }\n",
              "        }\n",
              "      }\n",
              "      const blob = new Blob(buffers, {type: 'application/binary'});\n",
              "      const a = document.createElement('a');\n",
              "      a.href = window.URL.createObjectURL(blob);\n",
              "      a.download = filename;\n",
              "      div.appendChild(a);\n",
              "      a.click();\n",
              "      div.remove();\n",
              "    }\n",
              "  "
            ],
            "text/plain": [
              "<IPython.core.display.Javascript object>"
            ]
          },
          "metadata": {
            "tags": []
          }
        },
        {
          "output_type": "display_data",
          "data": {
            "application/javascript": [
              "download(\"download_c3d332a9-d0b1-4f47-a960-4c0f524acad3\", \"modelpost.tflite\", 8141260)"
            ],
            "text/plain": [
              "<IPython.core.display.Javascript object>"
            ]
          },
          "metadata": {
            "tags": []
          }
        }
      ]
    },
    {
      "cell_type": "code",
      "metadata": {
        "id": "wLWPD0JdTeBP"
      },
      "source": [
        "#Exporting the Tokenized Word\n",
        "import json\n",
        "\n",
        "with open( 'word_dict_post.json' , 'w' ) as file:\n",
        "    json.dump( tokenizer.word_index , file )"
      ],
      "execution_count": null,
      "outputs": []
    },
    {
      "cell_type": "markdown",
      "metadata": {
        "id": "8bFn2RKfuSzS"
      },
      "source": [
        "#Translate the Dataset (Laporan)"
      ]
    },
    {
      "cell_type": "code",
      "metadata": {
        "id": "KkoY7wQZuYlQ",
        "colab": {
          "base_uri": "https://localhost:8080/",
          "height": 195
        },
        "outputId": "d10d8945-793b-446b-8341-832af6efc558"
      },
      "source": [
        "#Import Labelled Laporan Dataset\n",
        "url_laporan = 'https://drive.google.com/file/d/1fljXpb0LSiSelHDJLaEDt7rw0e2_ZcoY/view?usp=sharing'\n",
        "file_id_laporan = url_laporan.split('/')[-2]\n",
        "csv_url_laporan = 'https://drive.google.com/uc?id=' + file_id_laporan\n",
        "df_laporan = pd.read_csv(csv_url_laporan)\n",
        "df_laporan.head()"
      ],
      "execution_count": null,
      "outputs": [
        {
          "output_type": "execute_result",
          "data": {
            "text/html": [
              "<div>\n",
              "<style scoped>\n",
              "    .dataframe tbody tr th:only-of-type {\n",
              "        vertical-align: middle;\n",
              "    }\n",
              "\n",
              "    .dataframe tbody tr th {\n",
              "        vertical-align: top;\n",
              "    }\n",
              "\n",
              "    .dataframe thead th {\n",
              "        text-align: right;\n",
              "    }\n",
              "</style>\n",
              "<table border=\"1\" class=\"dataframe\">\n",
              "  <thead>\n",
              "    <tr style=\"text-align: right;\">\n",
              "      <th></th>\n",
              "      <th>text</th>\n",
              "      <th>label</th>\n",
              "      <th>index</th>\n",
              "    </tr>\n",
              "  </thead>\n",
              "  <tbody>\n",
              "    <tr>\n",
              "      <th>0</th>\n",
              "      <td>the ironies of the movement are too painfully ...</td>\n",
              "      <td>Kekerasan Psikis</td>\n",
              "      <td>0</td>\n",
              "    </tr>\n",
              "    <tr>\n",
              "      <th>1</th>\n",
              "      <td>women in kuwait have launched a social media c...</td>\n",
              "      <td>Kekerasan Psikis</td>\n",
              "      <td>1</td>\n",
              "    </tr>\n",
              "    <tr>\n",
              "      <th>2</th>\n",
              "      <td>triger warning raising awareness of sexual ass...</td>\n",
              "      <td>Penelantaran</td>\n",
              "      <td>2</td>\n",
              "    </tr>\n",
              "    <tr>\n",
              "      <th>3</th>\n",
              "      <td>charges brought against the guy that smacked m...</td>\n",
              "      <td>Kekerasan Fisik</td>\n",
              "      <td>3</td>\n",
              "    </tr>\n",
              "    <tr>\n",
              "      <th>4</th>\n",
              "      <td>and the fourth presenter on th may is hannah b...</td>\n",
              "      <td>Kekerasan Lainnya</td>\n",
              "      <td>4</td>\n",
              "    </tr>\n",
              "  </tbody>\n",
              "</table>\n",
              "</div>"
            ],
            "text/plain": [
              "                                                text              label  index\n",
              "0  the ironies of the movement are too painfully ...   Kekerasan Psikis      0\n",
              "1  women in kuwait have launched a social media c...   Kekerasan Psikis      1\n",
              "2  triger warning raising awareness of sexual ass...       Penelantaran      2\n",
              "3  charges brought against the guy that smacked m...    Kekerasan Fisik      3\n",
              "4  and the fourth presenter on th may is hannah b...  Kekerasan Lainnya      4"
            ]
          },
          "metadata": {
            "tags": []
          },
          "execution_count": 5
        }
      ]
    },
    {
      "cell_type": "code",
      "metadata": {
        "id": "VhKKFRj_uyVb",
        "colab": {
          "base_uri": "https://localhost:8080/"
        },
        "outputId": "b56751f5-7d77-4387-c223-251b703c165a"
      },
      "source": [
        "#Warning! It's not free, please think several times before running this cell below\n",
        "#Enter the API Key\n",
        "import getpass\n",
        "\n",
        "APIKEY = getpass.getpass()"
      ],
      "execution_count": null,
      "outputs": [
        {
          "output_type": "stream",
          "text": [
            "··········\n"
          ],
          "name": "stdout"
        }
      ]
    },
    {
      "cell_type": "code",
      "metadata": {
        "id": "uM_G6u27vAgY"
      },
      "source": [
        "#Warning! It's also not free, please think several times before running this cell below\n",
        "#Running Translate API\n",
        "from googleapiclient.discovery import build\n",
        "service = build('translate', 'v2', developerKey=APIKEY)\n",
        "\n",
        "df_laporan['indo_text'] = df_laporan['text'].apply(lambda x: (service.translations().list(source='en', target='id', q=x).execute())).apply(lambda x: x['translations']).apply(lambda x: x[0]).apply(lambda x: x['translatedText'])"
      ],
      "execution_count": null,
      "outputs": []
    },
    {
      "cell_type": "code",
      "metadata": {
        "id": "6T8Q4cSuvGKr",
        "colab": {
          "base_uri": "https://localhost:8080/"
        },
        "outputId": "f5d60f1e-7c42-41b7-c721-4ab8e6161898"
      },
      "source": [
        "#Show the first 50 data in the dataset\n",
        "df_laporan['indo_text'].head(50)"
      ],
      "execution_count": null,
      "outputs": [
        {
          "output_type": "execute_result",
          "data": {
            "text/plain": [
              "0     ironi gerakan ini terlalu menyakitkan dan jela...\n",
              "1     wanita di kuwait telah meluncurkan kampanye me...\n",
              "2     peringatan triger meningkatkan kesadaran akan ...\n",
              "3     tuduhan yang diajukan terhadap pria yang memuk...\n",
              "4     dan presenter keempat pada bulan Mei adalah ma...\n",
              "5     Ini sangat kacau, adakah pria di mata publik, ...\n",
              "6     untuk mengatasi epidemi kekerasan laki-laki te...\n",
              "7     Ada serangkaian tuduhan pelecehan baru terhada...\n",
              "8     ingin melihat seperti apa gerakan para wanita ...\n",
              "9     siswa perempuan tidak ingin berhubungan seks d...\n",
              "10    ketika kita berbicara tentang dan kekerasan, k...\n",
              "11    mengambil jutaan tahun lalu di nih dana nih ma...\n",
              "12    bantu siswa Anda untuk memerangi pelecehan men...\n",
              "13    Saya masih ingin berbicara dengan wanita penya...\n",
              "14    glenn greenwald tidak suka gerakan mendukung m...\n",
              "15    untuk lebih lanjut tentang topik ini bergabung...\n",
              "16    apa hubungan gerakan itu dengan pembunuhan ma ...\n",
              "17    opini terbaru dari dan cuomo membutuhkan waktu...\n",
              "18    tidak tahu siapa orang tolol misoginis greewal...\n",
              "19    Morrison percaya desas-desus tentang beberapa ...\n",
              "20    Untuk mengatasi epidemi kekerasan laki-laki te...\n",
              "21    ketika kita berbicara tentang dan kekerasan ki...\n",
              "22      kapan kekerasan dan kebencian ini akan berhenti\n",
              "23    anestesi melindungi predator seksual yang dike...\n",
              "24    terima kasih atas kebijaksanaan dan wawasan lu...\n",
              "25    beberapa incel di tiktok dijuluki sebagai hari...\n",
              "26                          apa yang sebenarnya berubah\n",
              "27                                 pembalasan pelecehan\n",
              "28    melihat ke depan obrolan panel hari ini tentan...\n",
              "29                    bd ini jika tidak membicarakannya\n",
              "30    ini adalah anak yang lahir sebagai akibat dari...\n",
              "31    Acara budaya baru memperhitungkan kekerasan ge...\n",
              "32    Ekor amukan bukit anita membuat kami kembali k...\n",
              "33    oh tidak, itu buruk, bisakah Anda menautkan ut...\n",
              "34                             ternyata selama ini gary\n",
              "35    sejak aku memamerkan jiwaku dan melompati ling...\n",
              "36    kepada semua korban pelecehan, tidak ada kata ...\n",
              "37    militer mengklaim bahwa mereka mengambil tinda...\n",
              "38    kami secara pribadi percaya bahwa korban dari ...\n",
              "39       chad s an ex con mencoba untuk memulai kembali\n",
              "40    kami secara pribadi percaya bahwa korban dari ...\n",
              "41    dan para demokrat masih gagal karena menyia-ny...\n",
              "42    tw kekerasan seksual membaca mengakui pemerkos...\n",
              "43    wanita muda tidak berpikir itu keren apa yang ...\n",
              "44    perkuat beragam perspektif dan cerita dengan j...\n",
              "45    benar-benar menakjubkan melihat berdiri untuk ...\n",
              "46                 memeluk permainan yang diperlukan di\n",
              "47    mungkin dia takut dia akan terkena jika tangan...\n",
              "48    Sial di mana r wisconsin sekolah Katolik guru ...\n",
              "49    dia juga memiliki aplikasi ini di ponselnya ya...\n",
              "Name: indo_text, dtype: object"
            ]
          },
          "metadata": {
            "tags": []
          },
          "execution_count": 9
        }
      ]
    },
    {
      "cell_type": "code",
      "metadata": {
        "id": "xhp9SEbBvKzT"
      },
      "source": [
        "#Convert the text into lowercase\n",
        "df_laporan['indo_text'] = df_laporan['indo_text'].str.lower()"
      ],
      "execution_count": null,
      "outputs": []
    },
    {
      "cell_type": "code",
      "metadata": {
        "id": "Ua4gOjBKvOvG"
      },
      "source": [
        "#Save DataFrame to CSV\n",
        "df_laporan.to_csv(\"capstonetweetlaporantranslated.csv\", index=False)"
      ],
      "execution_count": null,
      "outputs": []
    },
    {
      "cell_type": "markdown",
      "metadata": {
        "id": "lU6KdkzF6Idy"
      },
      "source": [
        "#Applying Stopwords and Stemmer (Laporan)"
      ]
    },
    {
      "cell_type": "code",
      "metadata": {
        "id": "iz3E2FA508sj",
        "colab": {
          "base_uri": "https://localhost:8080/",
          "height": 195
        },
        "outputId": "d775e99e-01c4-4136-d09b-75126e137d00"
      },
      "source": [
        "#Import Translated Laporan Dataset\n",
        "url_laporan = 'https://drive.google.com/file/d/194Eo3N7FpEZBAHooCB7alzKQg_hvn31p/view?usp=sharing'\n",
        "file_id_laporan = url_laporan.split('/')[-2]\n",
        "csv_url_laporan = 'https://drive.google.com/uc?id=' + file_id_laporan\n",
        "df_laporan = pd.read_csv(csv_url_laporan)\n",
        "df_laporan.head()"
      ],
      "execution_count": null,
      "outputs": [
        {
          "output_type": "execute_result",
          "data": {
            "text/html": [
              "<div>\n",
              "<style scoped>\n",
              "    .dataframe tbody tr th:only-of-type {\n",
              "        vertical-align: middle;\n",
              "    }\n",
              "\n",
              "    .dataframe tbody tr th {\n",
              "        vertical-align: top;\n",
              "    }\n",
              "\n",
              "    .dataframe thead th {\n",
              "        text-align: right;\n",
              "    }\n",
              "</style>\n",
              "<table border=\"1\" class=\"dataframe\">\n",
              "  <thead>\n",
              "    <tr style=\"text-align: right;\">\n",
              "      <th></th>\n",
              "      <th>text</th>\n",
              "      <th>label</th>\n",
              "      <th>index</th>\n",
              "      <th>indo_text</th>\n",
              "    </tr>\n",
              "  </thead>\n",
              "  <tbody>\n",
              "    <tr>\n",
              "      <th>0</th>\n",
              "      <td>the ironies of the movement are too painfully ...</td>\n",
              "      <td>Kekerasan Psikis</td>\n",
              "      <td>0</td>\n",
              "      <td>ironi gerakan ini terlalu menyakitkan dan jela...</td>\n",
              "    </tr>\n",
              "    <tr>\n",
              "      <th>1</th>\n",
              "      <td>women in kuwait have launched a social media c...</td>\n",
              "      <td>Kekerasan Psikis</td>\n",
              "      <td>1</td>\n",
              "      <td>wanita di kuwait telah meluncurkan kampanye me...</td>\n",
              "    </tr>\n",
              "    <tr>\n",
              "      <th>2</th>\n",
              "      <td>triger warning raising awareness of sexual ass...</td>\n",
              "      <td>Penelantaran</td>\n",
              "      <td>2</td>\n",
              "      <td>peringatan triger meningkatkan kesadaran akan ...</td>\n",
              "    </tr>\n",
              "    <tr>\n",
              "      <th>3</th>\n",
              "      <td>charges brought against the guy that smacked m...</td>\n",
              "      <td>Kekerasan Fisik</td>\n",
              "      <td>3</td>\n",
              "      <td>tuduhan yang diajukan terhadap pria yang memuk...</td>\n",
              "    </tr>\n",
              "    <tr>\n",
              "      <th>4</th>\n",
              "      <td>and the fourth presenter on th may is hannah b...</td>\n",
              "      <td>Kekerasan Lainnya</td>\n",
              "      <td>4</td>\n",
              "      <td>dan presenter keempat pada bulan mei adalah ma...</td>\n",
              "    </tr>\n",
              "  </tbody>\n",
              "</table>\n",
              "</div>"
            ],
            "text/plain": [
              "                                                text  ...                                          indo_text\n",
              "0  the ironies of the movement are too painfully ...  ...  ironi gerakan ini terlalu menyakitkan dan jela...\n",
              "1  women in kuwait have launched a social media c...  ...  wanita di kuwait telah meluncurkan kampanye me...\n",
              "2  triger warning raising awareness of sexual ass...  ...  peringatan triger meningkatkan kesadaran akan ...\n",
              "3  charges brought against the guy that smacked m...  ...  tuduhan yang diajukan terhadap pria yang memuk...\n",
              "4  and the fourth presenter on th may is hannah b...  ...  dan presenter keempat pada bulan mei adalah ma...\n",
              "\n",
              "[5 rows x 4 columns]"
            ]
          },
          "metadata": {
            "tags": []
          },
          "execution_count": 30
        }
      ]
    },
    {
      "cell_type": "code",
      "metadata": {
        "id": "PuZhJJF26kAW"
      },
      "source": [
        "df_laporan['text'] = df_laporan['indo_text']\n",
        "df_laporan = df_laporan.drop(['indo_text'], axis=1)"
      ],
      "execution_count": null,
      "outputs": []
    },
    {
      "cell_type": "code",
      "metadata": {
        "id": "hg47591L6qbY",
        "colab": {
          "base_uri": "https://localhost:8080/"
        },
        "outputId": "3fae9438-2a5c-4746-ef69-bd13d7750822"
      },
      "source": [
        "df_laporan['text']"
      ],
      "execution_count": null,
      "outputs": [
        {
          "output_type": "execute_result",
          "data": {
            "text/plain": [
              "0        ironi gerakan ini terlalu menyakitkan dan jela...\n",
              "1        wanita di kuwait telah meluncurkan kampanye me...\n",
              "2        peringatan triger meningkatkan kesadaran akan ...\n",
              "3        tuduhan yang diajukan terhadap pria yang memuk...\n",
              "4        dan presenter keempat pada bulan mei adalah ma...\n",
              "                               ...                        \n",
              "17235    tidak semuanya termasuk dalam kategori fiksi e...\n",
              "17236    sheriff telah kalah dalam gugatan terhadap cra...\n",
              "17237    saya menemukan puisi itu sangat ekspresif dari...\n",
              "17238    frustrasi para judas diimbangi dengan devosi e...\n",
              "17239    jelas bahwa hanya ada satu arah yang dia ingin...\n",
              "Name: text, Length: 17240, dtype: object"
            ]
          },
          "metadata": {
            "tags": []
          },
          "execution_count": 32
        }
      ]
    },
    {
      "cell_type": "code",
      "metadata": {
        "id": "RxfZsbbg6sbb"
      },
      "source": [
        "#Remove Stopwords from Texts\n",
        "stopwordFactory = StopWordRemoverFactory()\n",
        "stopword = stopwordFactory.create_stop_word_remover()\n",
        "\n",
        "df_laporan['text'] = df_laporan['text'].apply(lambda x: stopword.remove(x))"
      ],
      "execution_count": null,
      "outputs": []
    },
    {
      "cell_type": "code",
      "metadata": {
        "id": "i3_zn30v6ztE",
        "colab": {
          "base_uri": "https://localhost:8080/"
        },
        "outputId": "bb9eb552-720f-460f-900d-e8e3b38c520a"
      },
      "source": [
        "df_laporan['text']"
      ],
      "execution_count": null,
      "outputs": [
        {
          "output_type": "execute_result",
          "data": {
            "text/plain": [
              "0        ironi gerakan terlalu menyakitkan jelas dipelo...\n",
              "1        wanita kuwait meluncurkan kampanye media sosia...\n",
              "2        peringatan triger meningkatkan kesadaran pelec...\n",
              "3        tuduhan diajukan pria memukul serangan seksual...\n",
              "4        presenter keempat bulan mei mahasiswi phd hann...\n",
              "                               ...                        \n",
              "17235    semuanya termasuk kategori fiksi erotis, beber...\n",
              "17236    sheriff kalah gugatan craigslist atas iklan la...\n",
              "17237    menemukan puisi sangat ekspresif cinta romanti...\n",
              "17238    frustrasi judas diimbangi devosi erotis mary m...\n",
              "17239    jelas hanya satu arah dia inginkan pertemuan d...\n",
              "Name: text, Length: 17240, dtype: object"
            ]
          },
          "metadata": {
            "tags": []
          },
          "execution_count": 34
        }
      ]
    },
    {
      "cell_type": "code",
      "metadata": {
        "id": "gK-dvIIs61fc"
      },
      "source": [
        "#Stem the Texts (Removing Prefix and Suffix)\n",
        "stemmerFactory = StemmerFactory()\n",
        "stemmer = stemmerFactory.create_stemmer()\n",
        "\n",
        "df_laporan['text'] = df_laporan['text'].apply(lambda x: stemmer.stem(x))"
      ],
      "execution_count": null,
      "outputs": []
    },
    {
      "cell_type": "code",
      "metadata": {
        "id": "o5oruZ3m6_Um",
        "colab": {
          "base_uri": "https://localhost:8080/"
        },
        "outputId": "f938fecc-e8e8-4d43-d542-5385e4ed96c6"
      },
      "source": [
        "df_laporan['text']"
      ],
      "execution_count": null,
      "outputs": [
        {
          "output_type": "execute_result",
          "data": {
            "text/plain": [
              "0        ironi gera terlalu sakit jelas lopor aktris ho...\n",
              "1        wanita kuwait luncur kampanye media sosial man...\n",
              "2        ingat triger tingkat sadar leceh seksual keras...\n",
              "3        tuduh aju pria pukul serang seksual persetan b...\n",
              "4        presenter empat bulan mei mahasiswi phd hannah...\n",
              "                               ...                        \n",
              "17235    semua masuk kategori fiksi erotis beberapa ant...\n",
              "17236    sheriff kalah gugat craigslist atas iklan laya...\n",
              "17237    temu puisi sangat ekspresif cinta romantis erotis\n",
              "17238    frustrasi judas imbang devosi erotis mary magd...\n",
              "17239    jelas hanya satu arah dia ingin temu dan adala...\n",
              "Name: text, Length: 17240, dtype: object"
            ]
          },
          "metadata": {
            "tags": []
          },
          "execution_count": 36
        }
      ]
    },
    {
      "cell_type": "code",
      "metadata": {
        "id": "yNo7c4P87C-X"
      },
      "source": [
        "#Save DataFrame to CSV\n",
        "df_laporan.to_csv(\"capstonetweetlaporanstemmed.csv\", index=False)"
      ],
      "execution_count": null,
      "outputs": []
    },
    {
      "cell_type": "markdown",
      "metadata": {
        "id": "YJBCFG1Q9FHg"
      },
      "source": [
        "#Modelling (Laporan)"
      ]
    },
    {
      "cell_type": "code",
      "metadata": {
        "colab": {
          "base_uri": "https://localhost:8080/",
          "height": 197
        },
        "id": "eHmdKTSb9IOH",
        "outputId": "f05fef7f-df7a-4402-a725-d217c11ae75c"
      },
      "source": [
        "#Import Stemmed Dataset\n",
        "url_laporan = 'https://drive.google.com/file/d/1vEe7adAbdc7LDmq7QVsLxhDgPu3nfnuU/view?usp=sharing'\n",
        "file_id_laporan = url_laporan.split('/')[-2]\n",
        "csv_url_laporan = 'https://drive.google.com/uc?id=' + file_id_laporan\n",
        "df_laporan = pd.read_csv(csv_url_laporan)\n",
        "df_laporan.head()"
      ],
      "execution_count": null,
      "outputs": [
        {
          "output_type": "execute_result",
          "data": {
            "text/html": [
              "<div>\n",
              "<style scoped>\n",
              "    .dataframe tbody tr th:only-of-type {\n",
              "        vertical-align: middle;\n",
              "    }\n",
              "\n",
              "    .dataframe tbody tr th {\n",
              "        vertical-align: top;\n",
              "    }\n",
              "\n",
              "    .dataframe thead th {\n",
              "        text-align: right;\n",
              "    }\n",
              "</style>\n",
              "<table border=\"1\" class=\"dataframe\">\n",
              "  <thead>\n",
              "    <tr style=\"text-align: right;\">\n",
              "      <th></th>\n",
              "      <th>text</th>\n",
              "      <th>label</th>\n",
              "      <th>index</th>\n",
              "    </tr>\n",
              "  </thead>\n",
              "  <tbody>\n",
              "    <tr>\n",
              "      <th>0</th>\n",
              "      <td>ironi gera terlalu sakit jelas lopor aktris ho...</td>\n",
              "      <td>Kekerasan Psikis</td>\n",
              "      <td>0</td>\n",
              "    </tr>\n",
              "    <tr>\n",
              "      <th>1</th>\n",
              "      <td>wanita kuwait luncur kampanye media sosial man...</td>\n",
              "      <td>Kekerasan Psikis</td>\n",
              "      <td>1</td>\n",
              "    </tr>\n",
              "    <tr>\n",
              "      <th>2</th>\n",
              "      <td>ingat triger tingkat sadar leceh seksual keras...</td>\n",
              "      <td>Penelantaran</td>\n",
              "      <td>2</td>\n",
              "    </tr>\n",
              "    <tr>\n",
              "      <th>3</th>\n",
              "      <td>tuduh aju pria pukul serang seksual persetan b...</td>\n",
              "      <td>Kekerasan Fisik</td>\n",
              "      <td>3</td>\n",
              "    </tr>\n",
              "    <tr>\n",
              "      <th>4</th>\n",
              "      <td>presenter empat bulan mei mahasiswi phd hannah...</td>\n",
              "      <td>Kekerasan Lainnya</td>\n",
              "      <td>4</td>\n",
              "    </tr>\n",
              "  </tbody>\n",
              "</table>\n",
              "</div>"
            ],
            "text/plain": [
              "                                                text              label  index\n",
              "0  ironi gera terlalu sakit jelas lopor aktris ho...   Kekerasan Psikis      0\n",
              "1  wanita kuwait luncur kampanye media sosial man...   Kekerasan Psikis      1\n",
              "2  ingat triger tingkat sadar leceh seksual keras...       Penelantaran      2\n",
              "3  tuduh aju pria pukul serang seksual persetan b...    Kekerasan Fisik      3\n",
              "4  presenter empat bulan mei mahasiswi phd hannah...  Kekerasan Lainnya      4"
            ]
          },
          "metadata": {
            "tags": []
          },
          "execution_count": 49
        }
      ]
    },
    {
      "cell_type": "code",
      "metadata": {
        "colab": {
          "base_uri": "https://localhost:8080/"
        },
        "id": "BLDlIsda9gPI",
        "outputId": "55844350-f581-4e0a-dd4a-f7e98cf65f2a"
      },
      "source": [
        "df_laporan['text']"
      ],
      "execution_count": null,
      "outputs": [
        {
          "output_type": "execute_result",
          "data": {
            "text/plain": [
              "0        ironi gera terlalu sakit jelas lopor aktris ho...\n",
              "1        wanita kuwait luncur kampanye media sosial man...\n",
              "2        ingat triger tingkat sadar leceh seksual keras...\n",
              "3        tuduh aju pria pukul serang seksual persetan b...\n",
              "4        presenter empat bulan mei mahasiswi phd hannah...\n",
              "                               ...                        \n",
              "17235    semua masuk kategori fiksi erotis beberapa ant...\n",
              "17236    sheriff kalah gugat craigslist atas iklan laya...\n",
              "17237    temu puisi sangat ekspresif cinta romantis erotis\n",
              "17238    frustrasi judas imbang devosi erotis mary magd...\n",
              "17239    jelas hanya satu arah dia ingin temu dan adala...\n",
              "Name: text, Length: 17240, dtype: object"
            ]
          },
          "metadata": {
            "tags": []
          },
          "execution_count": 50
        }
      ]
    },
    {
      "cell_type": "code",
      "metadata": {
        "colab": {
          "base_uri": "https://localhost:8080/"
        },
        "id": "B7UhmrteLHY2",
        "outputId": "9aac5a21-642b-46e8-cf70-0686c099050d"
      },
      "source": [
        "df_laporan['label'].value_counts()"
      ],
      "execution_count": null,
      "outputs": [
        {
          "output_type": "execute_result",
          "data": {
            "text/plain": [
              "Kekerasan Lainnya      8313\n",
              "Kekerasan Fisik        1922\n",
              "Kekerasan Seksual      1864\n",
              "Kekerasan Psikis       1800\n",
              "Eksploitasi Seksual    1295\n",
              "Penelantaran           1135\n",
              "Eksploitasi             911\n",
              "Name: label, dtype: int64"
            ]
          },
          "metadata": {
            "tags": []
          },
          "execution_count": 51
        }
      ]
    },
    {
      "cell_type": "code",
      "metadata": {
        "id": "k_w0orKj9u9v"
      },
      "source": [
        "labels = pd.get_dummies(df_laporan.label)"
      ],
      "execution_count": null,
      "outputs": []
    },
    {
      "cell_type": "code",
      "metadata": {
        "id": "hKJU9kYB9xWG"
      },
      "source": [
        "df_new_laporan = pd.concat([df_laporan, labels], axis=1)"
      ],
      "execution_count": null,
      "outputs": []
    },
    {
      "cell_type": "code",
      "metadata": {
        "colab": {
          "base_uri": "https://localhost:8080/",
          "height": 197
        },
        "id": "ySzm4Sz-901e",
        "outputId": "a389934e-e60e-4855-e12c-f676715383b2"
      },
      "source": [
        "df_new_laporan.head()"
      ],
      "execution_count": null,
      "outputs": [
        {
          "output_type": "execute_result",
          "data": {
            "text/html": [
              "<div>\n",
              "<style scoped>\n",
              "    .dataframe tbody tr th:only-of-type {\n",
              "        vertical-align: middle;\n",
              "    }\n",
              "\n",
              "    .dataframe tbody tr th {\n",
              "        vertical-align: top;\n",
              "    }\n",
              "\n",
              "    .dataframe thead th {\n",
              "        text-align: right;\n",
              "    }\n",
              "</style>\n",
              "<table border=\"1\" class=\"dataframe\">\n",
              "  <thead>\n",
              "    <tr style=\"text-align: right;\">\n",
              "      <th></th>\n",
              "      <th>text</th>\n",
              "      <th>label</th>\n",
              "      <th>index</th>\n",
              "      <th>Eksploitasi</th>\n",
              "      <th>Eksploitasi Seksual</th>\n",
              "      <th>Kekerasan Fisik</th>\n",
              "      <th>Kekerasan Lainnya</th>\n",
              "      <th>Kekerasan Psikis</th>\n",
              "      <th>Kekerasan Seksual</th>\n",
              "      <th>Penelantaran</th>\n",
              "    </tr>\n",
              "  </thead>\n",
              "  <tbody>\n",
              "    <tr>\n",
              "      <th>0</th>\n",
              "      <td>ironi gera terlalu sakit jelas lopor aktris ho...</td>\n",
              "      <td>Kekerasan Psikis</td>\n",
              "      <td>0</td>\n",
              "      <td>0</td>\n",
              "      <td>0</td>\n",
              "      <td>0</td>\n",
              "      <td>0</td>\n",
              "      <td>1</td>\n",
              "      <td>0</td>\n",
              "      <td>0</td>\n",
              "    </tr>\n",
              "    <tr>\n",
              "      <th>1</th>\n",
              "      <td>wanita kuwait luncur kampanye media sosial man...</td>\n",
              "      <td>Kekerasan Psikis</td>\n",
              "      <td>1</td>\n",
              "      <td>0</td>\n",
              "      <td>0</td>\n",
              "      <td>0</td>\n",
              "      <td>0</td>\n",
              "      <td>1</td>\n",
              "      <td>0</td>\n",
              "      <td>0</td>\n",
              "    </tr>\n",
              "    <tr>\n",
              "      <th>2</th>\n",
              "      <td>ingat triger tingkat sadar leceh seksual keras...</td>\n",
              "      <td>Penelantaran</td>\n",
              "      <td>2</td>\n",
              "      <td>0</td>\n",
              "      <td>0</td>\n",
              "      <td>0</td>\n",
              "      <td>0</td>\n",
              "      <td>0</td>\n",
              "      <td>0</td>\n",
              "      <td>1</td>\n",
              "    </tr>\n",
              "    <tr>\n",
              "      <th>3</th>\n",
              "      <td>tuduh aju pria pukul serang seksual persetan b...</td>\n",
              "      <td>Kekerasan Fisik</td>\n",
              "      <td>3</td>\n",
              "      <td>0</td>\n",
              "      <td>0</td>\n",
              "      <td>1</td>\n",
              "      <td>0</td>\n",
              "      <td>0</td>\n",
              "      <td>0</td>\n",
              "      <td>0</td>\n",
              "    </tr>\n",
              "    <tr>\n",
              "      <th>4</th>\n",
              "      <td>presenter empat bulan mei mahasiswi phd hannah...</td>\n",
              "      <td>Kekerasan Lainnya</td>\n",
              "      <td>4</td>\n",
              "      <td>0</td>\n",
              "      <td>0</td>\n",
              "      <td>0</td>\n",
              "      <td>1</td>\n",
              "      <td>0</td>\n",
              "      <td>0</td>\n",
              "      <td>0</td>\n",
              "    </tr>\n",
              "  </tbody>\n",
              "</table>\n",
              "</div>"
            ],
            "text/plain": [
              "                                                text  ... Penelantaran\n",
              "0  ironi gera terlalu sakit jelas lopor aktris ho...  ...            0\n",
              "1  wanita kuwait luncur kampanye media sosial man...  ...            0\n",
              "2  ingat triger tingkat sadar leceh seksual keras...  ...            1\n",
              "3  tuduh aju pria pukul serang seksual persetan b...  ...            0\n",
              "4  presenter empat bulan mei mahasiswi phd hannah...  ...            0\n",
              "\n",
              "[5 rows x 10 columns]"
            ]
          },
          "metadata": {
            "tags": []
          },
          "execution_count": 54
        }
      ]
    },
    {
      "cell_type": "code",
      "metadata": {
        "id": "roybWKvNILDM"
      },
      "source": [
        "tweet_laporan = df_new_laporan['text'].astype(str).values\n",
        "label_laporan = df_new_laporan[[\"Eksploitasi\", \"Eksploitasi Seksual\", \"Kekerasan Fisik\", \"Kekerasan Lainnya\", \"Kekerasan Psikis\", \"Kekerasan Seksual\", \"Penelantaran\"]].values"
      ],
      "execution_count": null,
      "outputs": []
    },
    {
      "cell_type": "code",
      "metadata": {
        "colab": {
          "base_uri": "https://localhost:8080/"
        },
        "id": "jeU5Oc7uIvMU",
        "outputId": "dd827d4b-dc9b-4fcf-d581-7f60e86b395b"
      },
      "source": [
        "label_laporan"
      ],
      "execution_count": null,
      "outputs": [
        {
          "output_type": "execute_result",
          "data": {
            "text/plain": [
              "array([[0, 0, 0, ..., 1, 0, 0],\n",
              "       [0, 0, 0, ..., 1, 0, 0],\n",
              "       [0, 0, 0, ..., 0, 0, 1],\n",
              "       ...,\n",
              "       [0, 1, 0, ..., 0, 0, 0],\n",
              "       [0, 1, 0, ..., 0, 0, 0],\n",
              "       [0, 1, 0, ..., 0, 0, 0]], dtype=uint8)"
            ]
          },
          "metadata": {
            "tags": []
          },
          "execution_count": 56
        }
      ]
    },
    {
      "cell_type": "code",
      "metadata": {
        "id": "Ay7Ny2M1JCz1"
      },
      "source": [
        "from sklearn.model_selection import train_test_split\n",
        "#Train Text, Test Text, Train Label, Test Label\n",
        "X_train, X_test, y_train, y_test = train_test_split(tweet_laporan, label_laporan, test_size=0.2, shuffle=True)"
      ],
      "execution_count": null,
      "outputs": []
    },
    {
      "cell_type": "code",
      "metadata": {
        "id": "Qs12C-EhJIl3"
      },
      "source": [
        "tokenizer = Tokenizer(num_words = vocab_size, oov_token = oov_tok)\n",
        "tokenizer.fit_on_texts(X_train)\n",
        "word_index = tokenizer.word_index\n",
        "sequences = tokenizer.texts_to_sequences(X_train)\n",
        "padded = pad_sequences(sequences, maxlen=max_length, truncating=trunc_type)\n",
        "\n",
        "testing_sequences = tokenizer.texts_to_sequences(X_test)\n",
        "testing_padded = pad_sequences(testing_sequences, maxlen = max_length)"
      ],
      "execution_count": null,
      "outputs": []
    },
    {
      "cell_type": "code",
      "metadata": {
        "id": "zDSEq_f7JKgM"
      },
      "source": [
        "class myCallback(tf.keras.callbacks.Callback):\n",
        "\tdef on_epoch_end(self, epoch, logs={}):\n",
        "\t\tif(logs.get('val_accuracy')>0.80):\n",
        "\t\t\tprint(\"Desired accuracy reached!\")\n",
        "\t\t\tself.model.stop_training=True"
      ],
      "execution_count": null,
      "outputs": []
    },
    {
      "cell_type": "code",
      "metadata": {
        "id": "XJkIsUbkJL8L"
      },
      "source": [
        "import tensorflow as tf\n",
        "'''\n",
        "For improvement, we optimized this parameters:\n",
        "1. embedding_dim = 50, 100\n",
        "2. max_length = 50, 100\n",
        "3. Bidirectional layer = 16, 32, 64, 128\n",
        "4. Dropout value = 0.1, 0.2, 0.3, 0.5, 0.6\n",
        "5. recurrent_dropout value = 0.2 & 0.3\n",
        "6. Convolutional layer = 32, 64, 128\n",
        "7. Convolutional kernel = 1, 2, 3, 4, 5\n",
        "8. Pooling layer = MaxPooling1D & GlobalMaxPooling1D\n",
        "9. batch_size = 32, 64, 100\n",
        "\n",
        "Selected improvement parameters:\n",
        "1. Embedding_dim = 100\n",
        "2. Max_length = 50\n",
        "3. Dropout value = 0.6\n",
        "4. Convolutional layer = 128\n",
        "5. Convolutional kernel = 2\n",
        "6. Pooling layer = GlobalMaxPooling1D\n",
        "7. batch_size = 64\n",
        "'''\n",
        "\n",
        "'''\n",
        "# Initial Model : Bi-LSTM with Dropout\n",
        "model = tf.keras.Sequential([\n",
        "  tf.keras.layers.Embedding(vocab_size, embedding_dim, input_length=max_length),\n",
        "  tf.keras.layers.Bidirectional(tf.keras.layers.LSTM(128, return_sequences=True)),\n",
        "  tf.keras.layers.Bidirectional(tf.keras.layers.LSTM(64, return_sequences=True)),\n",
        "  tf.keras.layers.Bidirectional(tf.keras.layers.LSTM(32, return_sequences=True)),\n",
        "  tf.keras.layers.Bidirectional(tf.keras.layers.LSTM(16)),\n",
        "  tf.keras.layers.Dropout(0.1),\n",
        "  tf.keras.layers.Dense(32, activation='relu'),\n",
        "  tf.keras.layers.Dense(6, activation='softmax')\n",
        "])\n",
        "'''\n",
        "\n",
        "'''\n",
        "# Improvement : Bi-LSTM with GRU\n",
        "model = tf.keras.Sequential([\n",
        "  tf.keras.layers.Embedding(vocab_size, embedding_dim, input_length=max_length),\n",
        "  tf.keras.layers.Bidirectional(tf.keras.layers.GRU(128, recurrent_dropout=0.2, return_sequences=True)),\n",
        "  tf.keras.layers.Bidirectional(tf.keras.layers.LSTM(64)),\n",
        "  tf.keras.layers.Dense(128, activation='relu'),\n",
        "  tf.keras.layers.Dropout(0.5),\n",
        "  tf.keras.layers.Dense(6, activation='softmax')\n",
        "])\n",
        "'''\n",
        "\n",
        "#Last Improvement : CNN with dropout\n",
        "model = tf.keras.Sequential([\n",
        "  tf.keras.layers.Embedding(vocab_size, embedding_dim, input_length=max_length),\n",
        "  tf.keras.layers.Dropout(0.6),\n",
        "  tf.keras.layers.Conv1D(128, 2, activation='relu',padding='same'),\n",
        "  tf.keras.layers.Dropout(0.6),\n",
        "  tf.keras.layers.GlobalMaxPooling1D(),\n",
        "  tf.keras.layers.Flatten(),\n",
        "  tf.keras.layers.Dropout(0.6),\n",
        "  tf.keras.layers.Dense(64, activation='relu'),\n",
        "  tf.keras.layers.Dense(7, activation='softmax')\n",
        "])"
      ],
      "execution_count": null,
      "outputs": []
    },
    {
      "cell_type": "code",
      "metadata": {
        "colab": {
          "base_uri": "https://localhost:8080/"
        },
        "id": "og07uSJxJNj2",
        "outputId": "697905d6-1a34-403f-b73c-ac5e3aeaba2f"
      },
      "source": [
        "model.compile(loss='categorical_crossentropy', optimizer='adam', metrics=['accuracy'])\n",
        "model.summary()"
      ],
      "execution_count": null,
      "outputs": [
        {
          "output_type": "stream",
          "text": [
            "Model: \"sequential_3\"\n",
            "_________________________________________________________________\n",
            "Layer (type)                 Output Shape              Param #   \n",
            "=================================================================\n",
            "embedding_3 (Embedding)      (None, 50, 100)           2000000   \n",
            "_________________________________________________________________\n",
            "dropout_9 (Dropout)          (None, 50, 100)           0         \n",
            "_________________________________________________________________\n",
            "conv1d_3 (Conv1D)            (None, 50, 128)           25728     \n",
            "_________________________________________________________________\n",
            "dropout_10 (Dropout)         (None, 50, 128)           0         \n",
            "_________________________________________________________________\n",
            "global_max_pooling1d_3 (Glob (None, 128)               0         \n",
            "_________________________________________________________________\n",
            "flatten_3 (Flatten)          (None, 128)               0         \n",
            "_________________________________________________________________\n",
            "dropout_11 (Dropout)         (None, 128)               0         \n",
            "_________________________________________________________________\n",
            "dense_6 (Dense)              (None, 64)                8256      \n",
            "_________________________________________________________________\n",
            "dense_7 (Dense)              (None, 7)                 455       \n",
            "=================================================================\n",
            "Total params: 2,034,439\n",
            "Trainable params: 2,034,439\n",
            "Non-trainable params: 0\n",
            "_________________________________________________________________\n"
          ],
          "name": "stdout"
        }
      ]
    },
    {
      "cell_type": "code",
      "metadata": {
        "colab": {
          "base_uri": "https://localhost:8080/"
        },
        "id": "U-nz4uH5JPMl",
        "outputId": "c56c8cff-1c0e-4d48-b5f2-266fb9730408"
      },
      "source": [
        "num_epochs = 10\n",
        "callbacks = myCallback()\n",
        "history = model.fit(padded, y_train, epochs=num_epochs, validation_data=(testing_padded, y_test), callbacks=[callbacks],batch_size=64)"
      ],
      "execution_count": null,
      "outputs": [
        {
          "output_type": "stream",
          "text": [
            "Epoch 1/10\n",
            "216/216 [==============================] - 9s 39ms/step - loss: 1.5736 - accuracy: 0.4854 - val_loss: 1.7041 - val_accuracy: 0.5380\n",
            "Epoch 2/10\n",
            "216/216 [==============================] - 8s 37ms/step - loss: 1.3512 - accuracy: 0.5372 - val_loss: 1.5368 - val_accuracy: 0.6206\n",
            "Epoch 3/10\n",
            "216/216 [==============================] - 8s 37ms/step - loss: 1.1846 - accuracy: 0.5936 - val_loss: 1.3551 - val_accuracy: 0.6613\n",
            "Epoch 4/10\n",
            "216/216 [==============================] - 8s 37ms/step - loss: 1.0589 - accuracy: 0.6401 - val_loss: 1.2028 - val_accuracy: 0.6975\n",
            "Epoch 5/10\n",
            "216/216 [==============================] - 8s 38ms/step - loss: 0.9669 - accuracy: 0.6753 - val_loss: 1.1020 - val_accuracy: 0.7483\n",
            "Epoch 6/10\n",
            "216/216 [==============================] - 8s 37ms/step - loss: 0.8844 - accuracy: 0.7145 - val_loss: 0.9822 - val_accuracy: 0.7654\n",
            "Epoch 7/10\n",
            "216/216 [==============================] - 8s 38ms/step - loss: 0.8071 - accuracy: 0.7407 - val_loss: 0.9343 - val_accuracy: 0.7709\n",
            "Epoch 8/10\n",
            "216/216 [==============================] - 8s 37ms/step - loss: 0.7613 - accuracy: 0.7607 - val_loss: 0.8838 - val_accuracy: 0.7735\n",
            "Epoch 9/10\n",
            "216/216 [==============================] - 8s 37ms/step - loss: 0.7171 - accuracy: 0.7733 - val_loss: 0.8484 - val_accuracy: 0.7715\n",
            "Epoch 10/10\n",
            "216/216 [==============================] - 8s 37ms/step - loss: 0.6854 - accuracy: 0.7835 - val_loss: 0.8168 - val_accuracy: 0.7700\n"
          ],
          "name": "stdout"
        }
      ]
    },
    {
      "cell_type": "code",
      "metadata": {
        "id": "BxXLC88Vz3G7",
        "colab": {
          "base_uri": "https://localhost:8080/",
          "height": 1000
        },
        "outputId": "efc978ab-fc4e-41d5-d7da-186524828d10"
      },
      "source": [
        "from keras.utils.vis_utils import plot_model\n",
        "tf.keras.utils.plot_model(model, to_file='model_plot.png', show_shapes=True, show_layer_names=False)"
      ],
      "execution_count": null,
      "outputs": [
        {
          "output_type": "execute_result",
          "data": {
            "image/png": "[encoded data removed]",
            "text/plain": [
              "<IPython.core.display.Image object>"
            ]
          },
          "metadata": {
            "tags": []
          },
          "execution_count": 63
        }
      ]
    },
    {
      "cell_type": "code",
      "metadata": {
        "id": "2b_bYZvnJQv0",
        "colab": {
          "base_uri": "https://localhost:8080/",
          "height": 541
        },
        "outputId": "8b2ccf49-9e3f-4267-df5c-e4c8d71376c9"
      },
      "source": [
        "def plot_graphs(history, string):\n",
        "  plt.plot(history.history[string])\n",
        "  plt.plot(history.history['val_'+string])\n",
        "  plt.xlabel(\"Epochs\")\n",
        "  plt.ylabel(string)\n",
        "  plt.legend([string, 'val_'+string])\n",
        "  plt.show()\n",
        "\n",
        "plot_graphs(history, \"accuracy\")\n",
        "plot_graphs(history, \"loss\")"
      ],
      "execution_count": null,
      "outputs": [
        {
          "output_type": "display_data",
          "data": {
            "image/png": "[encoded data removed]",
            "text/plain": [
              "<Figure size 432x288 with 1 Axes>"
            ]
          },
          "metadata": {
            "tags": [],
            "needs_background": "light"
          }
        },
        {
          "output_type": "display_data",
          "data": {
            "image/png": "[encoded data removed]",
            "text/plain": [
              "<Figure size 432x288 with 1 Axes>"
            ]
          },
          "metadata": {
            "tags": [],
            "needs_background": "light"
          }
        }
      ]
    },
    {
      "cell_type": "code",
      "metadata": {
        "id": "5C0Nb02kJSKU"
      },
      "source": [
        "text = [\"saya takut\"]\n",
        "\n",
        "tokenized_text = tokenizer.texts_to_sequences(text)"
      ],
      "execution_count": null,
      "outputs": []
    },
    {
      "cell_type": "code",
      "metadata": {
        "id": "CPv066GaJTmQ",
        "colab": {
          "base_uri": "https://localhost:8080/"
        },
        "outputId": "dea06412-687d-4d65-cefd-3b1c906c9df0"
      },
      "source": [
        "prediction = model.predict(tokenized_text)"
      ],
      "execution_count": null,
      "outputs": [
        {
          "output_type": "stream",
          "text": [
            "WARNING:tensorflow:Model was constructed with shape (None, 50) for input KerasTensor(type_spec=TensorSpec(shape=(None, 50), dtype=tf.float32, name='embedding_4_input'), name='embedding_4_input', description=\"created by layer 'embedding_4_input'\"), but it was called on an input with incompatible shape (None, 2).\n"
          ],
          "name": "stdout"
        }
      ]
    },
    {
      "cell_type": "code",
      "metadata": {
        "id": "6gSXXNIHJVDx",
        "colab": {
          "base_uri": "https://localhost:8080/"
        },
        "outputId": "dc46ca65-2671-4669-fb5e-c6f8be8446a0"
      },
      "source": [
        "labels = [\"Eksploitasi\", \"Eksploitasi Seksual\", \"Kekerasan Fisik\", \"Kekerasan Lainnya\", \"Kekerasan Psikis\", \"Kekerasan Seksual\", \"Penelantaran\"]\n",
        "predicted = prediction.argmax(axis=1)\n",
        "predict_labels = [labels[predict] for predict in predicted]\n",
        "print(prediction)\n",
        "print(predict_labels)"
      ],
      "execution_count": null,
      "outputs": [
        {
          "output_type": "stream",
          "text": [
            "[[0.00206113 0.02345051 0.00296443 0.1483927  0.79776305 0.00522542\n",
            "  0.02014276]]\n",
            "['Kekerasan Psikis']\n"
          ],
          "name": "stdout"
        }
      ]
    },
    {
      "cell_type": "code",
      "metadata": {
        "id": "kdN2sjwuJWiW",
        "colab": {
          "base_uri": "https://localhost:8080/"
        },
        "outputId": "49272881-ed9a-4080-96cd-3ed446e1664e"
      },
      "source": [
        "#Exporting the Model (TFLITE)\n",
        "export_dir = 'saved_model_laporan/1'\n",
        "tf.saved_model.save(model, export_dir)"
      ],
      "execution_count": null,
      "outputs": [
        {
          "output_type": "stream",
          "text": [
            "WARNING:tensorflow:FOR KERAS USERS: The object that you are saving contains one or more Keras models or layers. If you are loading the SavedModel with `tf.keras.models.load_model`, continue reading (otherwise, you may ignore the following instructions). Please change your code to save with `tf.keras.models.save_model` or `model.save`, and confirm that the file \"keras.metadata\" exists in the export directory. In the future, Keras will only load the SavedModels that have this file. In other words, `tf.saved_model.save` will no longer write SavedModels that can be recovered as Keras models (this will apply in TF 2.5).\n",
            "\n",
            "FOR DEVS: If you are overwriting _tracking_metadata in your class, this property has been used to save metadata in the SavedModel. The metadta field will be deprecated soon, so please move the metadata to a different file.\n",
            "INFO:tensorflow:Assets written to: saved_model_laporan/1/assets\n"
          ],
          "name": "stdout"
        }
      ]
    },
    {
      "cell_type": "code",
      "metadata": {
        "id": "ZGwmrRNpJZIM"
      },
      "source": [
        "converter = tf.lite.TFLiteConverter.from_saved_model(export_dir)\n",
        "tflite_model = converter.convert()"
      ],
      "execution_count": null,
      "outputs": []
    },
    {
      "cell_type": "code",
      "metadata": {
        "id": "cLBEyeiIJZ-q",
        "colab": {
          "base_uri": "https://localhost:8080/"
        },
        "outputId": "58e0c743-1635-409f-c8d7-0da7accf09ac"
      },
      "source": [
        "import pathlib\n",
        "\n",
        "tflite_model_laporan_file = pathlib.Path('/content/modellaporan.tflite')\n",
        "tflite_model_laporan_file.write_bytes(tflite_model)"
      ],
      "execution_count": null,
      "outputs": [
        {
          "output_type": "execute_result",
          "data": {
            "text/plain": [
              "8141284"
            ]
          },
          "metadata": {
            "tags": []
          },
          "execution_count": 99
        }
      ]
    },
    {
      "cell_type": "code",
      "metadata": {
        "id": "0Rep52dMJbDX",
        "colab": {
          "base_uri": "https://localhost:8080/",
          "height": 17
        },
        "outputId": "65afbf67-777a-4b31-e241-58ae91ceacd3"
      },
      "source": [
        "from google.colab import files\n",
        "files.download(tflite_model_laporan_file)"
      ],
      "execution_count": null,
      "outputs": [
        {
          "output_type": "display_data",
          "data": {
            "application/javascript": [
              "\n",
              "    async function download(id, filename, size) {\n",
              "      if (!google.colab.kernel.accessAllowed) {\n",
              "        return;\n",
              "      }\n",
              "      const div = document.createElement('div');\n",
              "      const label = document.createElement('label');\n",
              "      label.textContent = `Downloading \"${filename}\": `;\n",
              "      div.appendChild(label);\n",
              "      const progress = document.createElement('progress');\n",
              "      progress.max = size;\n",
              "      div.appendChild(progress);\n",
              "      document.body.appendChild(div);\n",
              "\n",
              "      const buffers = [];\n",
              "      let downloaded = 0;\n",
              "\n",
              "      const channel = await google.colab.kernel.comms.open(id);\n",
              "      // Send a message to notify the kernel that we're ready.\n",
              "      channel.send({})\n",
              "\n",
              "      for await (const message of channel.messages) {\n",
              "        // Send a message to notify the kernel that we're ready.\n",
              "        channel.send({})\n",
              "        if (message.buffers) {\n",
              "          for (const buffer of message.buffers) {\n",
              "            buffers.push(buffer);\n",
              "            downloaded += buffer.byteLength;\n",
              "            progress.value = downloaded;\n",
              "          }\n",
              "        }\n",
              "      }\n",
              "      const blob = new Blob(buffers, {type: 'application/binary'});\n",
              "      const a = document.createElement('a');\n",
              "      a.href = window.URL.createObjectURL(blob);\n",
              "      a.download = filename;\n",
              "      div.appendChild(a);\n",
              "      a.click();\n",
              "      div.remove();\n",
              "    }\n",
              "  "
            ],
            "text/plain": [
              "<IPython.core.display.Javascript object>"
            ]
          },
          "metadata": {
            "tags": []
          }
        },
        {
          "output_type": "display_data",
          "data": {
            "application/javascript": [
              "download(\"download_bdaa9f9a-7d76-4e70-ad6d-69433bb88d32\", \"modellaporan.tflite\", 8141284)"
            ],
            "text/plain": [
              "<IPython.core.display.Javascript object>"
            ]
          },
          "metadata": {
            "tags": []
          }
        }
      ]
    },
    {
      "cell_type": "code",
      "metadata": {
        "id": "jvjsXkHTJcRB"
      },
      "source": [
        "#Exporting the Tokenized Word\n",
        "import json\n",
        "\n",
        "with open( 'word_dict_laporan.json' , 'w' ) as file:\n",
        "    json.dump( tokenizer.word_index , file )"
      ],
      "execution_count": null,
      "outputs": []
    }
  ]
}