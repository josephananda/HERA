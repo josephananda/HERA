{
  "nbformat": 4,
  "nbformat_minor": 0,
  "metadata": {
    "colab": {
      "provenance": []
    },
    "kernelspec": {
      "name": "python3",
      "display_name": "Python 3"
    },
    "language_info": {
      "name": "python"
    }
  },
  "cells": [
    {
      "cell_type": "markdown",
      "metadata": {
        "id": "nIVVNUfZI7t2"
      },
      "source": [
        "#Imports"
      ]
    },
    {
      "cell_type": "code",
      "metadata": {
        "id": "P1gOBLyAGVpH"
      },
      "source": [
        "#Import Required Libraries\n",
        "import pandas as pd\n",
        "import re\n",
        "import matplotlib.pyplot as plt"
      ],
      "execution_count": null,
      "outputs": []
    },
    {
      "cell_type": "markdown",
      "metadata": {
        "id": "-ScnVAxfIpPY"
      },
      "source": [
        "#Initial Dataset Labelling"
      ]
    },
    {
      "cell_type": "code",
      "metadata": {
        "colab": {
          "base_uri": "https://localhost:8080/",
          "height": 35
        },
        "id": "s4rJ1L2tRNDV",
        "outputId": "edd418d9-33fd-4490-d74b-ef157548dc51"
      },
      "source": [
        "'''\n",
        "Project: Bangkit Capstone Project\n",
        "Group: B21-CAP0194\n",
        "Part: Data Labelling\n",
        "'''"
      ],
      "execution_count": null,
      "outputs": [
        {
          "output_type": "execute_result",
          "data": {
            "application/vnd.google.colaboratory.intrinsic+json": {
              "type": "string"
            },
            "text/plain": [
              "'\\nProject: Bangkit Capstone Project\\nGroup: B21-CAP0194\\nPart: Data Labelling\\n'"
            ]
          },
          "metadata": {
            "tags": []
          },
          "execution_count": 53
        }
      ]
    },
    {
      "cell_type": "code",
      "metadata": {
        "id": "xfE3aLE_Gpwh",
        "colab": {
          "base_uri": "https://localhost:8080/",
          "height": 195
        },
        "outputId": "7fc974ee-5803-47b3-d748-264158da17b6"
      },
      "source": [
        "#Import the Dataset\n",
        "url = 'https://drive.google.com/file/d/1Mk28tI_DZtBmbjWC3eZFjKPrfBa5-Pyk/view?usp=sharing'\n",
        "file_id = url.split('/')[-2]\n",
        "csv_url = 'https://drive.google.com/uc?id=' + file_id\n",
        "df = pd.read_csv(csv_url)\n",
        "df.head()"
      ],
      "execution_count": null,
      "outputs": [
        {
          "output_type": "execute_result",
          "data": {
            "text/html": [
              "<div>\n",
              "<style scoped>\n",
              "    .dataframe tbody tr th:only-of-type {\n",
              "        vertical-align: middle;\n",
              "    }\n",
              "\n",
              "    .dataframe tbody tr th {\n",
              "        vertical-align: top;\n",
              "    }\n",
              "\n",
              "    .dataframe thead th {\n",
              "        text-align: right;\n",
              "    }\n",
              "</style>\n",
              "<table border=\"1\" class=\"dataframe\">\n",
              "  <thead>\n",
              "    <tr style=\"text-align: right;\">\n",
              "      <th></th>\n",
              "      <th>index</th>\n",
              "      <th>text</th>\n",
              "    </tr>\n",
              "  </thead>\n",
              "  <tbody>\n",
              "    <tr>\n",
              "      <th>0</th>\n",
              "      <td>0</td>\n",
              "      <td>the ironies of the movement are too painfully ...</td>\n",
              "    </tr>\n",
              "    <tr>\n",
              "      <th>1</th>\n",
              "      <td>1</td>\n",
              "      <td>women in kuwait have launched a social media c...</td>\n",
              "    </tr>\n",
              "    <tr>\n",
              "      <th>2</th>\n",
              "      <td>2</td>\n",
              "      <td>triger warning raising awareness of sexual ass...</td>\n",
              "    </tr>\n",
              "    <tr>\n",
              "      <th>3</th>\n",
              "      <td>3</td>\n",
              "      <td>charges brought against the guy that smacked m...</td>\n",
              "    </tr>\n",
              "    <tr>\n",
              "      <th>4</th>\n",
              "      <td>4</td>\n",
              "      <td>and the fourth presenter on th may is hannah b...</td>\n",
              "    </tr>\n",
              "  </tbody>\n",
              "</table>\n",
              "</div>"
            ],
            "text/plain": [
              "   index                                               text\n",
              "0      0  the ironies of the movement are too painfully ...\n",
              "1      1  women in kuwait have launched a social media c...\n",
              "2      2  triger warning raising awareness of sexual ass...\n",
              "3      3  charges brought against the guy that smacked m...\n",
              "4      4  and the fourth presenter on th may is hannah b..."
            ]
          },
          "metadata": {
            "tags": []
          },
          "execution_count": 54
        }
      ]
    },
    {
      "cell_type": "code",
      "metadata": {
        "colab": {
          "base_uri": "https://localhost:8080/"
        },
        "id": "octhSmg5KREQ",
        "outputId": "f93d7ed8-5f0b-4075-cce5-6e556c02b853"
      },
      "source": [
        "#Printing the shape/size of the dataframe\n",
        "df.shape"
      ],
      "execution_count": null,
      "outputs": [
        {
          "output_type": "execute_result",
          "data": {
            "text/plain": [
              "(16276, 2)"
            ]
          },
          "metadata": {
            "tags": []
          },
          "execution_count": 55
        }
      ]
    },
    {
      "cell_type": "code",
      "metadata": {
        "id": "qddLsFk9hTjP"
      },
      "source": [
        "#Initialize label column\n",
        "df['label_laporan'] = \"\"\n",
        "df['label_post'] = \"\""
      ],
      "execution_count": null,
      "outputs": []
    },
    {
      "cell_type": "code",
      "metadata": {
        "colab": {
          "base_uri": "https://localhost:8080/",
          "height": 52
        },
        "id": "h8EI5SvBqNS_",
        "outputId": "33d0d4dc-b529-4f08-c65d-646b0cf7ae5e"
      },
      "source": [
        "'''\n",
        "KemenPPPA Categories:\n",
        "1. Kekerasan Fisik / Psikis\n",
        "2. Kejahatan Seksual\n",
        "3. Exploitasi Ekonomi / Seksual\n",
        "4. Penculikan, Penjualan, atau Perdagangan\n",
        "5. Pornografi (Pornography)\n",
        "6. Perlakuan Salah & Penelantaran\n",
        "7. Anak yang Berkonflik dengan Hukum (ABH)\n",
        "8. Penyalahgunaan NAPZA\n",
        "'''"
      ],
      "execution_count": null,
      "outputs": [
        {
          "output_type": "execute_result",
          "data": {
            "application/vnd.google.colaboratory.intrinsic+json": {
              "type": "string"
            },
            "text/plain": [
              "'\\nKemenPPPA Categories:\\n1. Kekerasan Fisik / Psikis\\n2. Kejahatan Seksual\\n3. Exploitasi Ekonomi / Seksual\\n4. Penculikan, Penjualan, atau Perdagangan\\n5. Pornografi (Pornography)\\n6. Perlakuan Salah & Penelantaran\\n7. Anak yang Berkonflik dengan Hukum (ABH)\\n8. Penyalahgunaan NAPZA\\n'"
            ]
          },
          "metadata": {
            "tags": []
          },
          "execution_count": 57
        }
      ]
    },
    {
      "cell_type": "code",
      "metadata": {
        "colab": {
          "base_uri": "https://localhost:8080/",
          "height": 573
        },
        "id": "hqzawCZhHDvn",
        "outputId": "e9fb6618-a0fb-43a1-bb7b-866d570dc3d6"
      },
      "source": [
        "#Labelling Process\n",
        "#Note: Any unusual words that you find in this part of the code are used to label the dataset\n",
        "for idx, line in enumerate(df['text']):\n",
        "\n",
        "  #Label no. 2\n",
        "  find_psychic = re.findall(r\"fear|afraid|scare|self-confidence|loss|act|ability|helplessness|sense|suffering|psychic\", line)\n",
        "  if len(find_psychic) != 0 and df['label_laporan'][idx] == \"\":\n",
        "    df['label_laporan'][idx] = \"Kekerasan Psikis\"\n",
        "  #Label no. 4\n",
        "  find_neglect = re.findall(r\"neglect|reject|life|care|treatment|keep|raise|raising|control|under\", line)\n",
        "  if len(find_neglect) != 0 and df['label_laporan'][idx] == \"\":\n",
        "    df['label_laporan'][idx] = \"Penelantaran\"\n",
        "\n",
        "  #Label no. 5\n",
        "  find_exploit = re.findall(r\"force|pressure|work|service|job|slave|serf|oppression|suppression|extortion|exploitation|utilization|organ|transplant|kidnapping|trade|trafficking\", line)\n",
        "  if len(find_exploit) != 0 and df['label_laporan'][idx] == \"\":\n",
        "    df['label_laporan'][idx] = \"Eksploitasi\"\n",
        "\n",
        "  #Label no. 6\n",
        "  find_expsex = re.findall(r\"prostitution|porn|pornography|pornographic|pornographies|reproduction|commercial|show|off|nude|body|erotic\", line)\n",
        "  if len(find_expsex) != 0 and df['label_laporan'][idx] == \"\":\n",
        "    df['label_laporan'][idx] = \"Eksploitasi Seksual\"\n",
        "\n",
        "  #Label no. 1\n",
        "  find_physical = re.findall(r\"assault|violence|hurt|ill|wound|injury|sore|bleed|blood\", line)\n",
        "  if len(find_physical) != 0 and df['label_laporan'][idx] == \"\":\n",
        "    df['label_laporan'][idx] = \"Kekerasan Fisik\"\n",
        "\n",
        "  #Label no. 3\n",
        "  find_sexual = re.findall(r\"sexual|unwanted|force|forcing|household|home|house|housewifery|rape|raped|sex|threat|fuck|sleep|make love|obscene|lewd|dirty|vulgar|sexist|ass|butt|breast|genital\", line)\n",
        "  if len(find_sexual) != 0 and df['label_laporan'][idx] == \"\":\n",
        "    df['label_laporan'][idx] = \"Kekerasan Seksual\"\n",
        "\n",
        "  #Label no. 7\n",
        "  if df['label_laporan'][idx] == \"\":\n",
        "    df['label_laporan'][idx] = \"Kekerasan Lainnya\"\n"
      ],
      "execution_count": null,
      "outputs": [
        {
          "output_type": "stream",
          "text": [
            "/usr/local/lib/python3.7/dist-packages/ipykernel_launcher.py:8: SettingWithCopyWarning: \n",
            "A value is trying to be set on a copy of a slice from a DataFrame\n",
            "\n",
            "See the caveats in the documentation: https://pandas.pydata.org/pandas-docs/stable/user_guide/indexing.html#returning-a-view-versus-a-copy\n",
            "  \n",
            "/usr/local/lib/python3.7/dist-packages/ipykernel_launcher.py:12: SettingWithCopyWarning: \n",
            "A value is trying to be set on a copy of a slice from a DataFrame\n",
            "\n",
            "See the caveats in the documentation: https://pandas.pydata.org/pandas-docs/stable/user_guide/indexing.html#returning-a-view-versus-a-copy\n",
            "  if sys.path[0] == '':\n",
            "/usr/local/lib/python3.7/dist-packages/ipykernel_launcher.py:27: SettingWithCopyWarning: \n",
            "A value is trying to be set on a copy of a slice from a DataFrame\n",
            "\n",
            "See the caveats in the documentation: https://pandas.pydata.org/pandas-docs/stable/user_guide/indexing.html#returning-a-view-versus-a-copy\n",
            "/usr/local/lib/python3.7/dist-packages/ipykernel_launcher.py:36: SettingWithCopyWarning: \n",
            "A value is trying to be set on a copy of a slice from a DataFrame\n",
            "\n",
            "See the caveats in the documentation: https://pandas.pydata.org/pandas-docs/stable/user_guide/indexing.html#returning-a-view-versus-a-copy\n",
            "/usr/local/lib/python3.7/dist-packages/ipykernel_launcher.py:32: SettingWithCopyWarning: \n",
            "A value is trying to be set on a copy of a slice from a DataFrame\n",
            "\n",
            "See the caveats in the documentation: https://pandas.pydata.org/pandas-docs/stable/user_guide/indexing.html#returning-a-view-versus-a-copy\n",
            "/usr/local/lib/python3.7/dist-packages/ipykernel_launcher.py:22: SettingWithCopyWarning: \n",
            "A value is trying to be set on a copy of a slice from a DataFrame\n",
            "\n",
            "See the caveats in the documentation: https://pandas.pydata.org/pandas-docs/stable/user_guide/indexing.html#returning-a-view-versus-a-copy\n",
            "/usr/local/lib/python3.7/dist-packages/ipykernel_launcher.py:17: SettingWithCopyWarning: \n",
            "A value is trying to be set on a copy of a slice from a DataFrame\n",
            "\n",
            "See the caveats in the documentation: https://pandas.pydata.org/pandas-docs/stable/user_guide/indexing.html#returning-a-view-versus-a-copy\n"
          ],
          "name": "stderr"
        },
        {
          "output_type": "execute_result",
          "data": {
            "application/vnd.google.colaboratory.intrinsic+json": {
              "type": "string"
            },
            "text/plain": [
              "'\\n  # LABEL FOR REPORTS (RISK MITIGATION)\\n  # Label 1 : Tinggi\\n  find_tinggi = re.findall(r\"\", line)\\n  if len(find_tinggi) != 0 and df[\\'label\\'][idx] == \"\":\\n    df[\\'label\\'][idx] = \"Tinggi\"\\n\\n  # Label 2 : Krisis\\n  find_krisis = re.findall(r\"\", line)\\n  if len(find_krisis) != 0 and df[\\'label\\'][idx] == \"\":\\n    df[\\'label\\'][idx] = \"Krisis\"\\n\\n  # Label 3 : Non-Krisis\\n  find_nonKrisis = re.findall(r\"\", line)\\n  if len(find_nonKrisis) != 0 and df[\\'label\\'][idx] == \"\":\\n    df[\\'label\\'][idx] = \"Non-Krisis\"\\n    '"
            ]
          },
          "metadata": {
            "tags": []
          },
          "execution_count": 58
        }
      ]
    },
    {
      "cell_type": "code",
      "metadata": {
        "id": "MebUNDrHgV1a",
        "colab": {
          "base_uri": "https://localhost:8080/"
        },
        "outputId": "641f6798-f5ce-4c87-d156-65d1b86c9a3f"
      },
      "source": [
        "# FOR POST LABELS\n",
        "for idx, line in enumerate(df['text']):\n",
        "\n",
        "  # Label 4 : Educational places\n",
        "  find_educational = re.findall(r\"teacher|classmate|school|university|college|headmaster|principal|preschool|academy|teach|professor|class|mate|research|education|educator|study|universities|bully|lecture|student|dorm|uniform|library|laboratory\", line)\n",
        "  if len(find_educational) != 0 and df['label_post'][idx] == \"\":\n",
        "    df['label_post'][idx] = \"Lokasi Pendidikan\"\n",
        "\n",
        "  # Label 3 : Work places\n",
        "  find_workplace = re.findall(r\"colleague|boss|job|pervert|work|workplace|ceo|partner|leader|manager|department|industry|interview|office|pantry|employee|business|client|staff|career|physical|verbal|company|desk|team|division|unwanted|cornering|chief|mentor|fire|locker|intern\", line)\n",
        "  if len(find_workplace) != 0 and df['label_post'][idx] == \"\":\n",
        "    df['label_post'][idx] = \"Lokasi Kerja\"\n",
        "\n",
        "  # Label 5 : Cyber\n",
        "  find_cyber = re.findall(r\"sexting|call|text|video|photo|picture|comment|cyber|porn|pornography|phone|app|camera|chat|message|image|malicious|virtual|online|webcam|cctv|post|email|hoax|media|website|article|instagram|twitter|snapchat|facebook|whatsapp|messenger|telegram|computer|ip address|record\", line)\n",
        "  if len(find_cyber) != 0 and df['label_post'][idx] == \"\":\n",
        "    df['label_post'][idx] = \"Siber\"\n",
        "\n",
        "  # Label 1 : Private places\n",
        "  find_private = re.findall(r\"private|home|friend|marital rape|abortion|family|boyfriend|ex|ex-boyfriend|stalking|stalker|raped|murder|smack|sleep|touch|sexual|kiss|date|obscene|attempt|sex|harassment|parent|husband|raping|dating|conversation|relationship|kick|attack|genital|married|housewives|masturbate|chest|jerk|neighbor|sodomy|personal|naked|nude|body|strip\", line)\n",
        "  if len(find_private) != 0 and df['label_post'][idx] == \"\":\n",
        "    df['label_post'][idx] = \"Lokasi Privat\"\n",
        "\n",
        "  # Label 2 : Public/community places\n",
        "  find_public = re.findall(r\"public|domestic|hospital|transport|community|spy|catcalling|catcall|rumor|ass|breast|butt|stranger|man|guy|exploitation|slave|hug|abuse|violence|gender|men|accuse|pervert|street|bad|society|violent|criminal|crime|steal|medical|grab|feminism|fenimist|prostitute|park|gun|rob|predator|toilet|kidnap|kidnapping|trade|trafficking|murder|cat|watch|cafe|restaurant|shaming|politic|store|train|station|pocket|customer|pedophile|driver|perv|gym\", line)\n",
        "  if len(find_public) != 0 and df['label_post'][idx] == \"\":\n",
        "    df['label_post'][idx] = \"Lokasi Publik\"\n",
        "\n",
        "  # Label 6 : Neutral (If the tweets doesn't fit the other 5 categories, the tweet will be labelled as 'neutral')\n",
        "  if df['label_post'][idx] == \"\":\n",
        "    df['label_post'][idx] = \"Netral\""
      ],
      "execution_count": null,
      "outputs": [
        {
          "output_type": "stream",
          "text": [
            "/usr/local/lib/python3.7/dist-packages/ipykernel_launcher.py:12: SettingWithCopyWarning: \n",
            "A value is trying to be set on a copy of a slice from a DataFrame\n",
            "\n",
            "See the caveats in the documentation: https://pandas.pydata.org/pandas-docs/stable/user_guide/indexing.html#returning-a-view-versus-a-copy\n",
            "  if sys.path[0] == '':\n",
            "/usr/local/lib/python3.7/dist-packages/ipykernel_launcher.py:17: SettingWithCopyWarning: \n",
            "A value is trying to be set on a copy of a slice from a DataFrame\n",
            "\n",
            "See the caveats in the documentation: https://pandas.pydata.org/pandas-docs/stable/user_guide/indexing.html#returning-a-view-versus-a-copy\n",
            "/usr/local/lib/python3.7/dist-packages/ipykernel_launcher.py:22: SettingWithCopyWarning: \n",
            "A value is trying to be set on a copy of a slice from a DataFrame\n",
            "\n",
            "See the caveats in the documentation: https://pandas.pydata.org/pandas-docs/stable/user_guide/indexing.html#returning-a-view-versus-a-copy\n",
            "/usr/local/lib/python3.7/dist-packages/ipykernel_launcher.py:7: SettingWithCopyWarning: \n",
            "A value is trying to be set on a copy of a slice from a DataFrame\n",
            "\n",
            "See the caveats in the documentation: https://pandas.pydata.org/pandas-docs/stable/user_guide/indexing.html#returning-a-view-versus-a-copy\n",
            "  import sys\n",
            "/usr/local/lib/python3.7/dist-packages/ipykernel_launcher.py:27: SettingWithCopyWarning: \n",
            "A value is trying to be set on a copy of a slice from a DataFrame\n",
            "\n",
            "See the caveats in the documentation: https://pandas.pydata.org/pandas-docs/stable/user_guide/indexing.html#returning-a-view-versus-a-copy\n",
            "/usr/local/lib/python3.7/dist-packages/ipykernel_launcher.py:31: SettingWithCopyWarning: \n",
            "A value is trying to be set on a copy of a slice from a DataFrame\n",
            "\n",
            "See the caveats in the documentation: https://pandas.pydata.org/pandas-docs/stable/user_guide/indexing.html#returning-a-view-versus-a-copy\n"
          ],
          "name": "stderr"
        }
      ]
    },
    {
      "cell_type": "code",
      "metadata": {
        "id": "E1p7laGFYj86",
        "colab": {
          "base_uri": "https://localhost:8080/",
          "height": 1000
        },
        "outputId": "8497d5f4-623c-4809-f5cd-f1ab87e9542e"
      },
      "source": [
        "#Show the first 50 rows in the dataframe\n",
        "df.head(50)"
      ],
      "execution_count": null,
      "outputs": [
        {
          "output_type": "execute_result",
          "data": {
            "text/html": [
              "<div>\n",
              "<style scoped>\n",
              "    .dataframe tbody tr th:only-of-type {\n",
              "        vertical-align: middle;\n",
              "    }\n",
              "\n",
              "    .dataframe tbody tr th {\n",
              "        vertical-align: top;\n",
              "    }\n",
              "\n",
              "    .dataframe thead th {\n",
              "        text-align: right;\n",
              "    }\n",
              "</style>\n",
              "<table border=\"1\" class=\"dataframe\">\n",
              "  <thead>\n",
              "    <tr style=\"text-align: right;\">\n",
              "      <th></th>\n",
              "      <th>index</th>\n",
              "      <th>text</th>\n",
              "      <th>label_laporan</th>\n",
              "      <th>label_post</th>\n",
              "    </tr>\n",
              "  </thead>\n",
              "  <tbody>\n",
              "    <tr>\n",
              "      <th>0</th>\n",
              "      <td>0</td>\n",
              "      <td>the ironies of the movement are too painfully ...</td>\n",
              "      <td>Kekerasan Psikis</td>\n",
              "      <td>Lokasi Kerja</td>\n",
              "    </tr>\n",
              "    <tr>\n",
              "      <th>1</th>\n",
              "      <td>1</td>\n",
              "      <td>women in kuwait have launched a social media c...</td>\n",
              "      <td>Kekerasan Psikis</td>\n",
              "      <td>Siber</td>\n",
              "    </tr>\n",
              "    <tr>\n",
              "      <th>2</th>\n",
              "      <td>2</td>\n",
              "      <td>triger warning raising awareness of sexual ass...</td>\n",
              "      <td>Penelantaran</td>\n",
              "      <td>Lokasi Privat</td>\n",
              "    </tr>\n",
              "    <tr>\n",
              "      <th>3</th>\n",
              "      <td>3</td>\n",
              "      <td>charges brought against the guy that smacked m...</td>\n",
              "      <td>Kekerasan Fisik</td>\n",
              "      <td>Lokasi Privat</td>\n",
              "    </tr>\n",
              "    <tr>\n",
              "      <th>4</th>\n",
              "      <td>4</td>\n",
              "      <td>and the fourth presenter on th may is hannah b...</td>\n",
              "      <td>Kekerasan Lainnya</td>\n",
              "      <td>Lokasi Pendidikan</td>\n",
              "    </tr>\n",
              "    <tr>\n",
              "      <th>5</th>\n",
              "      <td>5</td>\n",
              "      <td>this is so messed up are there any men in the ...</td>\n",
              "      <td>Kekerasan Lainnya</td>\n",
              "      <td>Lokasi Publik</td>\n",
              "    </tr>\n",
              "    <tr>\n",
              "      <th>6</th>\n",
              "      <td>6</td>\n",
              "      <td>to tackle an epidemic of male violence against...</td>\n",
              "      <td>Kekerasan Fisik</td>\n",
              "      <td>Siber</td>\n",
              "    </tr>\n",
              "    <tr>\n",
              "      <th>7</th>\n",
              "      <td>7</td>\n",
              "      <td>there has been a new series of harassment alle...</td>\n",
              "      <td>Kekerasan Seksual</td>\n",
              "      <td>Lokasi Privat</td>\n",
              "    </tr>\n",
              "    <tr>\n",
              "      <th>8</th>\n",
              "      <td>8</td>\n",
              "      <td>want to see what the movement looks like it s ...</td>\n",
              "      <td>Kekerasan Lainnya</td>\n",
              "      <td>Lokasi Publik</td>\n",
              "    </tr>\n",
              "    <tr>\n",
              "      <th>9</th>\n",
              "      <td>9</td>\n",
              "      <td>female students don t want to have sex w dolan...</td>\n",
              "      <td>Kekerasan Seksual</td>\n",
              "      <td>Lokasi Pendidikan</td>\n",
              "    </tr>\n",
              "    <tr>\n",
              "      <th>10</th>\n",
              "      <td>10</td>\n",
              "      <td>when we talk about and violence we must ensure...</td>\n",
              "      <td>Kekerasan Fisik</td>\n",
              "      <td>Lokasi Privat</td>\n",
              "    </tr>\n",
              "    <tr>\n",
              "      <th>11</th>\n",
              "      <td>11</td>\n",
              "      <td>took in million last year in nih funds the nih...</td>\n",
              "      <td>Kekerasan Fisik</td>\n",
              "      <td>Lokasi Privat</td>\n",
              "    </tr>\n",
              "    <tr>\n",
              "      <th>12</th>\n",
              "      <td>12</td>\n",
              "      <td>help your students to combat harassment using ...</td>\n",
              "      <td>Kekerasan Seksual</td>\n",
              "      <td>Lokasi Pendidikan</td>\n",
              "    </tr>\n",
              "    <tr>\n",
              "      <th>13</th>\n",
              "      <td>13</td>\n",
              "      <td>i m still looking to speak to disabled women w...</td>\n",
              "      <td>Kekerasan Fisik</td>\n",
              "      <td>Lokasi Privat</td>\n",
              "    </tr>\n",
              "    <tr>\n",
              "      <th>14</th>\n",
              "      <td>14</td>\n",
              "      <td>glenn greenwald doesn t like the movement supp...</td>\n",
              "      <td>Kekerasan Fisik</td>\n",
              "      <td>Lokasi Privat</td>\n",
              "    </tr>\n",
              "    <tr>\n",
              "      <th>15</th>\n",
              "      <td>15</td>\n",
              "      <td>for more on this topic join us for our upcomin...</td>\n",
              "      <td>Kekerasan Lainnya</td>\n",
              "      <td>Netral</td>\n",
              "    </tr>\n",
              "    <tr>\n",
              "      <th>16</th>\n",
              "      <td>16</td>\n",
              "      <td>what does the movement have to do with the mur...</td>\n",
              "      <td>Kekerasan Lainnya</td>\n",
              "      <td>Lokasi Privat</td>\n",
              "    </tr>\n",
              "    <tr>\n",
              "      <th>17</th>\n",
              "      <td>17</td>\n",
              "      <td>latest op ed from and cuomo needs a time out a...</td>\n",
              "      <td>Kekerasan Lainnya</td>\n",
              "      <td>Siber</td>\n",
              "    </tr>\n",
              "    <tr>\n",
              "      <th>18</th>\n",
              "      <td>18</td>\n",
              "      <td>don t know who this greewald misogynist moron ...</td>\n",
              "      <td>Penelantaran</td>\n",
              "      <td>Siber</td>\n",
              "    </tr>\n",
              "    <tr>\n",
              "      <th>19</th>\n",
              "      <td>19</td>\n",
              "      <td>morrison believes hearsay about some dude risi...</td>\n",
              "      <td>Kekerasan Seksual</td>\n",
              "      <td>Lokasi Privat</td>\n",
              "    </tr>\n",
              "    <tr>\n",
              "      <th>20</th>\n",
              "      <td>20</td>\n",
              "      <td>to tackle an epidemic of male violence against...</td>\n",
              "      <td>Kekerasan Fisik</td>\n",
              "      <td>Lokasi Kerja</td>\n",
              "    </tr>\n",
              "    <tr>\n",
              "      <th>21</th>\n",
              "      <td>21</td>\n",
              "      <td>when we talk about and violence we must ensure...</td>\n",
              "      <td>Kekerasan Fisik</td>\n",
              "      <td>Lokasi Privat</td>\n",
              "    </tr>\n",
              "    <tr>\n",
              "      <th>22</th>\n",
              "      <td>22</td>\n",
              "      <td>when will this violence and hate stop</td>\n",
              "      <td>Kekerasan Fisik</td>\n",
              "      <td>Lokasi Publik</td>\n",
              "    </tr>\n",
              "    <tr>\n",
              "      <th>23</th>\n",
              "      <td>23</td>\n",
              "      <td>anesthesia protected a known sexual predator f...</td>\n",
              "      <td>Kekerasan Fisik</td>\n",
              "      <td>Lokasi Privat</td>\n",
              "    </tr>\n",
              "    <tr>\n",
              "      <th>24</th>\n",
              "      <td>24</td>\n",
              "      <td>thank you for your wisdom and outstanding insi...</td>\n",
              "      <td>Kekerasan Lainnya</td>\n",
              "      <td>Lokasi Publik</td>\n",
              "    </tr>\n",
              "    <tr>\n",
              "      <th>25</th>\n",
              "      <td>25</td>\n",
              "      <td>a few incels on tiktok have dubbed as national...</td>\n",
              "      <td>Kekerasan Seksual</td>\n",
              "      <td>Netral</td>\n",
              "    </tr>\n",
              "    <tr>\n",
              "      <th>26</th>\n",
              "      <td>26</td>\n",
              "      <td>what has actually changed</td>\n",
              "      <td>Kekerasan Psikis</td>\n",
              "      <td>Netral</td>\n",
              "    </tr>\n",
              "    <tr>\n",
              "      <th>27</th>\n",
              "      <td>27</td>\n",
              "      <td>harassment retaliation</td>\n",
              "      <td>Kekerasan Seksual</td>\n",
              "      <td>Lokasi Privat</td>\n",
              "    </tr>\n",
              "    <tr>\n",
              "      <th>28</th>\n",
              "      <td>28</td>\n",
              "      <td>looking forward a panel chat today about syste...</td>\n",
              "      <td>Kekerasan Fisik</td>\n",
              "      <td>Lokasi Kerja</td>\n",
              "    </tr>\n",
              "    <tr>\n",
              "      <th>29</th>\n",
              "      <td>29</td>\n",
              "      <td>this b d is in case does not talk about it</td>\n",
              "      <td>Kekerasan Lainnya</td>\n",
              "      <td>Netral</td>\n",
              "    </tr>\n",
              "    <tr>\n",
              "      <th>30</th>\n",
              "      <td>30</td>\n",
              "      <td>this is the child that was born as a result of...</td>\n",
              "      <td>Eksploitasi Seksual</td>\n",
              "      <td>Lokasi Kerja</td>\n",
              "    </tr>\n",
              "    <tr>\n",
              "      <th>31</th>\n",
              "      <td>31</td>\n",
              "      <td>event a new cultural reckoning gendered violence</td>\n",
              "      <td>Kekerasan Fisik</td>\n",
              "      <td>Lokasi Publik</td>\n",
              "    </tr>\n",
              "    <tr>\n",
              "      <th>32</th>\n",
              "      <td>32</td>\n",
              "      <td>the tail of the anita hill fury got us to rebe...</td>\n",
              "      <td>Kekerasan Fisik</td>\n",
              "      <td>Lokasi Publik</td>\n",
              "    </tr>\n",
              "    <tr>\n",
              "      <th>33</th>\n",
              "      <td>33</td>\n",
              "      <td>oh no that s terrible can you please link the ...</td>\n",
              "      <td>Kekerasan Lainnya</td>\n",
              "      <td>Netral</td>\n",
              "    </tr>\n",
              "    <tr>\n",
              "      <th>34</th>\n",
              "      <td>34</td>\n",
              "      <td>turns out it was gary all along</td>\n",
              "      <td>Kekerasan Lainnya</td>\n",
              "      <td>Netral</td>\n",
              "    </tr>\n",
              "    <tr>\n",
              "      <th>35</th>\n",
              "      <td>35</td>\n",
              "      <td>ever since i bared my soul and jump through he...</td>\n",
              "      <td>Kekerasan Lainnya</td>\n",
              "      <td>Netral</td>\n",
              "    </tr>\n",
              "    <tr>\n",
              "      <th>36</th>\n",
              "      <td>36</td>\n",
              "      <td>to all victims of abuse it is never too late t...</td>\n",
              "      <td>Kekerasan Lainnya</td>\n",
              "      <td>Lokasi Publik</td>\n",
              "    </tr>\n",
              "    <tr>\n",
              "      <th>37</th>\n",
              "      <td>37</td>\n",
              "      <td>the military claims they take a hard line agai...</td>\n",
              "      <td>Kekerasan Fisik</td>\n",
              "      <td>Lokasi Privat</td>\n",
              "    </tr>\n",
              "    <tr>\n",
              "      <th>38</th>\n",
              "      <td>38</td>\n",
              "      <td>we personally believe that victims of any form...</td>\n",
              "      <td>Kekerasan Lainnya</td>\n",
              "      <td>Lokasi Privat</td>\n",
              "    </tr>\n",
              "    <tr>\n",
              "      <th>39</th>\n",
              "      <td>39</td>\n",
              "      <td>chad s an ex con trying to start over</td>\n",
              "      <td>Kekerasan Lainnya</td>\n",
              "      <td>Lokasi Privat</td>\n",
              "    </tr>\n",
              "    <tr>\n",
              "      <th>40</th>\n",
              "      <td>40</td>\n",
              "      <td>we personally believe that victims of any form...</td>\n",
              "      <td>Kekerasan Lainnya</td>\n",
              "      <td>Lokasi Privat</td>\n",
              "    </tr>\n",
              "    <tr>\n",
              "      <th>41</th>\n",
              "      <td>41</td>\n",
              "      <td>and democrats still failed what a waste of our...</td>\n",
              "      <td>Kekerasan Fisik</td>\n",
              "      <td>Netral</td>\n",
              "    </tr>\n",
              "    <tr>\n",
              "      <th>42</th>\n",
              "      <td>42</td>\n",
              "      <td>tw sexual assault read recognizing rape findin...</td>\n",
              "      <td>Kekerasan Fisik</td>\n",
              "      <td>Lokasi Privat</td>\n",
              "    </tr>\n",
              "    <tr>\n",
              "      <th>43</th>\n",
              "      <td>43</td>\n",
              "      <td>young women don t think it s cool what he did ...</td>\n",
              "      <td>Kekerasan Lainnya</td>\n",
              "      <td>Lokasi Publik</td>\n",
              "    </tr>\n",
              "    <tr>\n",
              "      <th>44</th>\n",
              "      <td>44</td>\n",
              "      <td>amplify diverse perspectives and stories with ...</td>\n",
              "      <td>Kekerasan Lainnya</td>\n",
              "      <td>Siber</td>\n",
              "    </tr>\n",
              "    <tr>\n",
              "      <th>45</th>\n",
              "      <td>45</td>\n",
              "      <td>actually amazing to see standing up to be coun...</td>\n",
              "      <td>Kekerasan Psikis</td>\n",
              "      <td>Lokasi Publik</td>\n",
              "    </tr>\n",
              "    <tr>\n",
              "      <th>46</th>\n",
              "      <td>46</td>\n",
              "      <td>is hugging required play in the</td>\n",
              "      <td>Kekerasan Lainnya</td>\n",
              "      <td>Lokasi Publik</td>\n",
              "    </tr>\n",
              "    <tr>\n",
              "      <th>47</th>\n",
              "      <td>47</td>\n",
              "      <td>maybe he was afraid he might get d if his hand...</td>\n",
              "      <td>Kekerasan Psikis</td>\n",
              "      <td>Netral</td>\n",
              "    </tr>\n",
              "    <tr>\n",
              "      <th>48</th>\n",
              "      <td>48</td>\n",
              "      <td>damn it where is r wisconsin catholic school t...</td>\n",
              "      <td>Kekerasan Lainnya</td>\n",
              "      <td>Lokasi Pendidikan</td>\n",
              "    </tr>\n",
              "    <tr>\n",
              "      <th>49</th>\n",
              "      <td>49</td>\n",
              "      <td>he also had this app on his phones its used to...</td>\n",
              "      <td>Kekerasan Lainnya</td>\n",
              "      <td>Siber</td>\n",
              "    </tr>\n",
              "  </tbody>\n",
              "</table>\n",
              "</div>"
            ],
            "text/plain": [
              "    index  ...         label_post\n",
              "0       0  ...       Lokasi Kerja\n",
              "1       1  ...              Siber\n",
              "2       2  ...      Lokasi Privat\n",
              "3       3  ...      Lokasi Privat\n",
              "4       4  ...  Lokasi Pendidikan\n",
              "5       5  ...      Lokasi Publik\n",
              "6       6  ...              Siber\n",
              "7       7  ...      Lokasi Privat\n",
              "8       8  ...      Lokasi Publik\n",
              "9       9  ...  Lokasi Pendidikan\n",
              "10     10  ...      Lokasi Privat\n",
              "11     11  ...      Lokasi Privat\n",
              "12     12  ...  Lokasi Pendidikan\n",
              "13     13  ...      Lokasi Privat\n",
              "14     14  ...      Lokasi Privat\n",
              "15     15  ...             Netral\n",
              "16     16  ...      Lokasi Privat\n",
              "17     17  ...              Siber\n",
              "18     18  ...              Siber\n",
              "19     19  ...      Lokasi Privat\n",
              "20     20  ...       Lokasi Kerja\n",
              "21     21  ...      Lokasi Privat\n",
              "22     22  ...      Lokasi Publik\n",
              "23     23  ...      Lokasi Privat\n",
              "24     24  ...      Lokasi Publik\n",
              "25     25  ...             Netral\n",
              "26     26  ...             Netral\n",
              "27     27  ...      Lokasi Privat\n",
              "28     28  ...       Lokasi Kerja\n",
              "29     29  ...             Netral\n",
              "30     30  ...       Lokasi Kerja\n",
              "31     31  ...      Lokasi Publik\n",
              "32     32  ...      Lokasi Publik\n",
              "33     33  ...             Netral\n",
              "34     34  ...             Netral\n",
              "35     35  ...             Netral\n",
              "36     36  ...      Lokasi Publik\n",
              "37     37  ...      Lokasi Privat\n",
              "38     38  ...      Lokasi Privat\n",
              "39     39  ...      Lokasi Privat\n",
              "40     40  ...      Lokasi Privat\n",
              "41     41  ...             Netral\n",
              "42     42  ...      Lokasi Privat\n",
              "43     43  ...      Lokasi Publik\n",
              "44     44  ...              Siber\n",
              "45     45  ...      Lokasi Publik\n",
              "46     46  ...      Lokasi Publik\n",
              "47     47  ...             Netral\n",
              "48     48  ...  Lokasi Pendidikan\n",
              "49     49  ...              Siber\n",
              "\n",
              "[50 rows x 4 columns]"
            ]
          },
          "metadata": {
            "tags": []
          },
          "execution_count": 60
        }
      ]
    },
    {
      "cell_type": "code",
      "metadata": {
        "id": "adyoQWddHNdO",
        "colab": {
          "base_uri": "https://localhost:8080/",
          "height": 1000
        },
        "outputId": "04641409-de2e-43e3-dec4-e7409b3e1052"
      },
      "source": [
        "#Show the last 50 rows in the dataframe\n",
        "df.tail(50)"
      ],
      "execution_count": null,
      "outputs": [
        {
          "output_type": "execute_result",
          "data": {
            "text/html": [
              "<div>\n",
              "<style scoped>\n",
              "    .dataframe tbody tr th:only-of-type {\n",
              "        vertical-align: middle;\n",
              "    }\n",
              "\n",
              "    .dataframe tbody tr th {\n",
              "        vertical-align: top;\n",
              "    }\n",
              "\n",
              "    .dataframe thead th {\n",
              "        text-align: right;\n",
              "    }\n",
              "</style>\n",
              "<table border=\"1\" class=\"dataframe\">\n",
              "  <thead>\n",
              "    <tr style=\"text-align: right;\">\n",
              "      <th></th>\n",
              "      <th>index</th>\n",
              "      <th>text</th>\n",
              "      <th>label_laporan</th>\n",
              "      <th>label_post</th>\n",
              "    </tr>\n",
              "  </thead>\n",
              "  <tbody>\n",
              "    <tr>\n",
              "      <th>16226</th>\n",
              "      <td>16226</td>\n",
              "      <td>along with everyone else</td>\n",
              "      <td>Kekerasan Lainnya</td>\n",
              "      <td>Netral</td>\n",
              "    </tr>\n",
              "    <tr>\n",
              "      <th>16227</th>\n",
              "      <td>16227</td>\n",
              "      <td>didnt age well</td>\n",
              "      <td>Kekerasan Lainnya</td>\n",
              "      <td>Netral</td>\n",
              "    </tr>\n",
              "    <tr>\n",
              "      <th>16228</th>\n",
              "      <td>16228</td>\n",
              "      <td>ping we thought you would fix the culture at t...</td>\n",
              "      <td>Kekerasan Seksual</td>\n",
              "      <td>Siber</td>\n",
              "    </tr>\n",
              "    <tr>\n",
              "      <th>16229</th>\n",
              "      <td>16229</td>\n",
              "      <td>i m a survivor my suffering over the decades i...</td>\n",
              "      <td>Kekerasan Psikis</td>\n",
              "      <td>Siber</td>\n",
              "    </tr>\n",
              "    <tr>\n",
              "      <th>16230</th>\n",
              "      <td>16230</td>\n",
              "      <td>i was he was a married rnc officer half assed ...</td>\n",
              "      <td>Eksploitasi Seksual</td>\n",
              "      <td>Lokasi Kerja</td>\n",
              "    </tr>\n",
              "    <tr>\n",
              "      <th>16231</th>\n",
              "      <td>16231</td>\n",
              "      <td>horror rape well if you read a few paragraphs ...</td>\n",
              "      <td>Kekerasan Seksual</td>\n",
              "      <td>Lokasi Publik</td>\n",
              "    </tr>\n",
              "    <tr>\n",
              "      <th>16232</th>\n",
              "      <td>16232</td>\n",
              "      <td>sisters</td>\n",
              "      <td>Kekerasan Lainnya</td>\n",
              "      <td>Netral</td>\n",
              "    </tr>\n",
              "    <tr>\n",
              "      <th>16233</th>\n",
              "      <td>16233</td>\n",
              "      <td>when shown a video recording of her reaction t...</td>\n",
              "      <td>Kekerasan Psikis</td>\n",
              "      <td>Siber</td>\n",
              "    </tr>\n",
              "    <tr>\n",
              "      <th>16234</th>\n",
              "      <td>16234</td>\n",
              "      <td>picking out the best amongst their albums is l...</td>\n",
              "      <td>Kekerasan Lainnya</td>\n",
              "      <td>Netral</td>\n",
              "    </tr>\n",
              "    <tr>\n",
              "      <th>16235</th>\n",
              "      <td>16235</td>\n",
              "      <td>just wondering would these powerful charities ...</td>\n",
              "      <td>Kekerasan Fisik</td>\n",
              "      <td>Siber</td>\n",
              "    </tr>\n",
              "    <tr>\n",
              "      <th>16236</th>\n",
              "      <td>16236</td>\n",
              "      <td>now that the left are all aboard the train wha...</td>\n",
              "      <td>Kekerasan Lainnya</td>\n",
              "      <td>Lokasi Publik</td>\n",
              "    </tr>\n",
              "    <tr>\n",
              "      <th>16237</th>\n",
              "      <td>16237</td>\n",
              "      <td>hey are you going to get after your brother s ...</td>\n",
              "      <td>Eksploitasi Seksual</td>\n",
              "      <td>Lokasi Privat</td>\n",
              "    </tr>\n",
              "    <tr>\n",
              "      <th>16238</th>\n",
              "      <td>16238</td>\n",
              "      <td>biden is the end of what happened for tara rei...</td>\n",
              "      <td>Kekerasan Lainnya</td>\n",
              "      <td>Siber</td>\n",
              "    </tr>\n",
              "    <tr>\n",
              "      <th>16239</th>\n",
              "      <td>16239</td>\n",
              "      <td>it should be completely outlawed there is not ...</td>\n",
              "      <td>Kekerasan Lainnya</td>\n",
              "      <td>Lokasi Publik</td>\n",
              "    </tr>\n",
              "    <tr>\n",
              "      <th>16240</th>\n",
              "      <td>16240</td>\n",
              "      <td>good to see trending again i was worried that ...</td>\n",
              "      <td>Kekerasan Lainnya</td>\n",
              "      <td>Lokasi Publik</td>\n",
              "    </tr>\n",
              "    <tr>\n",
              "      <th>16241</th>\n",
              "      <td>16241</td>\n",
              "      <td>you were going so well and then you said that ...</td>\n",
              "      <td>Kekerasan Seksual</td>\n",
              "      <td>Netral</td>\n",
              "    </tr>\n",
              "    <tr>\n",
              "      <th>16242</th>\n",
              "      <td>16242</td>\n",
              "      <td>ohhh thank god i thought the is relived again</td>\n",
              "      <td>Kekerasan Lainnya</td>\n",
              "      <td>Netral</td>\n",
              "    </tr>\n",
              "    <tr>\n",
              "      <th>16243</th>\n",
              "      <td>16243</td>\n",
              "      <td>breaking proud of our courageous client who ha...</td>\n",
              "      <td>Kekerasan Seksual</td>\n",
              "      <td>Lokasi Kerja</td>\n",
              "    </tr>\n",
              "    <tr>\n",
              "      <th>16244</th>\n",
              "      <td>16244</td>\n",
              "      <td>proud of the dedication of the survivor led to...</td>\n",
              "      <td>Kekerasan Lainnya</td>\n",
              "      <td>Lokasi Publik</td>\n",
              "    </tr>\n",
              "    <tr>\n",
              "      <th>16245</th>\n",
              "      <td>16245</td>\n",
              "      <td>you ve read in the uk news about david cameron...</td>\n",
              "      <td>Kekerasan Lainnya</td>\n",
              "      <td>Lokasi Publik</td>\n",
              "    </tr>\n",
              "    <tr>\n",
              "      <th>16246</th>\n",
              "      <td>16246</td>\n",
              "      <td>a girl from hlaing tsp ygn has confided that s...</td>\n",
              "      <td>Eksploitasi</td>\n",
              "      <td>Lokasi Kerja</td>\n",
              "    </tr>\n",
              "    <tr>\n",
              "      <th>16247</th>\n",
              "      <td>16247</td>\n",
              "      <td>in film abuse everyday in non existent train s...</td>\n",
              "      <td>Kekerasan Lainnya</td>\n",
              "      <td>Lokasi Privat</td>\n",
              "    </tr>\n",
              "    <tr>\n",
              "      <th>16248</th>\n",
              "      <td>16248</td>\n",
              "      <td>first describe your experience about i know yo...</td>\n",
              "      <td>Kekerasan Lainnya</td>\n",
              "      <td>Lokasi Privat</td>\n",
              "    </tr>\n",
              "    <tr>\n",
              "      <th>16249</th>\n",
              "      <td>16249</td>\n",
              "      <td>its not some morphed voice instead its the voi...</td>\n",
              "      <td>Kekerasan Lainnya</td>\n",
              "      <td>Netral</td>\n",
              "    </tr>\n",
              "    <tr>\n",
              "      <th>16250</th>\n",
              "      <td>16250</td>\n",
              "      <td>why is back on this is f ckng frustrating to s...</td>\n",
              "      <td>Eksploitasi Seksual</td>\n",
              "      <td>Lokasi Publik</td>\n",
              "    </tr>\n",
              "    <tr>\n",
              "      <th>16251</th>\n",
              "      <td>16251</td>\n",
              "      <td>waiting i probably have more patience</td>\n",
              "      <td>Kekerasan Lainnya</td>\n",
              "      <td>Lokasi Publik</td>\n",
              "    </tr>\n",
              "    <tr>\n",
              "      <th>16252</th>\n",
              "      <td>16252</td>\n",
              "      <td>what happened with was nothing but in the name...</td>\n",
              "      <td>Eksploitasi</td>\n",
              "      <td>Siber</td>\n",
              "    </tr>\n",
              "    <tr>\n",
              "      <th>16253</th>\n",
              "      <td>16253</td>\n",
              "      <td>i googled who is ron paul around this time</td>\n",
              "      <td>Kekerasan Lainnya</td>\n",
              "      <td>Netral</td>\n",
              "    </tr>\n",
              "    <tr>\n",
              "      <th>16254</th>\n",
              "      <td>16254</td>\n",
              "      <td>ontd university original exploring the apparen...</td>\n",
              "      <td>Kekerasan Lainnya</td>\n",
              "      <td>Lokasi Pendidikan</td>\n",
              "    </tr>\n",
              "    <tr>\n",
              "      <th>16255</th>\n",
              "      <td>16255</td>\n",
              "      <td>in the era of what the hell are doing giving a...</td>\n",
              "      <td>Kekerasan Lainnya</td>\n",
              "      <td>Netral</td>\n",
              "    </tr>\n",
              "    <tr>\n",
              "      <th>16256</th>\n",
              "      <td>16256</td>\n",
              "      <td>just reality</td>\n",
              "      <td>Kekerasan Lainnya</td>\n",
              "      <td>Netral</td>\n",
              "    </tr>\n",
              "    <tr>\n",
              "      <th>16257</th>\n",
              "      <td>16257</td>\n",
              "      <td>you know what the problem is with male allies ...</td>\n",
              "      <td>Kekerasan Lainnya</td>\n",
              "      <td>Lokasi Publik</td>\n",
              "    </tr>\n",
              "    <tr>\n",
              "      <th>16258</th>\n",
              "      <td>16258</td>\n",
              "      <td>kroge to arrest hi honge you both corrupt cum ...</td>\n",
              "      <td>Kekerasan Lainnya</td>\n",
              "      <td>Lokasi Publik</td>\n",
              "    </tr>\n",
              "    <tr>\n",
              "      <th>16259</th>\n",
              "      <td>16259</td>\n",
              "      <td>shout out to all the mob who now suddenly care...</td>\n",
              "      <td>Penelantaran</td>\n",
              "      <td>Lokasi Publik</td>\n",
              "    </tr>\n",
              "    <tr>\n",
              "      <th>16260</th>\n",
              "      <td>16260</td>\n",
              "      <td>maybe just maybe you are a trigger pull away f...</td>\n",
              "      <td>Kekerasan Lainnya</td>\n",
              "      <td>Netral</td>\n",
              "    </tr>\n",
              "    <tr>\n",
              "      <th>16261</th>\n",
              "      <td>16261</td>\n",
              "      <td>what can the giving of the torah teach us abou...</td>\n",
              "      <td>Kekerasan Lainnya</td>\n",
              "      <td>Lokasi Pendidikan</td>\n",
              "    </tr>\n",
              "    <tr>\n",
              "      <th>16262</th>\n",
              "      <td>16262</td>\n",
              "      <td>the only way that abusive men learn is through...</td>\n",
              "      <td>Kekerasan Lainnya</td>\n",
              "      <td>Lokasi Publik</td>\n",
              "    </tr>\n",
              "    <tr>\n",
              "      <th>16263</th>\n",
              "      <td>16263</td>\n",
              "      <td>why does justice move at a glacial pace if at ...</td>\n",
              "      <td>Kekerasan Fisik</td>\n",
              "      <td>Lokasi Privat</td>\n",
              "    </tr>\n",
              "    <tr>\n",
              "      <th>16264</th>\n",
              "      <td>16264</td>\n",
              "      <td>the movement was just an excess to trash peopl...</td>\n",
              "      <td>Kekerasan Lainnya</td>\n",
              "      <td>Lokasi Privat</td>\n",
              "    </tr>\n",
              "    <tr>\n",
              "      <th>16265</th>\n",
              "      <td>16265</td>\n",
              "      <td>because the movement has evolved from a positi...</td>\n",
              "      <td>Kekerasan Lainnya</td>\n",
              "      <td>Lokasi Privat</td>\n",
              "    </tr>\n",
              "    <tr>\n",
              "      <th>16266</th>\n",
              "      <td>16266</td>\n",
              "      <td>he sucked my dick</td>\n",
              "      <td>Kekerasan Lainnya</td>\n",
              "      <td>Netral</td>\n",
              "    </tr>\n",
              "    <tr>\n",
              "      <th>16267</th>\n",
              "      <td>16267</td>\n",
              "      <td>wow so it s the movement the women who tried t...</td>\n",
              "      <td>Kekerasan Seksual</td>\n",
              "      <td>Siber</td>\n",
              "    </tr>\n",
              "    <tr>\n",
              "      <th>16268</th>\n",
              "      <td>16268</td>\n",
              "      <td>yes girl me too</td>\n",
              "      <td>Kekerasan Lainnya</td>\n",
              "      <td>Netral</td>\n",
              "    </tr>\n",
              "    <tr>\n",
              "      <th>16269</th>\n",
              "      <td>16269</td>\n",
              "      <td>i have a load of fines i m essential</td>\n",
              "      <td>Kekerasan Lainnya</td>\n",
              "      <td>Netral</td>\n",
              "    </tr>\n",
              "    <tr>\n",
              "      <th>16270</th>\n",
              "      <td>16270</td>\n",
              "      <td>check out our all new legacy kids tv featuring...</td>\n",
              "      <td>Kekerasan Lainnya</td>\n",
              "      <td>Lokasi Pendidikan</td>\n",
              "    </tr>\n",
              "    <tr>\n",
              "      <th>16271</th>\n",
              "      <td>16271</td>\n",
              "      <td>i am the voice for the women whose tongues hav...</td>\n",
              "      <td>Kekerasan Lainnya</td>\n",
              "      <td>Lokasi Publik</td>\n",
              "    </tr>\n",
              "    <tr>\n",
              "      <th>16272</th>\n",
              "      <td>16272</td>\n",
              "      <td>haha it was my favourite show as well and apar...</td>\n",
              "      <td>Eksploitasi Seksual</td>\n",
              "      <td>Lokasi Privat</td>\n",
              "    </tr>\n",
              "    <tr>\n",
              "      <th>16273</th>\n",
              "      <td>16273</td>\n",
              "      <td>i get plenty of one word messages and the occa...</td>\n",
              "      <td>Kekerasan Lainnya</td>\n",
              "      <td>Siber</td>\n",
              "    </tr>\n",
              "    <tr>\n",
              "      <th>16274</th>\n",
              "      <td>16274</td>\n",
              "      <td>before all the crap men were just being men</td>\n",
              "      <td>Kekerasan Lainnya</td>\n",
              "      <td>Lokasi Publik</td>\n",
              "    </tr>\n",
              "    <tr>\n",
              "      <th>16275</th>\n",
              "      <td>16275</td>\n",
              "      <td>so when you think of arab african muslim women...</td>\n",
              "      <td>Kekerasan Lainnya</td>\n",
              "      <td>Lokasi Publik</td>\n",
              "    </tr>\n",
              "  </tbody>\n",
              "</table>\n",
              "</div>"
            ],
            "text/plain": [
              "       index  ...         label_post\n",
              "16226  16226  ...             Netral\n",
              "16227  16227  ...             Netral\n",
              "16228  16228  ...              Siber\n",
              "16229  16229  ...              Siber\n",
              "16230  16230  ...       Lokasi Kerja\n",
              "16231  16231  ...      Lokasi Publik\n",
              "16232  16232  ...             Netral\n",
              "16233  16233  ...              Siber\n",
              "16234  16234  ...             Netral\n",
              "16235  16235  ...              Siber\n",
              "16236  16236  ...      Lokasi Publik\n",
              "16237  16237  ...      Lokasi Privat\n",
              "16238  16238  ...              Siber\n",
              "16239  16239  ...      Lokasi Publik\n",
              "16240  16240  ...      Lokasi Publik\n",
              "16241  16241  ...             Netral\n",
              "16242  16242  ...             Netral\n",
              "16243  16243  ...       Lokasi Kerja\n",
              "16244  16244  ...      Lokasi Publik\n",
              "16245  16245  ...      Lokasi Publik\n",
              "16246  16246  ...       Lokasi Kerja\n",
              "16247  16247  ...      Lokasi Privat\n",
              "16248  16248  ...      Lokasi Privat\n",
              "16249  16249  ...             Netral\n",
              "16250  16250  ...      Lokasi Publik\n",
              "16251  16251  ...      Lokasi Publik\n",
              "16252  16252  ...              Siber\n",
              "16253  16253  ...             Netral\n",
              "16254  16254  ...  Lokasi Pendidikan\n",
              "16255  16255  ...             Netral\n",
              "16256  16256  ...             Netral\n",
              "16257  16257  ...      Lokasi Publik\n",
              "16258  16258  ...      Lokasi Publik\n",
              "16259  16259  ...      Lokasi Publik\n",
              "16260  16260  ...             Netral\n",
              "16261  16261  ...  Lokasi Pendidikan\n",
              "16262  16262  ...      Lokasi Publik\n",
              "16263  16263  ...      Lokasi Privat\n",
              "16264  16264  ...      Lokasi Privat\n",
              "16265  16265  ...      Lokasi Privat\n",
              "16266  16266  ...             Netral\n",
              "16267  16267  ...              Siber\n",
              "16268  16268  ...             Netral\n",
              "16269  16269  ...             Netral\n",
              "16270  16270  ...  Lokasi Pendidikan\n",
              "16271  16271  ...      Lokasi Publik\n",
              "16272  16272  ...      Lokasi Privat\n",
              "16273  16273  ...              Siber\n",
              "16274  16274  ...      Lokasi Publik\n",
              "16275  16275  ...      Lokasi Publik\n",
              "\n",
              "[50 rows x 4 columns]"
            ]
          },
          "metadata": {
            "tags": []
          },
          "execution_count": 61
        }
      ]
    },
    {
      "cell_type": "code",
      "metadata": {
        "colab": {
          "base_uri": "https://localhost:8080/"
        },
        "id": "kU--M5NMYqZl",
        "outputId": "beca73c7-4072-4ac9-a3d5-544d72af1394"
      },
      "source": [
        "#Counting the value in every labels\n",
        "df['label_laporan'].value_counts()"
      ],
      "execution_count": null,
      "outputs": [
        {
          "output_type": "execute_result",
          "data": {
            "text/plain": [
              "Kekerasan Lainnya      8313\n",
              "Kekerasan Fisik        1922\n",
              "Kekerasan Seksual      1864\n",
              "Kekerasan Psikis       1359\n",
              "Penelantaran           1135\n",
              "Eksploitasi             911\n",
              "Eksploitasi Seksual     772\n",
              "Name: label_laporan, dtype: int64"
            ]
          },
          "metadata": {
            "tags": []
          },
          "execution_count": 62
        }
      ]
    },
    {
      "cell_type": "code",
      "metadata": {
        "colab": {
          "base_uri": "https://localhost:8080/"
        },
        "id": "Q_q7rOhBh7SF",
        "outputId": "67c77cb6-a8a9-43c2-ae2f-efbe0df8300c"
      },
      "source": [
        "#Counting the value in every labels\n",
        "df['label_post'].value_counts()"
      ],
      "execution_count": null,
      "outputs": [
        {
          "output_type": "execute_result",
          "data": {
            "text/plain": [
              "Netral               4617\n",
              "Lokasi Publik        3679\n",
              "Lokasi Privat        3109\n",
              "Siber                2278\n",
              "Lokasi Kerja         1894\n",
              "Lokasi Pendidikan     699\n",
              "Name: label_post, dtype: int64"
            ]
          },
          "metadata": {
            "tags": []
          },
          "execution_count": 63
        }
      ]
    },
    {
      "cell_type": "code",
      "metadata": {
        "colab": {
          "base_uri": "https://localhost:8080/",
          "height": 344
        },
        "id": "AmNZGazFYNn8",
        "outputId": "81b1b3a9-9d9b-4a18-e36f-016d55dd020c"
      },
      "source": [
        "%matplotlib inline\n",
        "my_tags = df['label_post']\n",
        "plt.figure(figsize=(10,4))\n",
        "df.label_post.value_counts().plot(kind='bar');"
      ],
      "execution_count": null,
      "outputs": [
        {
          "output_type": "display_data",
          "data": {
            "image/png": "[encoded data removed]",
            "text/plain": [
              "<Figure size 720x288 with 1 Axes>"
            ]
          },
          "metadata": {
            "tags": [],
            "needs_background": "light"
          }
        }
      ]
    },
    {
      "cell_type": "code",
      "metadata": {
        "colab": {
          "base_uri": "https://localhost:8080/",
          "height": 351
        },
        "id": "5rbNY8wcZcfK",
        "outputId": "cc14e590-efac-4a6b-d9af-31e32b110c0e"
      },
      "source": [
        "%matplotlib inline\n",
        "my_tags = df['label_laporan']\n",
        "plt.figure(figsize=(10,4))\n",
        "df.label_laporan.value_counts().plot(kind='bar');"
      ],
      "execution_count": null,
      "outputs": [
        {
          "output_type": "display_data",
          "data": {
            "image/png": "[encoded data removed]",
            "text/plain": [
              "<Figure size 720x288 with 1 Axes>"
            ]
          },
          "metadata": {
            "tags": [],
            "needs_background": "light"
          }
        }
      ]
    },
    {
      "cell_type": "code",
      "metadata": {
        "id": "ELpJZGkkHaEu"
      },
      "source": [
        "#Save DataFrame to CSV\n",
        "df.to_csv(\"capstonetweetlabelled.csv\", index=False)"
      ],
      "execution_count": null,
      "outputs": []
    },
    {
      "cell_type": "markdown",
      "metadata": {
        "id": "4ddo3l-SJiHm"
      },
      "source": [
        "#Merging Initial and Additional Dataset (Post)"
      ]
    },
    {
      "cell_type": "code",
      "metadata": {
        "id": "n8xM07uWj1PH",
        "colab": {
          "base_uri": "https://localhost:8080/",
          "height": 195
        },
        "outputId": "b7ae2ac4-b1eb-4030-82c6-5886f451a2b1"
      },
      "source": [
        "#Read Initial Dataset\n",
        "df_initial = pd.read_csv(\"capstonetweetlabelled.csv\")\n",
        "df_initial.head()"
      ],
      "execution_count": null,
      "outputs": [
        {
          "output_type": "execute_result",
          "data": {
            "text/html": [
              "<div>\n",
              "<style scoped>\n",
              "    .dataframe tbody tr th:only-of-type {\n",
              "        vertical-align: middle;\n",
              "    }\n",
              "\n",
              "    .dataframe tbody tr th {\n",
              "        vertical-align: top;\n",
              "    }\n",
              "\n",
              "    .dataframe thead th {\n",
              "        text-align: right;\n",
              "    }\n",
              "</style>\n",
              "<table border=\"1\" class=\"dataframe\">\n",
              "  <thead>\n",
              "    <tr style=\"text-align: right;\">\n",
              "      <th></th>\n",
              "      <th>index</th>\n",
              "      <th>text</th>\n",
              "      <th>label_laporan</th>\n",
              "      <th>label_post</th>\n",
              "    </tr>\n",
              "  </thead>\n",
              "  <tbody>\n",
              "    <tr>\n",
              "      <th>0</th>\n",
              "      <td>0</td>\n",
              "      <td>the ironies of the movement are too painfully ...</td>\n",
              "      <td>Kekerasan Psikis</td>\n",
              "      <td>Lokasi Kerja</td>\n",
              "    </tr>\n",
              "    <tr>\n",
              "      <th>1</th>\n",
              "      <td>1</td>\n",
              "      <td>women in kuwait have launched a social media c...</td>\n",
              "      <td>Kekerasan Psikis</td>\n",
              "      <td>Siber</td>\n",
              "    </tr>\n",
              "    <tr>\n",
              "      <th>2</th>\n",
              "      <td>2</td>\n",
              "      <td>triger warning raising awareness of sexual ass...</td>\n",
              "      <td>Penelantaran</td>\n",
              "      <td>Lokasi Privat</td>\n",
              "    </tr>\n",
              "    <tr>\n",
              "      <th>3</th>\n",
              "      <td>3</td>\n",
              "      <td>charges brought against the guy that smacked m...</td>\n",
              "      <td>Kekerasan Fisik</td>\n",
              "      <td>Lokasi Privat</td>\n",
              "    </tr>\n",
              "    <tr>\n",
              "      <th>4</th>\n",
              "      <td>4</td>\n",
              "      <td>and the fourth presenter on th may is hannah b...</td>\n",
              "      <td>Kekerasan Lainnya</td>\n",
              "      <td>Lokasi Pendidikan</td>\n",
              "    </tr>\n",
              "  </tbody>\n",
              "</table>\n",
              "</div>"
            ],
            "text/plain": [
              "   index  ...         label_post\n",
              "0      0  ...       Lokasi Kerja\n",
              "1      1  ...              Siber\n",
              "2      2  ...      Lokasi Privat\n",
              "3      3  ...      Lokasi Privat\n",
              "4      4  ...  Lokasi Pendidikan\n",
              "\n",
              "[5 rows x 4 columns]"
            ]
          },
          "metadata": {
            "tags": []
          },
          "execution_count": 67
        }
      ]
    },
    {
      "cell_type": "code",
      "metadata": {
        "colab": {
          "base_uri": "https://localhost:8080/",
          "height": 195
        },
        "id": "jgv2lvWFJrez",
        "outputId": "9731bf64-87e0-4bb2-995b-db049ff92208"
      },
      "source": [
        "#Import Additional Post Dataset\n",
        "url_post = 'https://drive.google.com/file/d/16-zEm0bhmMS6HZPfCrDhqJU2ZiixN-ex/view?usp=sharing'\n",
        "file_id_post = url_post.split('/')[-2]\n",
        "csv_url_post = 'https://drive.google.com/uc?id=' + file_id_post\n",
        "df_post = pd.read_csv(csv_url_post)\n",
        "df_post.head()"
      ],
      "execution_count": null,
      "outputs": [
        {
          "output_type": "execute_result",
          "data": {
            "text/html": [
              "<div>\n",
              "<style scoped>\n",
              "    .dataframe tbody tr th:only-of-type {\n",
              "        vertical-align: middle;\n",
              "    }\n",
              "\n",
              "    .dataframe tbody tr th {\n",
              "        vertical-align: top;\n",
              "    }\n",
              "\n",
              "    .dataframe thead th {\n",
              "        text-align: right;\n",
              "    }\n",
              "</style>\n",
              "<table border=\"1\" class=\"dataframe\">\n",
              "  <thead>\n",
              "    <tr style=\"text-align: right;\">\n",
              "      <th></th>\n",
              "      <th>index</th>\n",
              "      <th>text</th>\n",
              "      <th>label</th>\n",
              "    </tr>\n",
              "  </thead>\n",
              "  <tbody>\n",
              "    <tr>\n",
              "      <th>0</th>\n",
              "      <td>0</td>\n",
              "      <td>schwartz and southern also constructed four se...</td>\n",
              "      <td>Siber</td>\n",
              "    </tr>\n",
              "    <tr>\n",
              "      <th>1</th>\n",
              "      <td>1</td>\n",
              "      <td>if you think internet flirting and cybersex ar...</td>\n",
              "      <td>Siber</td>\n",
              "    </tr>\n",
              "    <tr>\n",
              "      <th>2</th>\n",
              "      <td>2</td>\n",
              "      <td>if a relationship were strong in the first pla...</td>\n",
              "      <td>Siber</td>\n",
              "    </tr>\n",
              "    <tr>\n",
              "      <th>3</th>\n",
              "      <td>3</td>\n",
              "      <td>then of course there s cybersex which mostly c...</td>\n",
              "      <td>Siber</td>\n",
              "    </tr>\n",
              "    <tr>\n",
              "      <th>4</th>\n",
              "      <td>4</td>\n",
              "      <td>she says that it is a daily occurrence to be i...</td>\n",
              "      <td>Siber</td>\n",
              "    </tr>\n",
              "  </tbody>\n",
              "</table>\n",
              "</div>"
            ],
            "text/plain": [
              "   index                                               text  label\n",
              "0      0  schwartz and southern also constructed four se...  Siber\n",
              "1      1  if you think internet flirting and cybersex ar...  Siber\n",
              "2      2  if a relationship were strong in the first pla...  Siber\n",
              "3      3  then of course there s cybersex which mostly c...  Siber\n",
              "4      4  she says that it is a daily occurrence to be i...  Siber"
            ]
          },
          "metadata": {
            "tags": []
          },
          "execution_count": 68
        }
      ]
    },
    {
      "cell_type": "code",
      "metadata": {
        "id": "Mry6IBwGKG_s"
      },
      "source": [
        "#Adjust columns between two datasets\n",
        "df_initial.rename(columns={'label_post': 'label'}, inplace = True)\n",
        "df_initial.drop(columns=['index', 'label_laporan'], inplace=True)\n",
        "df_post = df_post.drop(columns=['index'])"
      ],
      "execution_count": null,
      "outputs": []
    },
    {
      "cell_type": "code",
      "metadata": {
        "colab": {
          "base_uri": "https://localhost:8080/",
          "height": 195
        },
        "id": "ao8dG9BYK2CR",
        "outputId": "d4396a15-640f-4a59-d9b2-3831dfb64190"
      },
      "source": [
        "df_initial.head()"
      ],
      "execution_count": null,
      "outputs": [
        {
          "output_type": "execute_result",
          "data": {
            "text/html": [
              "<div>\n",
              "<style scoped>\n",
              "    .dataframe tbody tr th:only-of-type {\n",
              "        vertical-align: middle;\n",
              "    }\n",
              "\n",
              "    .dataframe tbody tr th {\n",
              "        vertical-align: top;\n",
              "    }\n",
              "\n",
              "    .dataframe thead th {\n",
              "        text-align: right;\n",
              "    }\n",
              "</style>\n",
              "<table border=\"1\" class=\"dataframe\">\n",
              "  <thead>\n",
              "    <tr style=\"text-align: right;\">\n",
              "      <th></th>\n",
              "      <th>text</th>\n",
              "      <th>label</th>\n",
              "    </tr>\n",
              "  </thead>\n",
              "  <tbody>\n",
              "    <tr>\n",
              "      <th>0</th>\n",
              "      <td>the ironies of the movement are too painfully ...</td>\n",
              "      <td>Lokasi Kerja</td>\n",
              "    </tr>\n",
              "    <tr>\n",
              "      <th>1</th>\n",
              "      <td>women in kuwait have launched a social media c...</td>\n",
              "      <td>Siber</td>\n",
              "    </tr>\n",
              "    <tr>\n",
              "      <th>2</th>\n",
              "      <td>triger warning raising awareness of sexual ass...</td>\n",
              "      <td>Lokasi Privat</td>\n",
              "    </tr>\n",
              "    <tr>\n",
              "      <th>3</th>\n",
              "      <td>charges brought against the guy that smacked m...</td>\n",
              "      <td>Lokasi Privat</td>\n",
              "    </tr>\n",
              "    <tr>\n",
              "      <th>4</th>\n",
              "      <td>and the fourth presenter on th may is hannah b...</td>\n",
              "      <td>Lokasi Pendidikan</td>\n",
              "    </tr>\n",
              "  </tbody>\n",
              "</table>\n",
              "</div>"
            ],
            "text/plain": [
              "                                                text              label\n",
              "0  the ironies of the movement are too painfully ...       Lokasi Kerja\n",
              "1  women in kuwait have launched a social media c...              Siber\n",
              "2  triger warning raising awareness of sexual ass...      Lokasi Privat\n",
              "3  charges brought against the guy that smacked m...      Lokasi Privat\n",
              "4  and the fourth presenter on th may is hannah b...  Lokasi Pendidikan"
            ]
          },
          "metadata": {
            "tags": []
          },
          "execution_count": 70
        }
      ]
    },
    {
      "cell_type": "code",
      "metadata": {
        "colab": {
          "base_uri": "https://localhost:8080/",
          "height": 195
        },
        "id": "CgE3MFqcK3kk",
        "outputId": "8021826a-dbad-4380-a65a-cb8e3a619795"
      },
      "source": [
        "df_post.head()"
      ],
      "execution_count": null,
      "outputs": [
        {
          "output_type": "execute_result",
          "data": {
            "text/html": [
              "<div>\n",
              "<style scoped>\n",
              "    .dataframe tbody tr th:only-of-type {\n",
              "        vertical-align: middle;\n",
              "    }\n",
              "\n",
              "    .dataframe tbody tr th {\n",
              "        vertical-align: top;\n",
              "    }\n",
              "\n",
              "    .dataframe thead th {\n",
              "        text-align: right;\n",
              "    }\n",
              "</style>\n",
              "<table border=\"1\" class=\"dataframe\">\n",
              "  <thead>\n",
              "    <tr style=\"text-align: right;\">\n",
              "      <th></th>\n",
              "      <th>text</th>\n",
              "      <th>label</th>\n",
              "    </tr>\n",
              "  </thead>\n",
              "  <tbody>\n",
              "    <tr>\n",
              "      <th>0</th>\n",
              "      <td>schwartz and southern also constructed four se...</td>\n",
              "      <td>Siber</td>\n",
              "    </tr>\n",
              "    <tr>\n",
              "      <th>1</th>\n",
              "      <td>if you think internet flirting and cybersex ar...</td>\n",
              "      <td>Siber</td>\n",
              "    </tr>\n",
              "    <tr>\n",
              "      <th>2</th>\n",
              "      <td>if a relationship were strong in the first pla...</td>\n",
              "      <td>Siber</td>\n",
              "    </tr>\n",
              "    <tr>\n",
              "      <th>3</th>\n",
              "      <td>then of course there s cybersex which mostly c...</td>\n",
              "      <td>Siber</td>\n",
              "    </tr>\n",
              "    <tr>\n",
              "      <th>4</th>\n",
              "      <td>she says that it is a daily occurrence to be i...</td>\n",
              "      <td>Siber</td>\n",
              "    </tr>\n",
              "  </tbody>\n",
              "</table>\n",
              "</div>"
            ],
            "text/plain": [
              "                                                text  label\n",
              "0  schwartz and southern also constructed four se...  Siber\n",
              "1  if you think internet flirting and cybersex ar...  Siber\n",
              "2  if a relationship were strong in the first pla...  Siber\n",
              "3  then of course there s cybersex which mostly c...  Siber\n",
              "4  she says that it is a daily occurrence to be i...  Siber"
            ]
          },
          "metadata": {
            "tags": []
          },
          "execution_count": 71
        }
      ]
    },
    {
      "cell_type": "code",
      "metadata": {
        "id": "M_H8EvljK44-"
      },
      "source": [
        "df_final_post = pd.concat([df_initial, df_post])"
      ],
      "execution_count": null,
      "outputs": []
    },
    {
      "cell_type": "code",
      "metadata": {
        "id": "Q0uTCmyMK95q"
      },
      "source": [
        "#Create Index\n",
        "df_final_post['index'] = range(0, len(df_final_post.index), 1)"
      ],
      "execution_count": null,
      "outputs": []
    },
    {
      "cell_type": "code",
      "metadata": {
        "colab": {
          "base_uri": "https://localhost:8080/"
        },
        "id": "oHfvgeJNLShY",
        "outputId": "feea7584-33ad-4fad-cae6-223cf21d9bdb"
      },
      "source": [
        "df_final_post['label'].value_counts()"
      ],
      "execution_count": null,
      "outputs": [
        {
          "output_type": "execute_result",
          "data": {
            "text/plain": [
              "Netral               4617\n",
              "Lokasi Publik        3679\n",
              "Lokasi Privat        3109\n",
              "Siber                2313\n",
              "Lokasi Kerja         1894\n",
              "Lokasi Pendidikan    1891\n",
              "Name: label, dtype: int64"
            ]
          },
          "metadata": {
            "tags": []
          },
          "execution_count": 74
        }
      ]
    },
    {
      "cell_type": "code",
      "metadata": {
        "id": "OBBpi3eSLV2q"
      },
      "source": [
        "#Save DataFrame to CSV\n",
        "df_final_post.to_csv(\"capstonetweetpostlabelled.csv\", index=False)"
      ],
      "execution_count": null,
      "outputs": []
    },
    {
      "cell_type": "markdown",
      "metadata": {
        "id": "eJO376tvMBQ1"
      },
      "source": [
        "#Merging Initial and Additional Dataset (Laporan)"
      ]
    },
    {
      "cell_type": "code",
      "metadata": {
        "colab": {
          "base_uri": "https://localhost:8080/"
        },
        "id": "4mmSqorRMGbS",
        "outputId": "d12e02c0-1e91-431c-bd24-1e3a06e17ddd"
      },
      "source": [
        "#Read Initial Dataset\n",
        "df_initial = pd.read_csv(\"capstonetweetlabelled.csv\")\n",
        "df_initial.head()"
      ],
      "execution_count": null,
      "outputs": [
        {
          "output_type": "execute_result",
          "data": {
            "text/html": [
              "<div>\n",
              "<style scoped>\n",
              "    .dataframe tbody tr th:only-of-type {\n",
              "        vertical-align: middle;\n",
              "    }\n",
              "\n",
              "    .dataframe tbody tr th {\n",
              "        vertical-align: top;\n",
              "    }\n",
              "\n",
              "    .dataframe thead th {\n",
              "        text-align: right;\n",
              "    }\n",
              "</style>\n",
              "<table border=\"1\" class=\"dataframe\">\n",
              "  <thead>\n",
              "    <tr style=\"text-align: right;\">\n",
              "      <th></th>\n",
              "      <th>index</th>\n",
              "      <th>text</th>\n",
              "      <th>label_laporan</th>\n",
              "      <th>label_post</th>\n",
              "    </tr>\n",
              "  </thead>\n",
              "  <tbody>\n",
              "    <tr>\n",
              "      <th>0</th>\n",
              "      <td>0</td>\n",
              "      <td>the ironies of the movement are too painfully ...</td>\n",
              "      <td>Kekerasan Psikis</td>\n",
              "      <td>Lokasi Kerja</td>\n",
              "    </tr>\n",
              "    <tr>\n",
              "      <th>1</th>\n",
              "      <td>1</td>\n",
              "      <td>women in kuwait have launched a social media c...</td>\n",
              "      <td>Kekerasan Psikis</td>\n",
              "      <td>Siber</td>\n",
              "    </tr>\n",
              "    <tr>\n",
              "      <th>2</th>\n",
              "      <td>2</td>\n",
              "      <td>triger warning raising awareness of sexual ass...</td>\n",
              "      <td>Penelantaran</td>\n",
              "      <td>Lokasi Privat</td>\n",
              "    </tr>\n",
              "    <tr>\n",
              "      <th>3</th>\n",
              "      <td>3</td>\n",
              "      <td>charges brought against the guy that smacked m...</td>\n",
              "      <td>Kekerasan Fisik</td>\n",
              "      <td>Lokasi Privat</td>\n",
              "    </tr>\n",
              "    <tr>\n",
              "      <th>4</th>\n",
              "      <td>4</td>\n",
              "      <td>and the fourth presenter on th may is hannah b...</td>\n",
              "      <td>Kekerasan Lainnya</td>\n",
              "      <td>Lokasi Pendidikan</td>\n",
              "    </tr>\n",
              "  </tbody>\n",
              "</table>\n",
              "</div>"
            ],
            "text/plain": [
              "   index  ...         label_post\n",
              "0      0  ...       Lokasi Kerja\n",
              "1      1  ...              Siber\n",
              "2      2  ...      Lokasi Privat\n",
              "3      3  ...      Lokasi Privat\n",
              "4      4  ...  Lokasi Pendidikan\n",
              "\n",
              "[5 rows x 4 columns]"
            ]
          },
          "metadata": {
            "tags": []
          },
          "execution_count": 76
        }
      ]
    },
    {
      "cell_type": "code",
      "metadata": {
        "colab": {
          "base_uri": "https://localhost:8080/"
        },
        "id": "PmvV6OD7MTdF",
        "outputId": "0cadc4f4-67e5-47d1-f4ce-fad5b71d0940"
      },
      "source": [
        "#Import Additional Laporan Dataset\n",
        "url_laporan = 'https://drive.google.com/file/d/162J0iMJKq4IuDuo9fnXsmdvMpBKdCXVj/view?usp=sharing'\n",
        "file_id_laporan = url_laporan.split('/')[-2]\n",
        "csv_url_laporan = 'https://drive.google.com/uc?id=' + file_id_laporan\n",
        "df_laporan = pd.read_csv(csv_url_laporan)\n",
        "df_laporan.head()"
      ],
      "execution_count": null,
      "outputs": [
        {
          "output_type": "execute_result",
          "data": {
            "text/html": [
              "<div>\n",
              "<style scoped>\n",
              "    .dataframe tbody tr th:only-of-type {\n",
              "        vertical-align: middle;\n",
              "    }\n",
              "\n",
              "    .dataframe tbody tr th {\n",
              "        vertical-align: top;\n",
              "    }\n",
              "\n",
              "    .dataframe thead th {\n",
              "        text-align: right;\n",
              "    }\n",
              "</style>\n",
              "<table border=\"1\" class=\"dataframe\">\n",
              "  <thead>\n",
              "    <tr style=\"text-align: right;\">\n",
              "      <th></th>\n",
              "      <th>index</th>\n",
              "      <th>text</th>\n",
              "      <th>label</th>\n",
              "    </tr>\n",
              "  </thead>\n",
              "  <tbody>\n",
              "    <tr>\n",
              "      <th>0</th>\n",
              "      <td>0</td>\n",
              "      <td>some people have become so dependent on psychi...</td>\n",
              "      <td>Kekerasan Psikis</td>\n",
              "    </tr>\n",
              "    <tr>\n",
              "      <th>1</th>\n",
              "      <td>1</td>\n",
              "      <td>franzen has always been fond of putting his ch...</td>\n",
              "      <td>Kekerasan Psikis</td>\n",
              "    </tr>\n",
              "    <tr>\n",
              "      <th>2</th>\n",
              "      <td>2</td>\n",
              "      <td>guilt and shame add to their psychic state</td>\n",
              "      <td>Kekerasan Psikis</td>\n",
              "    </tr>\n",
              "    <tr>\n",
              "      <th>3</th>\n",
              "      <td>3</td>\n",
              "      <td>it s a psychic space in which you feel at once...</td>\n",
              "      <td>Kekerasan Psikis</td>\n",
              "    </tr>\n",
              "    <tr>\n",
              "      <th>4</th>\n",
              "      <td>4</td>\n",
              "      <td>some were trampled in the rush and others surv...</td>\n",
              "      <td>Kekerasan Psikis</td>\n",
              "    </tr>\n",
              "  </tbody>\n",
              "</table>\n",
              "</div>"
            ],
            "text/plain": [
              "   index                                               text             label\n",
              "0      0  some people have become so dependent on psychi...  Kekerasan Psikis\n",
              "1      1  franzen has always been fond of putting his ch...  Kekerasan Psikis\n",
              "2      2         guilt and shame add to their psychic state  Kekerasan Psikis\n",
              "3      3  it s a psychic space in which you feel at once...  Kekerasan Psikis\n",
              "4      4  some were trampled in the rush and others surv...  Kekerasan Psikis"
            ]
          },
          "metadata": {
            "tags": []
          },
          "execution_count": 77
        }
      ]
    },
    {
      "cell_type": "code",
      "metadata": {
        "id": "L8jPpK0qMVKt"
      },
      "source": [
        "#Adjust columns between two datasets\n",
        "df_initial.rename(columns={'label_laporan': 'label'}, inplace = True)\n",
        "df_initial.drop(columns=['index', 'label_post'], inplace=True)\n",
        "df_laporan = df_laporan.drop(columns=['index'])"
      ],
      "execution_count": null,
      "outputs": []
    },
    {
      "cell_type": "code",
      "metadata": {
        "colab": {
          "base_uri": "https://localhost:8080/"
        },
        "id": "r03fXfrYMWnB",
        "outputId": "e175d880-ba09-4da7-9165-f1b55a0adbbb"
      },
      "source": [
        "df_initial.head()"
      ],
      "execution_count": null,
      "outputs": [
        {
          "output_type": "execute_result",
          "data": {
            "text/html": [
              "<div>\n",
              "<style scoped>\n",
              "    .dataframe tbody tr th:only-of-type {\n",
              "        vertical-align: middle;\n",
              "    }\n",
              "\n",
              "    .dataframe tbody tr th {\n",
              "        vertical-align: top;\n",
              "    }\n",
              "\n",
              "    .dataframe thead th {\n",
              "        text-align: right;\n",
              "    }\n",
              "</style>\n",
              "<table border=\"1\" class=\"dataframe\">\n",
              "  <thead>\n",
              "    <tr style=\"text-align: right;\">\n",
              "      <th></th>\n",
              "      <th>text</th>\n",
              "      <th>label</th>\n",
              "    </tr>\n",
              "  </thead>\n",
              "  <tbody>\n",
              "    <tr>\n",
              "      <th>0</th>\n",
              "      <td>the ironies of the movement are too painfully ...</td>\n",
              "      <td>Kekerasan Psikis</td>\n",
              "    </tr>\n",
              "    <tr>\n",
              "      <th>1</th>\n",
              "      <td>women in kuwait have launched a social media c...</td>\n",
              "      <td>Kekerasan Psikis</td>\n",
              "    </tr>\n",
              "    <tr>\n",
              "      <th>2</th>\n",
              "      <td>triger warning raising awareness of sexual ass...</td>\n",
              "      <td>Penelantaran</td>\n",
              "    </tr>\n",
              "    <tr>\n",
              "      <th>3</th>\n",
              "      <td>charges brought against the guy that smacked m...</td>\n",
              "      <td>Kekerasan Fisik</td>\n",
              "    </tr>\n",
              "    <tr>\n",
              "      <th>4</th>\n",
              "      <td>and the fourth presenter on th may is hannah b...</td>\n",
              "      <td>Kekerasan Lainnya</td>\n",
              "    </tr>\n",
              "  </tbody>\n",
              "</table>\n",
              "</div>"
            ],
            "text/plain": [
              "                                                text              label\n",
              "0  the ironies of the movement are too painfully ...   Kekerasan Psikis\n",
              "1  women in kuwait have launched a social media c...   Kekerasan Psikis\n",
              "2  triger warning raising awareness of sexual ass...       Penelantaran\n",
              "3  charges brought against the guy that smacked m...    Kekerasan Fisik\n",
              "4  and the fourth presenter on th may is hannah b...  Kekerasan Lainnya"
            ]
          },
          "metadata": {
            "tags": []
          },
          "execution_count": 79
        }
      ]
    },
    {
      "cell_type": "code",
      "metadata": {
        "colab": {
          "base_uri": "https://localhost:8080/"
        },
        "id": "HFU_jIReMX4o",
        "outputId": "dbe19549-4642-44ad-d09f-ad0c4be654cc"
      },
      "source": [
        "df_laporan.head()"
      ],
      "execution_count": null,
      "outputs": [
        {
          "output_type": "execute_result",
          "data": {
            "text/html": [
              "<div>\n",
              "<style scoped>\n",
              "    .dataframe tbody tr th:only-of-type {\n",
              "        vertical-align: middle;\n",
              "    }\n",
              "\n",
              "    .dataframe tbody tr th {\n",
              "        vertical-align: top;\n",
              "    }\n",
              "\n",
              "    .dataframe thead th {\n",
              "        text-align: right;\n",
              "    }\n",
              "</style>\n",
              "<table border=\"1\" class=\"dataframe\">\n",
              "  <thead>\n",
              "    <tr style=\"text-align: right;\">\n",
              "      <th></th>\n",
              "      <th>text</th>\n",
              "      <th>label</th>\n",
              "    </tr>\n",
              "  </thead>\n",
              "  <tbody>\n",
              "    <tr>\n",
              "      <th>0</th>\n",
              "      <td>some people have become so dependent on psychi...</td>\n",
              "      <td>Kekerasan Psikis</td>\n",
              "    </tr>\n",
              "    <tr>\n",
              "      <th>1</th>\n",
              "      <td>franzen has always been fond of putting his ch...</td>\n",
              "      <td>Kekerasan Psikis</td>\n",
              "    </tr>\n",
              "    <tr>\n",
              "      <th>2</th>\n",
              "      <td>guilt and shame add to their psychic state</td>\n",
              "      <td>Kekerasan Psikis</td>\n",
              "    </tr>\n",
              "    <tr>\n",
              "      <th>3</th>\n",
              "      <td>it s a psychic space in which you feel at once...</td>\n",
              "      <td>Kekerasan Psikis</td>\n",
              "    </tr>\n",
              "    <tr>\n",
              "      <th>4</th>\n",
              "      <td>some were trampled in the rush and others surv...</td>\n",
              "      <td>Kekerasan Psikis</td>\n",
              "    </tr>\n",
              "  </tbody>\n",
              "</table>\n",
              "</div>"
            ],
            "text/plain": [
              "                                                text             label\n",
              "0  some people have become so dependent on psychi...  Kekerasan Psikis\n",
              "1  franzen has always been fond of putting his ch...  Kekerasan Psikis\n",
              "2         guilt and shame add to their psychic state  Kekerasan Psikis\n",
              "3  it s a psychic space in which you feel at once...  Kekerasan Psikis\n",
              "4  some were trampled in the rush and others surv...  Kekerasan Psikis"
            ]
          },
          "metadata": {
            "tags": []
          },
          "execution_count": 80
        }
      ]
    },
    {
      "cell_type": "code",
      "metadata": {
        "id": "8M_jMl3HMbEI"
      },
      "source": [
        "#Merging two datasets\n",
        "df_final_laporan = pd.concat([df_initial, df_laporan])"
      ],
      "execution_count": null,
      "outputs": []
    },
    {
      "cell_type": "code",
      "metadata": {
        "id": "PnSv7FGJMi51"
      },
      "source": [
        "#Create Index\n",
        "df_final_laporan['index'] = range(0, len(df_final_laporan.index), 1)"
      ],
      "execution_count": null,
      "outputs": []
    },
    {
      "cell_type": "code",
      "metadata": {
        "colab": {
          "base_uri": "https://localhost:8080/"
        },
        "id": "c8YpXz11Mkoj",
        "outputId": "f27287ad-c3c9-4dce-a3e4-24da2a6908b0"
      },
      "source": [
        "df_final_laporan['label'].value_counts()"
      ],
      "execution_count": null,
      "outputs": [
        {
          "output_type": "execute_result",
          "data": {
            "text/plain": [
              "Kekerasan Lainnya      8313\n",
              "Kekerasan Fisik        1922\n",
              "Kekerasan Seksual      1864\n",
              "Kekerasan Psikis       1800\n",
              "Eksploitasi Seksual    1295\n",
              "Penelantaran           1135\n",
              "Eksploitasi             911\n",
              "Name: label, dtype: int64"
            ]
          },
          "metadata": {
            "tags": []
          },
          "execution_count": 83
        }
      ]
    },
    {
      "cell_type": "code",
      "metadata": {
        "id": "wg6pkVwDMmAI"
      },
      "source": [
        "#Save DataFrame to CSV\n",
        "df_final_laporan.to_csv(\"capstonetweetlaporanlabelled.csv\", index=False)"
      ],
      "execution_count": null,
      "outputs": []
    }
  ]
}